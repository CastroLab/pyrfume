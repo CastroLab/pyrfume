{
 "cells": [
  {
   "cell_type": "code",
   "execution_count": null,
   "metadata": {},
   "outputs": [],
   "source": [
    "file_path = os.path.join(pyrfume.DATA, 'westeros', 'molecules.csv')\n",
    "leffingwell_data_raw = pd.read_csv(file_path, sep='\\t')"
   ]
  },
  {
   "cell_type": "code",
   "execution_count": null,
   "metadata": {},
   "outputs": [],
   "source": [
    "results = odorants.get_cids(leffingwell_data_raw['smiles'], kind='SMILES', verbose=False)"
   ]
  },
  {
   "cell_type": "code",
   "execution_count": null,
   "metadata": {},
   "outputs": [],
   "source": [
    "leffingwell_data = pd.Series(results, name='CID').to_frame().join(leffingwell_data_raw.set_index('smiles'))\n",
    "leffingwell_data.head()"
   ]
  },
  {
   "cell_type": "code",
   "execution_count": null,
   "metadata": {},
   "outputs": [],
   "source": [
    "for smiles in leffingwell_data[leffingwell_data['CID']==0].index:\n",
    "    name = leffingwell_data.loc[smiles, 'chemical_name']\n",
    "    mol = Chem.MolFromSmiles(smiles)\n",
    "    if mol is None:\n",
    "        print(\"Bad smiles: %s\" % smiles)\n",
    "    else:\n",
    "        smiles = Chem.MolToSmiles(mol, isomericSmiles=True)\n",
    "    cid = odorants.get_cid(smiles, kind='smiles', verbose=True)\n",
    "    if cid:\n",
    "        print(name, cid)\n",
    "    else:\n",
    "        print(name, smiles)"
   ]
  },
  {
   "cell_type": "code",
   "execution_count": null,
   "metadata": {},
   "outputs": [],
   "source": [
    "leffingwell_data = pd.Series(results, name='CID').to_frame().join(leffingwell_data_raw.set_index('smiles'))\n",
    "leffingwell_data[leffingwell_data['CID']==0]"
   ]
  },
  {
   "cell_type": "code",
   "execution_count": null,
   "metadata": {},
   "outputs": [],
   "source": [
    "x = leffingwell_data.reset_index().set_index('chemical_name')\n",
    "#x.loc['calcium alginate', 0]\n",
    "x[x['CID']==0].head()"
   ]
  },
  {
   "cell_type": "code",
   "execution_count": null,
   "metadata": {},
   "outputs": [],
   "source": [
    "file_path = os.path.join(pyrfume.DATA, 'westeros', 'westeros.csv')\n",
    "leffingwell_data.to_csv(file_path)"
   ]
  }
 ],
 "metadata": {
  "kernelspec": {
   "display_name": "Python 3",
   "language": "python",
   "name": "python3"
  },
  "language_info": {
   "codemirror_mode": {
    "name": "ipython",
    "version": 3
   },
   "file_extension": ".py",
   "mimetype": "text/x-python",
   "name": "python",
   "nbconvert_exporter": "python",
   "pygments_lexer": "ipython3",
   "version": "3.7.6"
  }
 },
 "nbformat": 4,
 "nbformat_minor": 4
}
