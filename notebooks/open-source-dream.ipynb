{
 "cells": [
  {
   "cell_type": "markdown",
   "metadata": {},
   "source": [
    "# Creation of an open source model for DREAM descriptor prediction"
   ]
  },
  {
   "cell_type": "markdown",
   "metadata": {},
   "source": [
    "### Preliminaries and Imports"
   ]
  },
  {
   "cell_type": "code",
   "execution_count": 1,
   "metadata": {},
   "outputs": [],
   "source": [
    "%load_ext autoreload\n",
    "%autoreload 2"
   ]
  },
  {
   "cell_type": "code",
   "execution_count": 2,
   "metadata": {},
   "outputs": [],
   "source": [
    "from missingpy import KNNImputer\n",
    "import mordred\n",
    "import opc_python.utils.loading as dream_loading\n",
    "import numpy as np\n",
    "import pandas as pd\n",
    "import pickle\n",
    "from pyrfume.odorants import from_cids, all_smiles\n",
    "from pyrfume.features import smiles_to_mordred, smiles_to_morgan, smiles_to_morgan_sim\n",
    "from rickpy import ProgressBar\n",
    "import rdkit\n",
    "from sklearn.ensemble import RandomForestRegressor\n",
    "from sklearn.metrics import make_scorer\n",
    "from sklearn.model_selection import cross_val_score, cross_validate\n",
    "from sklearn.multioutput import MultiOutputRegressor"
   ]
  },
  {
   "cell_type": "markdown",
   "metadata": {},
   "source": [
    "### Load the perceptual data from Keller and Vosshall, 2016"
   ]
  },
  {
   "cell_type": "code",
   "execution_count": 3,
   "metadata": {},
   "outputs": [],
   "source": [
    "kv2016_perceptual_data = dream_loading.load_raw_bmc_data()\n",
    "kv2016_perceptual_data = dream_loading.format_bmc_data(kv2016_perceptual_data,\n",
    "                                                       only_dream_subjects=False, # Whether to only keep DREAM subjects\n",
    "                                                       only_dream_descriptors=True, # Whether to only keep DREAM descriptors\n",
    "                                                       only_dream_molecules=True) # Whether to only keep DREAM molecules)"
   ]
  },
  {
   "cell_type": "code",
   "execution_count": 4,
   "metadata": {},
   "outputs": [],
   "source": [
    "# Get the list of PubChem IDs from this data\n",
    "kv_cids = list(kv2016_perceptual_data.index.get_level_values('CID').unique())"
   ]
  },
  {
   "cell_type": "code",
   "execution_count": 7,
   "metadata": {},
   "outputs": [
    {
     "data": {
      "text/plain": [
       "False"
      ]
     },
     "execution_count": 7,
     "metadata": {},
     "output_type": "execute_result"
    }
   ],
   "source": [
    "   in kv_cids"
   ]
  },
  {
   "cell_type": "code",
   "execution_count": 6,
   "metadata": {},
   "outputs": [
    {
     "name": "stdout",
     "output_type": "stream",
     "text": [
      "[-----------------------100%---------------------] 476 out of 476 complete (Retrieved 400 through 475) "
     ]
    },
    {
     "data": {
      "text/plain": [
       "126     C1=CC(=CC=C1C=O)O\n",
       "176               CC(=O)O\n",
       "177                  CC=O\n",
       "180               CC(=O)C\n",
       "196    C(CCC(=O)O)CC(=O)O\n",
       "dtype: object"
      ]
     },
     "execution_count": 6,
     "metadata": {},
     "output_type": "execute_result"
    }
   ],
   "source": [
    "# Get information from PubChem about these molecules\n",
    "info = from_cids(kv_cids)\n",
    "# Make a Pandas series relating PubChem IDs to SMILES strings\n",
    "smiles = pd.Series(index=kv_cids, data=[x['IsomericSMILES'] for x in info])\n",
    "smiles.head()"
   ]
  },
  {
   "cell_type": "markdown",
   "metadata": {},
   "source": [
    "### Compute physicochemical features for the DREAM data (and some other molecules)"
   ]
  },
  {
   "cell_type": "code",
   "execution_count": 76,
   "metadata": {},
   "outputs": [],
   "source": [
    "# Get a list of all SMILES strings from the Pyrfume library\n",
    "ref_smiles = list(set(all_smiles()))"
   ]
  },
  {
   "cell_type": "code",
   "execution_count": 77,
   "metadata": {},
   "outputs": [
    {
     "name": "stdout",
     "output_type": "stream",
     "text": [
      "[-----------------------100%---------------------] 9762 out of 9762 complete (Finished embedding all molecules)\n",
      "Computing Mordred features...\n"
     ]
    },
    {
     "name": "stderr",
     "output_type": "stream",
     "text": [
      "  0%|          | 7/9729 [00:08<5:24:27,  2.00s/it] "
     ]
    },
    {
     "name": "stdout",
     "output_type": "stream",
     "text": [
      "/opt/conda/lib/python3.7/site-packages/numpy/core/fromnumeric.py:90: RuntimeWarning: overflow encountered in reduce\n",
      "  return ufunc.reduce(obj, axis, dtype, out, **passkwargs)\n"
     ]
    },
    {
     "name": "stderr",
     "output_type": "stream",
     "text": [
      "  2%|▏         | 157/9729 [00:15<06:47, 23.49it/s] "
     ]
    },
    {
     "name": "stdout",
     "output_type": "stream",
     "text": [
      "/opt/conda/lib/python3.7/site-packages/numpy/core/fromnumeric.py:90: RuntimeWarning: overflow encountered in reduce\n",
      "  return ufunc.reduce(obj, axis, dtype, out, **passkwargs)\n"
     ]
    },
    {
     "name": "stderr",
     "output_type": "stream",
     "text": [
      "  4%|▍         | 407/9729 [00:29<08:03, 19.28it/s]"
     ]
    },
    {
     "name": "stdout",
     "output_type": "stream",
     "text": [
      "/opt/conda/lib/python3.7/site-packages/numpy/core/fromnumeric.py:90: RuntimeWarning: overflow encountered in reduce\n",
      "  return ufunc.reduce(obj, axis, dtype, out, **passkwargs)\n"
     ]
    },
    {
     "name": "stderr",
     "output_type": "stream",
     "text": [
      "  4%|▍         | 436/9729 [00:30<07:50, 19.74it/s]"
     ]
    },
    {
     "name": "stdout",
     "output_type": "stream",
     "text": [
      "/opt/conda/lib/python3.7/site-packages/numpy/core/fromnumeric.py:90: RuntimeWarning: overflow encountered in reduce\n",
      "  return ufunc.reduce(obj, axis, dtype, out, **passkwargs)\n"
     ]
    },
    {
     "name": "stderr",
     "output_type": "stream",
     "text": [
      "  8%|▊         | 819/9729 [00:50<08:19, 17.83it/s]"
     ]
    },
    {
     "name": "stdout",
     "output_type": "stream",
     "text": [
      "/opt/conda/lib/python3.7/site-packages/numpy/core/fromnumeric.py:90: RuntimeWarning: overflow encountered in reduce\n",
      "  return ufunc.reduce(obj, axis, dtype, out, **passkwargs)\n"
     ]
    },
    {
     "name": "stderr",
     "output_type": "stream",
     "text": [
      "  9%|▊         | 829/9729 [00:51<11:14, 13.20it/s]"
     ]
    },
    {
     "name": "stdout",
     "output_type": "stream",
     "text": [
      "/opt/conda/lib/python3.7/site-packages/numpy/core/fromnumeric.py:90: RuntimeWarning: overflow encountered in reduce\n",
      "  return ufunc.reduce(obj, axis, dtype, out, **passkwargs)\n"
     ]
    },
    {
     "name": "stderr",
     "output_type": "stream",
     "text": [
      "  9%|▉         | 889/9729 [00:55<08:28, 17.39it/s]"
     ]
    },
    {
     "name": "stdout",
     "output_type": "stream",
     "text": [
      "/opt/conda/lib/python3.7/site-packages/numpy/core/fromnumeric.py:90: RuntimeWarning: overflow encountered in reduce\n",
      "  return ufunc.reduce(obj, axis, dtype, out, **passkwargs)\n"
     ]
    },
    {
     "name": "stderr",
     "output_type": "stream",
     "text": [
      " 10%|▉         | 940/9729 [00:58<06:46, 21.63it/s]"
     ]
    },
    {
     "name": "stdout",
     "output_type": "stream",
     "text": [
      "/opt/conda/lib/python3.7/site-packages/numpy/core/fromnumeric.py:90: RuntimeWarning: overflow encountered in reduce\n",
      "  return ufunc.reduce(obj, axis, dtype, out, **passkwargs)\n"
     ]
    },
    {
     "name": "stderr",
     "output_type": "stream",
     "text": [
      " 10%|█         | 993/9729 [01:00<08:25, 17.29it/s]"
     ]
    },
    {
     "name": "stdout",
     "output_type": "stream",
     "text": [
      "/opt/conda/lib/python3.7/site-packages/numpy/core/fromnumeric.py:90: RuntimeWarning: overflow encountered in reduce\n",
      "  return ufunc.reduce(obj, axis, dtype, out, **passkwargs)\n"
     ]
    },
    {
     "name": "stderr",
     "output_type": "stream",
     "text": [
      " 11%|█         | 1086/9729 [01:06<08:15, 17.43it/s]"
     ]
    },
    {
     "name": "stdout",
     "output_type": "stream",
     "text": [
      "/opt/conda/lib/python3.7/site-packages/numpy/core/fromnumeric.py:90: RuntimeWarning: overflow encountered in reduce\n",
      "  return ufunc.reduce(obj, axis, dtype, out, **passkwargs)\n"
     ]
    },
    {
     "name": "stderr",
     "output_type": "stream",
     "text": [
      " 12%|█▏        | 1134/9729 [01:08<05:54, 24.24it/s]"
     ]
    },
    {
     "name": "stdout",
     "output_type": "stream",
     "text": [
      "/opt/conda/lib/python3.7/site-packages/numpy/core/fromnumeric.py:90: RuntimeWarning: overflow encountered in reduce\n",
      "  return ufunc.reduce(obj, axis, dtype, out, **passkwargs)\n"
     ]
    },
    {
     "name": "stderr",
     "output_type": "stream",
     "text": [
      " 17%|█▋        | 1683/9729 [01:34<08:54, 15.04it/s]"
     ]
    },
    {
     "name": "stdout",
     "output_type": "stream",
     "text": [
      "/opt/conda/lib/python3.7/site-packages/numpy/core/fromnumeric.py:90: RuntimeWarning: overflow encountered in reduce\n",
      "  return ufunc.reduce(obj, axis, dtype, out, **passkwargs)\n"
     ]
    },
    {
     "name": "stderr",
     "output_type": "stream",
     "text": [
      " 18%|█▊        | 1752/9729 [01:38<10:23, 12.80it/s]"
     ]
    },
    {
     "name": "stdout",
     "output_type": "stream",
     "text": [
      "/opt/conda/lib/python3.7/site-packages/numpy/core/fromnumeric.py:90: RuntimeWarning: overflow encountered in reduce\n",
      "  return ufunc.reduce(obj, axis, dtype, out, **passkwargs)\n"
     ]
    },
    {
     "name": "stderr",
     "output_type": "stream",
     "text": [
      " 19%|█▊        | 1818/9729 [01:43<09:37, 13.70it/s]"
     ]
    },
    {
     "name": "stdout",
     "output_type": "stream",
     "text": [
      "/opt/conda/lib/python3.7/site-packages/numpy/core/fromnumeric.py:90: RuntimeWarning: overflow encountered in reduce\n",
      "  return ufunc.reduce(obj, axis, dtype, out, **passkwargs)\n"
     ]
    },
    {
     "name": "stderr",
     "output_type": "stream",
     "text": [
      " 19%|█▉        | 1889/9729 [01:46<06:20, 20.58it/s]"
     ]
    },
    {
     "name": "stdout",
     "output_type": "stream",
     "text": [
      "/opt/conda/lib/python3.7/site-packages/numpy/core/fromnumeric.py:90: RuntimeWarning: overflow encountered in reduce\n",
      "  return ufunc.reduce(obj, axis, dtype, out, **passkwargs)\n"
     ]
    },
    {
     "name": "stderr",
     "output_type": "stream",
     "text": [
      " 20%|█▉        | 1936/9729 [01:48<05:02, 25.78it/s]"
     ]
    },
    {
     "name": "stdout",
     "output_type": "stream",
     "text": [
      "/opt/conda/lib/python3.7/site-packages/numpy/core/fromnumeric.py:90: RuntimeWarning: overflow encountered in reduce\n",
      "  return ufunc.reduce(obj, axis, dtype, out, **passkwargs)\n"
     ]
    },
    {
     "name": "stderr",
     "output_type": "stream",
     "text": [
      " 23%|██▎       | 2215/9729 [02:02<06:40, 18.75it/s]"
     ]
    },
    {
     "name": "stdout",
     "output_type": "stream",
     "text": [
      "/opt/conda/lib/python3.7/site-packages/numpy/core/fromnumeric.py:90: RuntimeWarning: overflow encountered in reduce\n",
      "  return ufunc.reduce(obj, axis, dtype, out, **passkwargs)\n"
     ]
    },
    {
     "name": "stderr",
     "output_type": "stream",
     "text": [
      " 25%|██▍       | 2407/9729 [02:13<06:09, 19.80it/s]"
     ]
    },
    {
     "name": "stdout",
     "output_type": "stream",
     "text": [
      "/opt/conda/lib/python3.7/site-packages/numpy/core/fromnumeric.py:90: RuntimeWarning: overflow encountered in reduce\n",
      "  return ufunc.reduce(obj, axis, dtype, out, **passkwargs)\n"
     ]
    },
    {
     "name": "stderr",
     "output_type": "stream",
     "text": [
      " 31%|███       | 2978/9729 [02:45<07:00, 16.06it/s]"
     ]
    },
    {
     "name": "stdout",
     "output_type": "stream",
     "text": [
      "/opt/conda/lib/python3.7/site-packages/numpy/core/fromnumeric.py:90: RuntimeWarning: overflow encountered in reduce\n",
      "  return ufunc.reduce(obj, axis, dtype, out, **passkwargs)\n"
     ]
    },
    {
     "name": "stderr",
     "output_type": "stream",
     "text": [
      " 32%|███▏      | 3116/9729 [02:52<04:58, 22.18it/s]"
     ]
    },
    {
     "name": "stdout",
     "output_type": "stream",
     "text": [
      "/opt/conda/lib/python3.7/site-packages/numpy/core/fromnumeric.py:90: RuntimeWarning: overflow encountered in reduce\n",
      "  return ufunc.reduce(obj, axis, dtype, out, **passkwargs)\n"
     ]
    },
    {
     "name": "stderr",
     "output_type": "stream",
     "text": [
      " 36%|███▌      | 3520/9729 [03:13<05:09, 20.04it/s]"
     ]
    },
    {
     "name": "stdout",
     "output_type": "stream",
     "text": [
      "/opt/conda/lib/python3.7/site-packages/numpy/core/fromnumeric.py:90: RuntimeWarning: overflow encountered in reduce\n",
      "  return ufunc.reduce(obj, axis, dtype, out, **passkwargs)\n"
     ]
    },
    {
     "name": "stderr",
     "output_type": "stream",
     "text": [
      " 39%|███▊      | 3760/9729 [03:27<13:39,  7.28it/s]"
     ]
    },
    {
     "name": "stdout",
     "output_type": "stream",
     "text": [
      "/opt/conda/lib/python3.7/site-packages/numpy/core/fromnumeric.py:90: RuntimeWarning: overflow encountered in reduce\n",
      "  return ufunc.reduce(obj, axis, dtype, out, **passkwargs)\n"
     ]
    },
    {
     "name": "stderr",
     "output_type": "stream",
     "text": [
      " 44%|████▎     | 4243/9729 [03:50<04:39, 19.62it/s]"
     ]
    },
    {
     "name": "stdout",
     "output_type": "stream",
     "text": [
      "/opt/conda/lib/python3.7/site-packages/numpy/core/fromnumeric.py:90: RuntimeWarning: overflow encountered in reduce\n",
      "  return ufunc.reduce(obj, axis, dtype, out, **passkwargs)\n"
     ]
    },
    {
     "name": "stderr",
     "output_type": "stream",
     "text": [
      " 48%|████▊     | 4682/9729 [04:10<03:58, 21.17it/s]"
     ]
    },
    {
     "name": "stdout",
     "output_type": "stream",
     "text": [
      "/opt/conda/lib/python3.7/site-packages/numpy/core/fromnumeric.py:90: RuntimeWarning: overflow encountered in reduce\n",
      "  return ufunc.reduce(obj, axis, dtype, out, **passkwargs)\n"
     ]
    },
    {
     "name": "stderr",
     "output_type": "stream",
     "text": [
      " 49%|████▉     | 4803/9729 [04:17<05:44, 14.28it/s]"
     ]
    },
    {
     "name": "stdout",
     "output_type": "stream",
     "text": [
      "/opt/conda/lib/python3.7/site-packages/numpy/core/fromnumeric.py:90: RuntimeWarning: overflow encountered in reduce\n",
      "  return ufunc.reduce(obj, axis, dtype, out, **passkwargs)\n"
     ]
    },
    {
     "name": "stderr",
     "output_type": "stream",
     "text": [
      " 60%|██████    | 5838/9729 [05:11<05:23, 12.03it/s]"
     ]
    },
    {
     "name": "stdout",
     "output_type": "stream",
     "text": [
      "/opt/conda/lib/python3.7/site-packages/numpy/core/fromnumeric.py:90: RuntimeWarning: overflow encountered in reduce\n",
      "  return ufunc.reduce(obj, axis, dtype, out, **passkwargs)\n"
     ]
    },
    {
     "name": "stderr",
     "output_type": "stream",
     "text": [
      " 76%|███████▋  | 7440/9729 [06:40<01:57, 19.47it/s]"
     ]
    },
    {
     "name": "stdout",
     "output_type": "stream",
     "text": [
      "/opt/conda/lib/python3.7/site-packages/numpy/core/fromnumeric.py:90: RuntimeWarning: overflow encountered in reduce\n",
      "  return ufunc.reduce(obj, axis, dtype, out, **passkwargs)\n"
     ]
    },
    {
     "name": "stderr",
     "output_type": "stream",
     "text": [
      " 87%|████████▋ | 8466/9729 [07:32<03:32,  5.95it/s]"
     ]
    },
    {
     "name": "stdout",
     "output_type": "stream",
     "text": [
      "/opt/conda/lib/python3.7/site-packages/numpy/core/fromnumeric.py:90: RuntimeWarning: overflow encountered in reduce\n",
      "  return ufunc.reduce(obj, axis, dtype, out, **passkwargs)\n"
     ]
    },
    {
     "name": "stderr",
     "output_type": "stream",
     "text": [
      " 87%|████████▋ | 8511/9729 [07:35<01:22, 14.76it/s]"
     ]
    },
    {
     "name": "stdout",
     "output_type": "stream",
     "text": [
      "/opt/conda/lib/python3.7/site-packages/numpy/core/fromnumeric.py:90: RuntimeWarning: overflow encountered in reduce\n",
      "  return ufunc.reduce(obj, axis, dtype, out, **passkwargs)\n"
     ]
    },
    {
     "name": "stderr",
     "output_type": "stream",
     "text": [
      " 88%|████████▊ | 8531/9729 [07:38<05:11,  3.84it/s]"
     ]
    },
    {
     "name": "stdout",
     "output_type": "stream",
     "text": [
      "/opt/conda/lib/python3.7/site-packages/numpy/core/fromnumeric.py:90: RuntimeWarning: overflow encountered in reduce\n",
      "  return ufunc.reduce(obj, axis, dtype, out, **passkwargs)\n"
     ]
    },
    {
     "name": "stderr",
     "output_type": "stream",
     "text": [
      " 97%|█████████▋| 9468/9729 [09:11<00:11, 21.81it/s]  "
     ]
    },
    {
     "name": "stdout",
     "output_type": "stream",
     "text": [
      "/opt/conda/lib/python3.7/site-packages/numpy/core/fromnumeric.py:90: RuntimeWarning: overflow encountered in reduce\n",
      "  return ufunc.reduce(obj, axis, dtype, out, **passkwargs)\n"
     ]
    },
    {
     "name": "stderr",
     "output_type": "stream",
     "text": [
      "100%|██████████| 9729/9729 [09:25<00:00, 17.20it/s]\n"
     ]
    },
    {
     "name": "stdout",
     "output_type": "stream",
     "text": [
      "There are 9729 molecules and 1826 features\n"
     ]
    }
   ],
   "source": [
    "mordred_features_ref = smiles_to_mordred(ref_smiles)"
   ]
  },
  {
   "cell_type": "code",
   "execution_count": 18,
   "metadata": {},
   "outputs": [
    {
     "data": {
      "text/plain": [
       "KNNImputer(col_max_missing=1, copy=True, metric='masked_euclidean',\n",
       "           missing_values='NaN', n_neighbors=10, row_max_missing=0.5,\n",
       "           weights='uniform')"
      ]
     },
     "execution_count": 18,
     "metadata": {},
     "output_type": "execute_result"
    }
   ],
   "source": [
    "# A KNN imputer instance\n",
    "imputer_knn = KNNImputer(n_neighbors=10, col_max_missing=1)\n",
    "X = mordred_features_ref.astype(float)\n",
    "imputer_knn.fit(X)"
   ]
  },
  {
   "cell_type": "code",
   "execution_count": 20,
   "metadata": {},
   "outputs": [
    {
     "name": "stdout",
     "output_type": "stream",
     "text": [
      "[-----------------------100%---------------------] 476 out of 476 complete (Finished embedding all molecules)   \n",
      "Computing Mordred features...\n"
     ]
    },
    {
     "name": "stderr",
     "output_type": "stream",
     "text": [
      "100%|██████████| 476/476 [00:17<00:00, 27.63it/s]\n"
     ]
    },
    {
     "name": "stdout",
     "output_type": "stream",
     "text": [
      "There are 476 molecules and 1826 features\n"
     ]
    }
   ],
   "source": [
    "# Compute Mordred features from these SMILES strings\n",
    "mordred_features = smiles_to_mordred(smiles.values)"
   ]
  },
  {
   "cell_type": "code",
   "execution_count": 42,
   "metadata": {},
   "outputs": [
    {
     "name": "stderr",
     "output_type": "stream",
     "text": [
      "/home/rgerkin/dev/missingpy/missingpy/knnimpute.py:143: UserWarning: Insufficient number of neighbors! Filling in column mean.\n",
      "  warnings.warn(\"Insufficient number of neighbors! \"\n"
     ]
    }
   ],
   "source": [
    "# The computed Mordred features as floats (so errors become NaNs)\n",
    "X = mordred_features.astype(float)\n",
    "# Whether a column (one feature, many molecules) has at least 50% non-NaN values\n",
    "is_good_col = X.isnull().mean() < 0.5\n",
    "# The list of such \"good\" columns (i.e. well-behaved features)\n",
    "good_cols = is_good_col[is_good_col].index\n",
    "# Impute the missing (NaN) values\n",
    "X[:] = imputer_knn.fit_transform(X)\n",
    "# Restrict Mordred features to those from the good columns, even after imputation\n",
    "X = X[good_cols] \n",
    "# Put back into a dataframe\n",
    "mordred_features_knn = pd.DataFrame(index=mordred_features.index, columns=good_cols, data=X)"
   ]
  },
  {
   "cell_type": "code",
   "execution_count": 92,
   "metadata": {},
   "outputs": [
    {
     "name": "stdout",
     "output_type": "stream",
     "text": [
      "9762 similarity features for 476 molecules\n"
     ]
    }
   ],
   "source": [
    "# Compute Morgan fingerprint similarities from these SMILES strings\n",
    "morgan_sim_features = smiles_to_morgan_sim(smiles.values, ref_smiles)"
   ]
  },
  {
   "cell_type": "code",
   "execution_count": 93,
   "metadata": {},
   "outputs": [
    {
     "data": {
      "text/plain": [
       "(9762, 9762)"
      ]
     },
     "execution_count": 93,
     "metadata": {},
     "output_type": "execute_result"
    }
   ],
   "source": [
    "len(ref_smiles), len(set(ref_smiles))"
   ]
  },
  {
   "cell_type": "code",
   "execution_count": 94,
   "metadata": {},
   "outputs": [
    {
     "data": {
      "text/plain": [
       "(9762, 9762)"
      ]
     },
     "execution_count": 94,
     "metadata": {},
     "output_type": "execute_result"
    }
   ],
   "source": [
    "len(list(morgan_sim_features)), len(set(morgan_sim_features))"
   ]
  },
  {
   "cell_type": "code",
   "execution_count": 95,
   "metadata": {},
   "outputs": [
    {
     "data": {
      "text/html": [
       "<div>\n",
       "<style scoped>\n",
       "    .dataframe tbody tr th:only-of-type {\n",
       "        vertical-align: middle;\n",
       "    }\n",
       "\n",
       "    .dataframe tbody tr th {\n",
       "        vertical-align: top;\n",
       "    }\n",
       "\n",
       "    .dataframe thead th {\n",
       "        text-align: right;\n",
       "    }\n",
       "</style>\n",
       "<table border=\"1\" class=\"dataframe\">\n",
       "  <thead>\n",
       "    <tr style=\"text-align: right;\">\n",
       "      <th></th>\n",
       "      <th>ABC</th>\n",
       "      <th>ABCGG</th>\n",
       "      <th>nAcid</th>\n",
       "      <th>nBase</th>\n",
       "      <th>SpAbs_A</th>\n",
       "      <th>SpMax_A</th>\n",
       "      <th>SpDiam_A</th>\n",
       "      <th>SpAD_A</th>\n",
       "      <th>SpMAD_A</th>\n",
       "      <th>LogEE_A</th>\n",
       "      <th>...</th>\n",
       "      <th>C/C=C/CCCO</th>\n",
       "      <th>C[C@@H]1CC[C@H]([C@H](C1)NC(=O)C2CC2)C(C)C</th>\n",
       "      <th>COC1=C(C=C(C=C1Br)Br)Br</th>\n",
       "      <th>CC(=O)OC1CC2CC1C3C2CC=C3</th>\n",
       "      <th>CCOC(=O)C(C)C(=O)OCC</th>\n",
       "      <th>CCCCCCC(C)(C)S</th>\n",
       "      <th>CCC=C(C)C(=O)OCC</th>\n",
       "      <th>C=CCOC(=O)COC1=CC=CC=C1</th>\n",
       "      <th>CC(C)(C)NCC(C1=CC(=CC(=C1)O)O)O.CC(C)(C)NCC(C1=CC(=CC(=C1)O)O)O.OS(=O)(=O)O</th>\n",
       "      <th>C1CC(OC1)CCO</th>\n",
       "    </tr>\n",
       "    <tr>\n",
       "      <th>PubChem CID</th>\n",
       "      <th></th>\n",
       "      <th></th>\n",
       "      <th></th>\n",
       "      <th></th>\n",
       "      <th></th>\n",
       "      <th></th>\n",
       "      <th></th>\n",
       "      <th></th>\n",
       "      <th></th>\n",
       "      <th></th>\n",
       "      <th></th>\n",
       "      <th></th>\n",
       "      <th></th>\n",
       "      <th></th>\n",
       "      <th></th>\n",
       "      <th></th>\n",
       "      <th></th>\n",
       "      <th></th>\n",
       "      <th></th>\n",
       "      <th></th>\n",
       "      <th></th>\n",
       "    </tr>\n",
       "  </thead>\n",
       "  <tbody>\n",
       "    <tr>\n",
       "      <td>126</td>\n",
       "      <td>6.473351</td>\n",
       "      <td>6.127583</td>\n",
       "      <td>0.0</td>\n",
       "      <td>0.0</td>\n",
       "      <td>11.189957</td>\n",
       "      <td>2.193993</td>\n",
       "      <td>4.387987</td>\n",
       "      <td>11.189957</td>\n",
       "      <td>1.243329</td>\n",
       "      <td>3.089765</td>\n",
       "      <td>...</td>\n",
       "      <td>0.078431</td>\n",
       "      <td>0.023529</td>\n",
       "      <td>0.125000</td>\n",
       "      <td>0.070588</td>\n",
       "      <td>0.029412</td>\n",
       "      <td>0.000000</td>\n",
       "      <td>0.066667</td>\n",
       "      <td>0.209302</td>\n",
       "      <td>0.136054</td>\n",
       "      <td>0.035714</td>\n",
       "    </tr>\n",
       "    <tr>\n",
       "      <td>176</td>\n",
       "      <td>2.449490</td>\n",
       "      <td>2.449490</td>\n",
       "      <td>1.0</td>\n",
       "      <td>0.0</td>\n",
       "      <td>3.464102</td>\n",
       "      <td>1.732051</td>\n",
       "      <td>3.464102</td>\n",
       "      <td>3.464102</td>\n",
       "      <td>0.866025</td>\n",
       "      <td>2.178059</td>\n",
       "      <td>...</td>\n",
       "      <td>0.133333</td>\n",
       "      <td>0.125000</td>\n",
       "      <td>0.046512</td>\n",
       "      <td>0.156250</td>\n",
       "      <td>0.170213</td>\n",
       "      <td>0.051282</td>\n",
       "      <td>0.256410</td>\n",
       "      <td>0.092308</td>\n",
       "      <td>0.047619</td>\n",
       "      <td>0.057143</td>\n",
       "    </tr>\n",
       "    <tr>\n",
       "      <td>177</td>\n",
       "      <td>1.414214</td>\n",
       "      <td>1.414214</td>\n",
       "      <td>0.0</td>\n",
       "      <td>0.0</td>\n",
       "      <td>2.828427</td>\n",
       "      <td>1.414214</td>\n",
       "      <td>2.828427</td>\n",
       "      <td>2.828427</td>\n",
       "      <td>0.942809</td>\n",
       "      <td>1.849457</td>\n",
       "      <td>...</td>\n",
       "      <td>0.214286</td>\n",
       "      <td>0.064516</td>\n",
       "      <td>0.048780</td>\n",
       "      <td>0.064516</td>\n",
       "      <td>0.088889</td>\n",
       "      <td>0.054054</td>\n",
       "      <td>0.162162</td>\n",
       "      <td>0.063492</td>\n",
       "      <td>0.032258</td>\n",
       "      <td>0.000000</td>\n",
       "    </tr>\n",
       "    <tr>\n",
       "      <td>180</td>\n",
       "      <td>2.449490</td>\n",
       "      <td>2.449490</td>\n",
       "      <td>0.0</td>\n",
       "      <td>0.0</td>\n",
       "      <td>3.464102</td>\n",
       "      <td>1.732051</td>\n",
       "      <td>3.464102</td>\n",
       "      <td>3.464102</td>\n",
       "      <td>0.866025</td>\n",
       "      <td>2.178059</td>\n",
       "      <td>...</td>\n",
       "      <td>0.066667</td>\n",
       "      <td>0.156250</td>\n",
       "      <td>0.046512</td>\n",
       "      <td>0.156250</td>\n",
       "      <td>0.212766</td>\n",
       "      <td>0.102564</td>\n",
       "      <td>0.307692</td>\n",
       "      <td>0.092308</td>\n",
       "      <td>0.047619</td>\n",
       "      <td>0.000000</td>\n",
       "    </tr>\n",
       "    <tr>\n",
       "      <td>196</td>\n",
       "      <td>6.801520</td>\n",
       "      <td>6.726049</td>\n",
       "      <td>2.0</td>\n",
       "      <td>0.0</td>\n",
       "      <td>10.987918</td>\n",
       "      <td>2.000000</td>\n",
       "      <td>4.000000</td>\n",
       "      <td>10.987918</td>\n",
       "      <td>1.098792</td>\n",
       "      <td>3.123214</td>\n",
       "      <td>...</td>\n",
       "      <td>0.188679</td>\n",
       "      <td>0.068966</td>\n",
       "      <td>0.000000</td>\n",
       "      <td>0.068966</td>\n",
       "      <td>0.228571</td>\n",
       "      <td>0.193548</td>\n",
       "      <td>0.193548</td>\n",
       "      <td>0.113636</td>\n",
       "      <td>0.080537</td>\n",
       "      <td>0.103448</td>\n",
       "    </tr>\n",
       "  </tbody>\n",
       "</table>\n",
       "<p>5 rows × 11425 columns</p>\n",
       "</div>"
      ],
      "text/plain": [
       "                  ABC     ABCGG  nAcid  nBase    SpAbs_A   SpMax_A  SpDiam_A  \\\n",
       "PubChem CID                                                                    \n",
       "126          6.473351  6.127583    0.0    0.0  11.189957  2.193993  4.387987   \n",
       "176          2.449490  2.449490    1.0    0.0   3.464102  1.732051  3.464102   \n",
       "177          1.414214  1.414214    0.0    0.0   2.828427  1.414214  2.828427   \n",
       "180          2.449490  2.449490    0.0    0.0   3.464102  1.732051  3.464102   \n",
       "196          6.801520  6.726049    2.0    0.0  10.987918  2.000000  4.000000   \n",
       "\n",
       "                SpAD_A   SpMAD_A   LogEE_A  ...  C/C=C/CCCO  \\\n",
       "PubChem CID                                 ...               \n",
       "126          11.189957  1.243329  3.089765  ...    0.078431   \n",
       "176           3.464102  0.866025  2.178059  ...    0.133333   \n",
       "177           2.828427  0.942809  1.849457  ...    0.214286   \n",
       "180           3.464102  0.866025  2.178059  ...    0.066667   \n",
       "196          10.987918  1.098792  3.123214  ...    0.188679   \n",
       "\n",
       "             C[C@@H]1CC[C@H]([C@H](C1)NC(=O)C2CC2)C(C)C  \\\n",
       "PubChem CID                                               \n",
       "126                                            0.023529   \n",
       "176                                            0.125000   \n",
       "177                                            0.064516   \n",
       "180                                            0.156250   \n",
       "196                                            0.068966   \n",
       "\n",
       "             COC1=C(C=C(C=C1Br)Br)Br  CC(=O)OC1CC2CC1C3C2CC=C3  \\\n",
       "PubChem CID                                                      \n",
       "126                         0.125000                  0.070588   \n",
       "176                         0.046512                  0.156250   \n",
       "177                         0.048780                  0.064516   \n",
       "180                         0.046512                  0.156250   \n",
       "196                         0.000000                  0.068966   \n",
       "\n",
       "             CCOC(=O)C(C)C(=O)OCC  CCCCCCC(C)(C)S  CCC=C(C)C(=O)OCC  \\\n",
       "PubChem CID                                                           \n",
       "126                      0.029412        0.000000          0.066667   \n",
       "176                      0.170213        0.051282          0.256410   \n",
       "177                      0.088889        0.054054          0.162162   \n",
       "180                      0.212766        0.102564          0.307692   \n",
       "196                      0.228571        0.193548          0.193548   \n",
       "\n",
       "             C=CCOC(=O)COC1=CC=CC=C1  \\\n",
       "PubChem CID                            \n",
       "126                         0.209302   \n",
       "176                         0.092308   \n",
       "177                         0.063492   \n",
       "180                         0.092308   \n",
       "196                         0.113636   \n",
       "\n",
       "             CC(C)(C)NCC(C1=CC(=CC(=C1)O)O)O.CC(C)(C)NCC(C1=CC(=CC(=C1)O)O)O.OS(=O)(=O)O  \\\n",
       "PubChem CID                                                                                \n",
       "126                                                   0.136054                             \n",
       "176                                                   0.047619                             \n",
       "177                                                   0.032258                             \n",
       "180                                                   0.047619                             \n",
       "196                                                   0.080537                             \n",
       "\n",
       "             C1CC(OC1)CCO  \n",
       "PubChem CID                \n",
       "126              0.035714  \n",
       "176              0.057143  \n",
       "177              0.000000  \n",
       "180              0.000000  \n",
       "196              0.103448  \n",
       "\n",
       "[5 rows x 11425 columns]"
      ]
     },
     "execution_count": 95,
     "metadata": {},
     "output_type": "execute_result"
    }
   ],
   "source": [
    "# Combine Mordred (after imputation) and Morgan features into one dataframe\n",
    "all_features = mordred_features_knn.join(morgan_sim_features, lsuffix=\"mordred_\", rsuffix=\"morgan_\")\n",
    "assert len(all_features.index) == len(all_features.index.unique())\n",
    "assert list(all_features.index) == list(smiles.values)\n",
    "all_features.index = smiles.index\n",
    "all_features.index.name = 'PubChem CID'\n",
    "all_features.head()"
   ]
  },
  {
   "cell_type": "code",
   "execution_count": 96,
   "metadata": {},
   "outputs": [
    {
     "data": {
      "text/plain": [
       "(11425, 11425)"
      ]
     },
     "execution_count": 96,
     "metadata": {},
     "output_type": "execute_result"
    }
   ],
   "source": [
    "len(list(all_features)), len(set(all_features))"
   ]
  },
  {
   "cell_type": "markdown",
   "metadata": {},
   "source": [
    "### Organize perceptual data"
   ]
  },
  {
   "cell_type": "code",
   "execution_count": 97,
   "metadata": {},
   "outputs": [
    {
     "data": {
      "text/html": [
       "<div>\n",
       "<style scoped>\n",
       "    .dataframe tbody tr th:only-of-type {\n",
       "        vertical-align: middle;\n",
       "    }\n",
       "\n",
       "    .dataframe tbody tr th {\n",
       "        vertical-align: top;\n",
       "    }\n",
       "\n",
       "    .dataframe thead th {\n",
       "        text-align: right;\n",
       "    }\n",
       "</style>\n",
       "<table border=\"1\" class=\"dataframe\">\n",
       "  <thead>\n",
       "    <tr style=\"text-align: right;\">\n",
       "      <th></th>\n",
       "      <th>Descriptor</th>\n",
       "      <th>Acid</th>\n",
       "      <th>Ammonia</th>\n",
       "      <th>Bakery</th>\n",
       "      <th>Burnt</th>\n",
       "      <th>Chemical</th>\n",
       "      <th>Cold</th>\n",
       "      <th>Decayed</th>\n",
       "      <th>Fish</th>\n",
       "      <th>Flower</th>\n",
       "      <th>Fruit</th>\n",
       "      <th>...</th>\n",
       "      <th>Grass</th>\n",
       "      <th>Intensity</th>\n",
       "      <th>Musky</th>\n",
       "      <th>Pleasantness</th>\n",
       "      <th>Sour</th>\n",
       "      <th>Spices</th>\n",
       "      <th>Sweaty</th>\n",
       "      <th>Sweet</th>\n",
       "      <th>Warm</th>\n",
       "      <th>Wood</th>\n",
       "    </tr>\n",
       "    <tr>\n",
       "      <th>PubChem CID</th>\n",
       "      <th>Dilution</th>\n",
       "      <th></th>\n",
       "      <th></th>\n",
       "      <th></th>\n",
       "      <th></th>\n",
       "      <th></th>\n",
       "      <th></th>\n",
       "      <th></th>\n",
       "      <th></th>\n",
       "      <th></th>\n",
       "      <th></th>\n",
       "      <th></th>\n",
       "      <th></th>\n",
       "      <th></th>\n",
       "      <th></th>\n",
       "      <th></th>\n",
       "      <th></th>\n",
       "      <th></th>\n",
       "      <th></th>\n",
       "      <th></th>\n",
       "      <th></th>\n",
       "      <th></th>\n",
       "    </tr>\n",
       "  </thead>\n",
       "  <tbody>\n",
       "    <tr>\n",
       "      <td rowspan=\"2\" valign=\"top\">126</td>\n",
       "      <td>-3.0</td>\n",
       "      <td>5.657143</td>\n",
       "      <td>3.500000</td>\n",
       "      <td>0.400000</td>\n",
       "      <td>1.235294</td>\n",
       "      <td>12.411765</td>\n",
       "      <td>6.142857</td>\n",
       "      <td>3.764706</td>\n",
       "      <td>0.000000</td>\n",
       "      <td>5.676471</td>\n",
       "      <td>2.257143</td>\n",
       "      <td>...</td>\n",
       "      <td>1.794118</td>\n",
       "      <td>37.567568</td>\n",
       "      <td>5.117647</td>\n",
       "      <td>51.837838</td>\n",
       "      <td>2.558824</td>\n",
       "      <td>4.970588</td>\n",
       "      <td>1.117647</td>\n",
       "      <td>15.861111</td>\n",
       "      <td>5.571429</td>\n",
       "      <td>0.235294</td>\n",
       "    </tr>\n",
       "    <tr>\n",
       "      <td>-1.0</td>\n",
       "      <td>2.673469</td>\n",
       "      <td>1.480000</td>\n",
       "      <td>0.755102</td>\n",
       "      <td>1.551020</td>\n",
       "      <td>12.600000</td>\n",
       "      <td>1.340000</td>\n",
       "      <td>4.580000</td>\n",
       "      <td>0.510204</td>\n",
       "      <td>7.591837</td>\n",
       "      <td>3.760000</td>\n",
       "      <td>...</td>\n",
       "      <td>1.265306</td>\n",
       "      <td>51.634615</td>\n",
       "      <td>5.120000</td>\n",
       "      <td>49.211538</td>\n",
       "      <td>7.200000</td>\n",
       "      <td>2.489796</td>\n",
       "      <td>1.632653</td>\n",
       "      <td>14.780000</td>\n",
       "      <td>1.100000</td>\n",
       "      <td>1.183673</td>\n",
       "    </tr>\n",
       "    <tr>\n",
       "      <td rowspan=\"2\" valign=\"top\">176</td>\n",
       "      <td>-7.0</td>\n",
       "      <td>3.166667</td>\n",
       "      <td>5.000000</td>\n",
       "      <td>0.714286</td>\n",
       "      <td>1.384615</td>\n",
       "      <td>16.500000</td>\n",
       "      <td>0.083333</td>\n",
       "      <td>4.846154</td>\n",
       "      <td>5.846154</td>\n",
       "      <td>6.214286</td>\n",
       "      <td>0.923077</td>\n",
       "      <td>...</td>\n",
       "      <td>5.857143</td>\n",
       "      <td>11.789474</td>\n",
       "      <td>7.466667</td>\n",
       "      <td>46.052632</td>\n",
       "      <td>9.928571</td>\n",
       "      <td>5.333333</td>\n",
       "      <td>8.428571</td>\n",
       "      <td>2.285714</td>\n",
       "      <td>9.533333</td>\n",
       "      <td>6.285714</td>\n",
       "    </tr>\n",
       "    <tr>\n",
       "      <td>-5.0</td>\n",
       "      <td>2.090909</td>\n",
       "      <td>4.476190</td>\n",
       "      <td>3.142857</td>\n",
       "      <td>4.272727</td>\n",
       "      <td>5.954545</td>\n",
       "      <td>6.409091</td>\n",
       "      <td>3.761905</td>\n",
       "      <td>0.000000</td>\n",
       "      <td>7.714286</td>\n",
       "      <td>1.523810</td>\n",
       "      <td>...</td>\n",
       "      <td>2.217391</td>\n",
       "      <td>21.241379</td>\n",
       "      <td>7.181818</td>\n",
       "      <td>47.793103</td>\n",
       "      <td>19.545455</td>\n",
       "      <td>9.304348</td>\n",
       "      <td>8.086957</td>\n",
       "      <td>7.173913</td>\n",
       "      <td>5.238095</td>\n",
       "      <td>2.285714</td>\n",
       "    </tr>\n",
       "    <tr>\n",
       "      <td>177</td>\n",
       "      <td>-5.0</td>\n",
       "      <td>2.541667</td>\n",
       "      <td>0.416667</td>\n",
       "      <td>6.000000</td>\n",
       "      <td>1.708333</td>\n",
       "      <td>8.640000</td>\n",
       "      <td>4.400000</td>\n",
       "      <td>4.083333</td>\n",
       "      <td>2.173913</td>\n",
       "      <td>6.083333</td>\n",
       "      <td>4.695652</td>\n",
       "      <td>...</td>\n",
       "      <td>1.652174</td>\n",
       "      <td>21.812500</td>\n",
       "      <td>8.826087</td>\n",
       "      <td>53.968750</td>\n",
       "      <td>8.840000</td>\n",
       "      <td>0.520000</td>\n",
       "      <td>1.608696</td>\n",
       "      <td>15.923077</td>\n",
       "      <td>2.307692</td>\n",
       "      <td>0.360000</td>\n",
       "    </tr>\n",
       "  </tbody>\n",
       "</table>\n",
       "<p>5 rows × 21 columns</p>\n",
       "</div>"
      ],
      "text/plain": [
       "Descriptor                Acid   Ammonia    Bakery     Burnt   Chemical  \\\n",
       "PubChem CID Dilution                                                      \n",
       "126         -3.0      5.657143  3.500000  0.400000  1.235294  12.411765   \n",
       "            -1.0      2.673469  1.480000  0.755102  1.551020  12.600000   \n",
       "176         -7.0      3.166667  5.000000  0.714286  1.384615  16.500000   \n",
       "            -5.0      2.090909  4.476190  3.142857  4.272727   5.954545   \n",
       "177         -5.0      2.541667  0.416667  6.000000  1.708333   8.640000   \n",
       "\n",
       "Descriptor                Cold   Decayed      Fish    Flower     Fruit  ...  \\\n",
       "PubChem CID Dilution                                                    ...   \n",
       "126         -3.0      6.142857  3.764706  0.000000  5.676471  2.257143  ...   \n",
       "            -1.0      1.340000  4.580000  0.510204  7.591837  3.760000  ...   \n",
       "176         -7.0      0.083333  4.846154  5.846154  6.214286  0.923077  ...   \n",
       "            -5.0      6.409091  3.761905  0.000000  7.714286  1.523810  ...   \n",
       "177         -5.0      4.400000  4.083333  2.173913  6.083333  4.695652  ...   \n",
       "\n",
       "Descriptor               Grass  Intensity     Musky  Pleasantness       Sour  \\\n",
       "PubChem CID Dilution                                                           \n",
       "126         -3.0      1.794118  37.567568  5.117647     51.837838   2.558824   \n",
       "            -1.0      1.265306  51.634615  5.120000     49.211538   7.200000   \n",
       "176         -7.0      5.857143  11.789474  7.466667     46.052632   9.928571   \n",
       "            -5.0      2.217391  21.241379  7.181818     47.793103  19.545455   \n",
       "177         -5.0      1.652174  21.812500  8.826087     53.968750   8.840000   \n",
       "\n",
       "Descriptor              Spices    Sweaty      Sweet      Warm      Wood  \n",
       "PubChem CID Dilution                                                     \n",
       "126         -3.0      4.970588  1.117647  15.861111  5.571429  0.235294  \n",
       "            -1.0      2.489796  1.632653  14.780000  1.100000  1.183673  \n",
       "176         -7.0      5.333333  8.428571   2.285714  9.533333  6.285714  \n",
       "            -5.0      9.304348  8.086957   7.173913  5.238095  2.285714  \n",
       "177         -5.0      0.520000  1.608696  15.923077  2.307692  0.360000  \n",
       "\n",
       "[5 rows x 21 columns]"
      ]
     },
     "execution_count": 97,
     "metadata": {},
     "output_type": "execute_result"
    }
   ],
   "source": [
    "# Compute the descriptor mean across subjects\n",
    "data_mean = kv2016_perceptual_data.mean(axis=1)\n",
    "# Compute the subject-averaged descriptor mean across replicates\n",
    "data_mean = data_mean.unstack('Descriptor').reset_index().groupby(['CID', 'Dilution']).mean().iloc[:, 1:]\n",
    "# Fix the index for joining\n",
    "data_mean.index = data_mean.index.rename(['PubChem CID', 'Dilution'])\n",
    "# Show the dataframe\n",
    "data_mean.head()"
   ]
  },
  {
   "cell_type": "markdown",
   "metadata": {},
   "source": [
    "### Join the features and the descriptors and split again for prediction"
   ]
  },
  {
   "cell_type": "code",
   "execution_count": 98,
   "metadata": {},
   "outputs": [],
   "source": [
    "# Create a joined data frame with perceptual descriptors and physicochemical features\n",
    "df = data_mean.join(all_features, how='inner')\n",
    "# Add a column for dilution (used in prediction)\n",
    "df['Dilution'] = df.index.get_level_values('Dilution')\n",
    "# Make a list of all the columns that will be used in prediction\n",
    "predictor_columns = [col for col in list(df) if col not in list(data_mean)]\n",
    "# Make a list of all the columns that must be predicted\n",
    "data_columns = list(data_mean)\n",
    "# Create the feature matrix and the target matrix\n",
    "X = df[predictor_columns]\n",
    "Y = df[data_columns]"
   ]
  },
  {
   "cell_type": "code",
   "execution_count": 101,
   "metadata": {},
   "outputs": [],
   "source": [
    "# Each feature name is only used once\n",
    "assert pd.Series(predictor_columns).value_counts().max()==1"
   ]
  },
  {
   "cell_type": "markdown",
   "metadata": {},
   "source": [
    "### Verify that this model gets reasonable out-of-sample performance"
   ]
  },
  {
   "cell_type": "code",
   "execution_count": 102,
   "metadata": {},
   "outputs": [
    {
     "name": "stdout",
     "output_type": "stream",
     "text": [
      "CPU times: user 16.8 s, sys: 6.72 s, total: 23.5 s\n",
      "Wall time: 5min 32s\n"
     ]
    }
   ],
   "source": [
    "# A function to compute the correlation between the predicted and observed ratings\n",
    "# (for a given descriptor columns)\n",
    "def get_r(Y, Y_pred, col=0):\n",
    "    pred = Y_pred[:, col]\n",
    "    obs = Y.iloc[:, col]\n",
    "    return np.corrcoef(pred, obs)[0, 1]\n",
    "\n",
    "# A series of scorers, one for each descriptor\n",
    "scorers = {desc: make_scorer(get_r, col=i) for i, desc in enumerate(Y.columns)}\n",
    "# The number of splits to use in cross-validation\n",
    "n_splits = 5\n",
    "# The number of descriptors in the perceptual data\n",
    "n_descriptors = Y.shape[1]\n",
    "# A vanilla Random Forest model with only 10 trees (performance will increase with more trees)\n",
    "rfr = RandomForestRegressor(n_estimators=10, random_state=0)\n",
    "# A multioutput regressor used to fit one model per descriptor, in parallel\n",
    "mor = MultiOutputRegressor(rfr, n_jobs=n_descriptors)\n",
    "# Check the cross-validation performance of this kind of model\n",
    "%time cv_scores = cross_validate(mor, X, Y, scoring=scorers, cv=n_splits)"
   ]
  },
  {
   "cell_type": "code",
   "execution_count": 104,
   "metadata": {},
   "outputs": [
    {
     "data": {
      "text/html": [
       "<div>\n",
       "<style scoped>\n",
       "    .dataframe tbody tr th:only-of-type {\n",
       "        vertical-align: middle;\n",
       "    }\n",
       "\n",
       "    .dataframe tbody tr th {\n",
       "        vertical-align: top;\n",
       "    }\n",
       "\n",
       "    .dataframe thead th {\n",
       "        text-align: right;\n",
       "    }\n",
       "</style>\n",
       "<table border=\"1\" class=\"dataframe\">\n",
       "  <thead>\n",
       "    <tr style=\"text-align: right;\">\n",
       "      <th></th>\n",
       "      <th>Mean</th>\n",
       "      <th>StDev</th>\n",
       "    </tr>\n",
       "  </thead>\n",
       "  <tbody>\n",
       "    <tr>\n",
       "      <td>Acid</td>\n",
       "      <td>0.299096</td>\n",
       "      <td>0.075315</td>\n",
       "    </tr>\n",
       "    <tr>\n",
       "      <td>Ammonia</td>\n",
       "      <td>0.232537</td>\n",
       "      <td>0.058843</td>\n",
       "    </tr>\n",
       "    <tr>\n",
       "      <td>Bakery</td>\n",
       "      <td>0.506021</td>\n",
       "      <td>0.133803</td>\n",
       "    </tr>\n",
       "    <tr>\n",
       "      <td>Burnt</td>\n",
       "      <td>0.329004</td>\n",
       "      <td>0.075727</td>\n",
       "    </tr>\n",
       "    <tr>\n",
       "      <td>Chemical</td>\n",
       "      <td>0.399673</td>\n",
       "      <td>0.034350</td>\n",
       "    </tr>\n",
       "    <tr>\n",
       "      <td>Cold</td>\n",
       "      <td>0.137494</td>\n",
       "      <td>0.075718</td>\n",
       "    </tr>\n",
       "    <tr>\n",
       "      <td>Decayed</td>\n",
       "      <td>0.278040</td>\n",
       "      <td>0.060595</td>\n",
       "    </tr>\n",
       "    <tr>\n",
       "      <td>Fish</td>\n",
       "      <td>0.398838</td>\n",
       "      <td>0.100292</td>\n",
       "    </tr>\n",
       "    <tr>\n",
       "      <td>Flower</td>\n",
       "      <td>0.316520</td>\n",
       "      <td>0.077452</td>\n",
       "    </tr>\n",
       "    <tr>\n",
       "      <td>Fruit</td>\n",
       "      <td>0.458896</td>\n",
       "      <td>0.112637</td>\n",
       "    </tr>\n",
       "    <tr>\n",
       "      <td>Garlic</td>\n",
       "      <td>0.459119</td>\n",
       "      <td>0.153000</td>\n",
       "    </tr>\n",
       "    <tr>\n",
       "      <td>Grass</td>\n",
       "      <td>0.097902</td>\n",
       "      <td>0.103321</td>\n",
       "    </tr>\n",
       "    <tr>\n",
       "      <td>Intensity</td>\n",
       "      <td>0.633390</td>\n",
       "      <td>0.106952</td>\n",
       "    </tr>\n",
       "    <tr>\n",
       "      <td>Musky</td>\n",
       "      <td>0.290988</td>\n",
       "      <td>0.073898</td>\n",
       "    </tr>\n",
       "    <tr>\n",
       "      <td>Pleasantness</td>\n",
       "      <td>0.514950</td>\n",
       "      <td>0.098508</td>\n",
       "    </tr>\n",
       "    <tr>\n",
       "      <td>Sour</td>\n",
       "      <td>0.348816</td>\n",
       "      <td>0.061245</td>\n",
       "    </tr>\n",
       "    <tr>\n",
       "      <td>Spices</td>\n",
       "      <td>0.246174</td>\n",
       "      <td>0.100426</td>\n",
       "    </tr>\n",
       "    <tr>\n",
       "      <td>Sweaty</td>\n",
       "      <td>0.338009</td>\n",
       "      <td>0.116978</td>\n",
       "    </tr>\n",
       "    <tr>\n",
       "      <td>Sweet</td>\n",
       "      <td>0.483419</td>\n",
       "      <td>0.131179</td>\n",
       "    </tr>\n",
       "    <tr>\n",
       "      <td>Warm</td>\n",
       "      <td>0.226912</td>\n",
       "      <td>0.081820</td>\n",
       "    </tr>\n",
       "    <tr>\n",
       "      <td>Wood</td>\n",
       "      <td>0.175703</td>\n",
       "      <td>0.093650</td>\n",
       "    </tr>\n",
       "  </tbody>\n",
       "</table>\n",
       "</div>"
      ],
      "text/plain": [
       "                  Mean     StDev\n",
       "Acid          0.299096  0.075315\n",
       "Ammonia       0.232537  0.058843\n",
       "Bakery        0.506021  0.133803\n",
       "Burnt         0.329004  0.075727\n",
       "Chemical      0.399673  0.034350\n",
       "Cold          0.137494  0.075718\n",
       "Decayed       0.278040  0.060595\n",
       "Fish          0.398838  0.100292\n",
       "Flower        0.316520  0.077452\n",
       "Fruit         0.458896  0.112637\n",
       "Garlic        0.459119  0.153000\n",
       "Grass         0.097902  0.103321\n",
       "Intensity     0.633390  0.106952\n",
       "Musky         0.290988  0.073898\n",
       "Pleasantness  0.514950  0.098508\n",
       "Sour          0.348816  0.061245\n",
       "Spices        0.246174  0.100426\n",
       "Sweaty        0.338009  0.116978\n",
       "Sweet         0.483419  0.131179\n",
       "Warm          0.226912  0.081820\n",
       "Wood          0.175703  0.093650"
      ]
     },
     "execution_count": 104,
     "metadata": {},
     "output_type": "execute_result"
    }
   ],
   "source": [
    "# An empty dataframe to hold the cross-validation summary\n",
    "rs = pd.DataFrame(index=list(Y))\n",
    "# Compute the mean and standard deviation across cross-validation splits\n",
    "rs['Mean'] = [cv_scores['test_%s' % desc].mean() for desc in list(Y)]\n",
    "rs['StDev'] = [cv_scores['test_%s' % desc].std() for desc in list(Y)]\n",
    "# Show the results\n",
    "rs"
   ]
  },
  {
   "cell_type": "markdown",
   "metadata": {},
   "source": [
    "### Fit the final model and save it"
   ]
  },
  {
   "cell_type": "code",
   "execution_count": 105,
   "metadata": {},
   "outputs": [
    {
     "name": "stdout",
     "output_type": "stream",
     "text": [
      "CPU times: user 1.12 s, sys: 4.16 s, total: 5.27 s\n",
      "Wall time: 35min 39s\n"
     ]
    },
    {
     "data": {
      "text/plain": [
       "MultiOutputRegressor(estimator=RandomForestRegressor(bootstrap=True,\n",
       "                                                     criterion='mse',\n",
       "                                                     max_depth=None,\n",
       "                                                     max_features='auto',\n",
       "                                                     max_leaf_nodes=None,\n",
       "                                                     min_impurity_decrease=0.0,\n",
       "                                                     min_impurity_split=None,\n",
       "                                                     min_samples_leaf=1,\n",
       "                                                     min_samples_split=2,\n",
       "                                                     min_weight_fraction_leaf=0.0,\n",
       "                                                     n_estimators=250,\n",
       "                                                     n_jobs=None,\n",
       "                                                     oob_score=False,\n",
       "                                                     random_state=0, verbose=0,\n",
       "                                                     warm_start=False),\n",
       "                     n_jobs=21)"
      ]
     },
     "execution_count": 105,
     "metadata": {},
     "output_type": "execute_result"
    }
   ],
   "source": [
    "# A random forest regressor with more trees\n",
    "rfr = RandomForestRegressor(n_estimators=250, random_state=0)\n",
    "# Wrap in a class that will fit one model per descriptor\n",
    "mor = MultiOutputRegressor(rfr, n_jobs=n_descriptors)\n",
    "# Fit the model\n",
    "%time mor.fit(X, Y);"
   ]
  },
  {
   "cell_type": "code",
   "execution_count": 106,
   "metadata": {},
   "outputs": [
    {
     "data": {
      "text/plain": [
       "(11426, 11426)"
      ]
     },
     "execution_count": 106,
     "metadata": {},
     "output_type": "execute_result"
    }
   ],
   "source": [
    "len(list(X)), len(set(list(X)))"
   ]
  },
  {
   "cell_type": "code",
   "execution_count": 107,
   "metadata": {},
   "outputs": [],
   "source": [
    "# Save the fitted model\n",
    "path = pyrfume.DATA_DIR / 'keller_2017' / 'open-source-dream.pkl'\n",
    "with open(path, 'wb') as f:\n",
    "    pickle.dump([mor, list(X), list(Y), imputer_knn], f)"
   ]
  },
  {
   "cell_type": "markdown",
   "metadata": {},
   "source": [
    "### Demonstration: using the fitted model (can be run independently if the above has been run at some point)"
   ]
  },
  {
   "cell_type": "code",
   "execution_count": 1,
   "metadata": {},
   "outputs": [
    {
     "name": "stdout",
     "output_type": "stream",
     "text": [
      "[-----------------------100%---------------------] 2 out of 2 complete (Finished embedding all molecules)\n",
      "Computing Mordred features...\n"
     ]
    },
    {
     "name": "stderr",
     "output_type": "stream",
     "text": [
      "100%|██████████| 2/2 [00:00<00:00,  3.79it/s]\n"
     ]
    },
    {
     "name": "stdout",
     "output_type": "stream",
     "text": [
      "There are 2 molecules and 1826 features\n",
      "(2, 1826)\n"
     ]
    },
    {
     "name": "stderr",
     "output_type": "stream",
     "text": [
      "/home/rgerkin/dev/missingpy/missingpy/knnimpute.py:143: UserWarning: Insufficient number of neighbors! Filling in column mean.\n",
      "  warnings.warn(\"Insufficient number of neighbors! \"\n"
     ]
    },
    {
     "name": "stdout",
     "output_type": "stream",
     "text": [
      "9762 similarity features for 2 molecules\n"
     ]
    },
    {
     "data": {
      "text/html": [
       "<div>\n",
       "<style scoped>\n",
       "    .dataframe tbody tr th:only-of-type {\n",
       "        vertical-align: middle;\n",
       "    }\n",
       "\n",
       "    .dataframe tbody tr th {\n",
       "        vertical-align: top;\n",
       "    }\n",
       "\n",
       "    .dataframe thead th {\n",
       "        text-align: right;\n",
       "    }\n",
       "</style>\n",
       "<table border=\"1\" class=\"dataframe\">\n",
       "  <thead>\n",
       "    <tr style=\"text-align: right;\">\n",
       "      <th></th>\n",
       "      <th>Acid</th>\n",
       "      <th>Ammonia</th>\n",
       "      <th>Bakery</th>\n",
       "      <th>Burnt</th>\n",
       "      <th>Chemical</th>\n",
       "      <th>Cold</th>\n",
       "      <th>Decayed</th>\n",
       "      <th>Fish</th>\n",
       "      <th>Flower</th>\n",
       "      <th>Fruit</th>\n",
       "      <th>...</th>\n",
       "      <th>Grass</th>\n",
       "      <th>Intensity</th>\n",
       "      <th>Musky</th>\n",
       "      <th>Pleasantness</th>\n",
       "      <th>Sour</th>\n",
       "      <th>Spices</th>\n",
       "      <th>Sweaty</th>\n",
       "      <th>Sweet</th>\n",
       "      <th>Warm</th>\n",
       "      <th>Wood</th>\n",
       "    </tr>\n",
       "  </thead>\n",
       "  <tbody>\n",
       "    <tr>\n",
       "      <td>CC1(C2CCC(=C)C1C2)C</td>\n",
       "      <td>5.87</td>\n",
       "      <td>2.98</td>\n",
       "      <td>1.84</td>\n",
       "      <td>2.36</td>\n",
       "      <td>13.90</td>\n",
       "      <td>5.45</td>\n",
       "      <td>1.04</td>\n",
       "      <td>0.86</td>\n",
       "      <td>4.86</td>\n",
       "      <td>4.97</td>\n",
       "      <td>...</td>\n",
       "      <td>4.66</td>\n",
       "      <td>42.3</td>\n",
       "      <td>5.49</td>\n",
       "      <td>52.55</td>\n",
       "      <td>6.62</td>\n",
       "      <td>5.49</td>\n",
       "      <td>0.68</td>\n",
       "      <td>8.30</td>\n",
       "      <td>6.16</td>\n",
       "      <td>5.56</td>\n",
       "    </tr>\n",
       "    <tr>\n",
       "      <td>CC(=O)CC1=CC=CO1</td>\n",
       "      <td>6.65</td>\n",
       "      <td>4.38</td>\n",
       "      <td>2.46</td>\n",
       "      <td>6.39</td>\n",
       "      <td>12.86</td>\n",
       "      <td>3.09</td>\n",
       "      <td>4.16</td>\n",
       "      <td>1.49</td>\n",
       "      <td>3.32</td>\n",
       "      <td>1.96</td>\n",
       "      <td>...</td>\n",
       "      <td>1.91</td>\n",
       "      <td>64.0</td>\n",
       "      <td>8.11</td>\n",
       "      <td>40.83</td>\n",
       "      <td>6.17</td>\n",
       "      <td>4.69</td>\n",
       "      <td>3.31</td>\n",
       "      <td>8.51</td>\n",
       "      <td>5.17</td>\n",
       "      <td>3.02</td>\n",
       "    </tr>\n",
       "  </tbody>\n",
       "</table>\n",
       "<p>2 rows × 21 columns</p>\n",
       "</div>"
      ],
      "text/plain": [
       "                     Acid  Ammonia  Bakery  Burnt  Chemical  Cold  Decayed  \\\n",
       "CC1(C2CCC(=C)C1C2)C  5.87     2.98    1.84   2.36     13.90  5.45     1.04   \n",
       "CC(=O)CC1=CC=CO1     6.65     4.38    2.46   6.39     12.86  3.09     4.16   \n",
       "\n",
       "                     Fish  Flower  Fruit  ...  Grass  Intensity  Musky  \\\n",
       "CC1(C2CCC(=C)C1C2)C  0.86    4.86   4.97  ...   4.66       42.3   5.49   \n",
       "CC(=O)CC1=CC=CO1     1.49    3.32   1.96  ...   1.91       64.0   8.11   \n",
       "\n",
       "                     Pleasantness  Sour  Spices  Sweaty  Sweet  Warm  Wood  \n",
       "CC1(C2CCC(=C)C1C2)C         52.55  6.62    5.49    0.68   8.30  6.16  5.56  \n",
       "CC(=O)CC1=CC=CO1            40.83  6.17    4.69    3.31   8.51  5.17  3.02  \n",
       "\n",
       "[2 rows x 21 columns]"
      ]
     },
     "execution_count": 1,
     "metadata": {},
     "output_type": "execute_result"
    }
   ],
   "source": [
    "from pyrfume.odorants import from_cids\n",
    "from pyrfume.predictions import load_dream_model, smiles_to_features, predict\n",
    "novel_cids = [14896, 228583] # Beta-pinene and 2-Furylacetone\n",
    "novel_info = from_cids(novel_cids)\n",
    "novel_smiles = [x['IsomericSMILES'] for x in novel_info]\n",
    "model_, use_features_, descriptors_, imputer_ = load_dream_model()\n",
    "features_ = smiles_to_features(novel_smiles, use_features_, imputer_)\n",
    "predict(model_, features_, descriptors_)"
   ]
  },
  {
   "cell_type": "code",
   "execution_count": 9,
   "metadata": {},
   "outputs": [
    {
     "data": {
      "text/plain": [
       "[{'Acid': 5.87,\n",
       "  'Ammonia': 2.98,\n",
       "  'Bakery': 1.84,\n",
       "  'Burnt': 2.36,\n",
       "  'Chemical': 13.9,\n",
       "  'Cold': 5.45,\n",
       "  'Decayed': 1.04,\n",
       "  'Fish': 0.86,\n",
       "  'Flower': 4.86,\n",
       "  'Fruit': 4.97,\n",
       "  'Garlic': 2.69,\n",
       "  'Grass': 4.66,\n",
       "  'Intensity': 42.3,\n",
       "  'Musky': 5.49,\n",
       "  'Pleasantness': 52.55,\n",
       "  'Sour': 6.62,\n",
       "  'Spices': 5.49,\n",
       "  'Sweaty': 0.68,\n",
       "  'Sweet': 8.3,\n",
       "  'Warm': 6.16,\n",
       "  'Wood': 5.56},\n",
       " {'Acid': 6.65,\n",
       "  'Ammonia': 4.38,\n",
       "  'Bakery': 2.46,\n",
       "  'Burnt': 6.39,\n",
       "  'Chemical': 12.86,\n",
       "  'Cold': 3.09,\n",
       "  'Decayed': 4.16,\n",
       "  'Fish': 1.49,\n",
       "  'Flower': 3.32,\n",
       "  'Fruit': 1.96,\n",
       "  'Garlic': 1.92,\n",
       "  'Grass': 1.91,\n",
       "  'Intensity': 64.0,\n",
       "  'Musky': 8.11,\n",
       "  'Pleasantness': 40.83,\n",
       "  'Sour': 6.17,\n",
       "  'Spices': 4.69,\n",
       "  'Sweaty': 3.31,\n",
       "  'Sweet': 8.51,\n",
       "  'Warm': 5.17,\n",
       "  'Wood': 3.02}]"
      ]
     },
     "execution_count": 9,
     "metadata": {},
     "output_type": "execute_result"
    }
   ],
   "source": [
    "Out[1].to_dict('records')"
   ]
  },
  {
   "cell_type": "code",
   "execution_count": null,
   "metadata": {},
   "outputs": [],
   "source": []
  }
 ],
 "metadata": {
  "kernelspec": {
   "display_name": "Python 3",
   "language": "python",
   "name": "python3"
  },
  "language_info": {
   "codemirror_mode": {
    "name": "ipython",
    "version": 3
   },
   "file_extension": ".py",
   "mimetype": "text/x-python",
   "name": "python",
   "nbconvert_exporter": "python",
   "pygments_lexer": "ipython3",
   "version": "3.7.4"
  }
 },
 "nbformat": 4,
 "nbformat_minor": 4
}
