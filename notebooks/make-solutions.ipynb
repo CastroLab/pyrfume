{
 "cells": [
  {
   "cell_type": "code",
   "execution_count": 1,
   "metadata": {},
   "outputs": [],
   "source": [
    "%load_ext autoreload\n",
    "%autoreload 2\n",
    "#%load_ext line_profiler"
   ]
  },
  {
   "cell_type": "code",
   "execution_count": 3,
   "metadata": {},
   "outputs": [],
   "source": [
    "from pyrfume.odorants import Solution, Compound, ChemicalOrder, \\\n",
    "                                  Vendor, Molecule\n",
    "import quantities as pq"
   ]
  },
  {
   "cell_type": "code",
   "execution_count": 7,
   "metadata": {},
   "outputs": [
    {
     "name": "stdout",
     "output_type": "stream",
     "text": [
      "HTTPError for query 'https://pubchem.ncbi.nlm.nih.gov/rest/pug/compound/cid/347911206/synonyms/JSON'\n"
     ]
    }
   ],
   "source": [
    "# Instantiate two molecules by CID number\n",
    "beta_pinene = Molecule(14896, fill=True)  # Fruity smell\n",
    "d_limonene = Molecule(440917, fill=True)  # Lemon smell (check)\n",
    "l_limonene = Molecule(439250, fill=True)  # Orange smell (check)\n",
    "light_mineral_oil = Molecule(347911206, fill=True)  # An odorless solvent\n",
    "\n",
    "# Vapor pressures at 25 degrees Celsius (obtained from PubChem)\n",
    "beta_pinene.vapor_pressure = 10 * pq.mmHg # Made up, fill with real values\n",
    "d_limonene.vapor_pressure = 10 * pq.mmHg # Made up, fill with real values\n",
    "l_limonene.vapor_pressure = 10 * pq.mmHg # Made up, fill with real values\n",
    "light_mineral_oil.vapor_pressure = 0 * pq.mmHg  # Actually .0001 * pq.hPa\n",
    "\n",
    "# Densities at 20 degrees Celsius (obtained from PubChem)\n",
    "beta_pinene.density = 1.0 * pq.g/pq.cc # Made up, fill with real values\n",
    "d_limonene.density = 1.0 * pq.g/pq.cc # Made up, fill with real values\n",
    "l_limonene.density = 1.0 * pq.g/pq.cc # Made up, fill with real values\n",
    "light_mineral_oil.density = 0.85 * pq.g/pq.cc # Made up, fill with real values\n",
    "\n",
    "# Mineral oil does not have a proper molecular weight since\n",
    "# it is itself a mixture, but we have to put something reasonable\n",
    "# in order compute mole fraction of the solute\n",
    "light_mineral_oil.molecular_weight = 500 * pq.g / pq.mol"
   ]
  },
  {
   "cell_type": "code",
   "execution_count": 8,
   "metadata": {},
   "outputs": [],
   "source": [
    "# Create a vendor\n",
    "sigma_aldrich = Vendor('Sigma Aldrich', 'http://www.sigma.com')\n",
    "\n",
    "# Specify two chemicals ordered from this vendor,\n",
    "# which are nominally the above molecules\n",
    "solvent_order = ChemicalOrder(light_mineral_oil, sigma_aldrich, '')\n",
    "#chemical_orders = [ChemicalOrder(hexanal, sigma_aldrich, ''),\n",
    "#                   ChemicalOrder(isoamyl_acetate, sigma_aldrich, '')]\n",
    "chemical_orders = [ChemicalOrder(beta_pinene, sigma_aldrich, ''),\n",
    "                   ChemicalOrder(d_limonene, sigma_aldrich, ''),\n",
    "                   ChemicalOrder(l_limonene, sigma_aldrich, '')]\n",
    "\n",
    "# These are now actual chemical on the shelf, with potential stock numbers\n",
    "# dates arrived, dates opened.\n",
    "solvent = Compound(solvent_order, is_solvent=True)\n",
    "compounds = [Compound(chemical_order) for chemical_order in chemical_orders]\n",
    "n_odorants = len(compounds)\n",
    "\n",
    "# Two odorants stocks that we produced by diluting the compounds above\n",
    "# TODO: An optimizer to determine what these solutions should be\n",
    "solutions = []\n",
    "solutions.append(Solution({compounds[0]: 1 * pq.mL,\n",
    "                           solvent: 24 * pq.mL}))\n",
    "solutions.append(Solution({compounds[1]: 1 * pq.mL,\n",
    "                           solvent: 24 * pq.mL}))\n",
    "solutions.append(Solution({compounds[2]: 1 * pq.mL,\n",
    "                           solvent: 24 * pq.mL}))\n",
    "solutions.append(Solution({compounds[0]: 0.01 * pq.mL,\n",
    "                           solvent: 24 * pq.mL}))\n",
    "solutions.append(Solution({compounds[1]: 0.01 * pq.mL,\n",
    "                           solvent: 24.9 * pq.mL}))\n",
    "solutions.append(Solution({compounds[2]: 0.01 * pq.mL,\n",
    "                           solvent: 24.9 * pq.mL}))\n",
    "n_solutions = len(solutions)"
   ]
  }
 ],
 "metadata": {
  "kernelspec": {
   "display_name": "Python 3",
   "language": "python",
   "name": "python3"
  },
  "language_info": {
   "codemirror_mode": {
    "name": "ipython",
    "version": 3
   },
   "file_extension": ".py",
   "mimetype": "text/x-python",
   "name": "python",
   "nbconvert_exporter": "python",
   "pygments_lexer": "ipython3",
   "version": "3.7.6"
  }
 },
 "nbformat": 4,
 "nbformat_minor": 4
}
