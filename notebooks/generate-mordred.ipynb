{
 "cells": [
  {
   "cell_type": "code",
   "execution_count": 4,
   "metadata": {},
   "outputs": [],
   "source": [
    "import pandas as pd\n",
    "from rdkit import Chem\n",
    "from rdkit.Chem import AllChem, SaltRemover, rdmolfiles\n",
    "from mordred import Calculator, descriptors as all_descriptors"
   ]
  },
  {
   "cell_type": "code",
   "execution_count": 47,
   "metadata": {},
   "outputs": [],
   "source": [
    "smiles = pd.read_csv('data/snitz-odorant-info.csv').set_index('CID')['IsomericSMILES']"
   ]
  },
  {
   "cell_type": "code",
   "execution_count": 49,
   "metadata": {},
   "outputs": [
    {
     "name": "stdout",
     "output_type": "stream",
     "text": [
      "Convering SMILES string to Mol format...\n",
      "Computing 3D coordinates...\n"
     ]
    }
   ],
   "source": [
    "calc = Calculator(all_descriptors)\n",
    "print(\"Convering SMILES string to Mol format...\")\n",
    "mols = {cid: Chem.MolFromSmiles(smi) for cid, smi in smiles.items()}\n",
    "print(\"Computing 3D coordinates...\")\n",
    "s = SaltRemover.SaltRemover()\n",
    "for i, (cid, mol) in enumerate(mols.items()):\n",
    "    if i > 0 and i % 100 == 0:\n",
    "        print(\"Finished %d\" % i)\n",
    "    try:\n",
    "        mol.SetProp(\"_Name\",\"%d: %s\" % (cid, smiles[cid]))\n",
    "        mol = s.StripMol(mol,dontRemoveEverything=True)\n",
    "        mol = Chem.AddHs(mol)\n",
    "        AllChem.Compute2DCoords(mol)\n",
    "        AllChem.EmbedMolecule(mol)\n",
    "        AllChem.UFFOptimizeMolecule(mol) # Is this deterministic?  \n",
    "    except Exception as e:\n",
    "        print('Exception for %d' % cid)\n",
    "        mols[cid] = None\n",
    "    else:\n",
    "        mols[cid] = mol\n",
    "mols = {cid: mol for cid, mol in mols.items() if mol}"
   ]
  },
  {
   "cell_type": "code",
   "execution_count": 50,
   "metadata": {},
   "outputs": [
    {
     "data": {
      "text/plain": [
       "86"
      ]
     },
     "execution_count": 50,
     "metadata": {},
     "output_type": "execute_result"
    }
   ],
   "source": [
    "len(set(smiles.index))"
   ]
  },
  {
   "cell_type": "code",
   "execution_count": 51,
   "metadata": {},
   "outputs": [
    {
     "name": "stderr",
     "output_type": "stream",
     "text": [
      "100%|██████████| 86/86 [00:02<00:00, 34.22it/s]\n"
     ]
    },
    {
     "data": {
      "text/html": [
       "<div>\n",
       "<style scoped>\n",
       "    .dataframe tbody tr th:only-of-type {\n",
       "        vertical-align: middle;\n",
       "    }\n",
       "\n",
       "    .dataframe tbody tr th {\n",
       "        vertical-align: top;\n",
       "    }\n",
       "\n",
       "    .dataframe thead th {\n",
       "        text-align: right;\n",
       "    }\n",
       "</style>\n",
       "<table border=\"1\" class=\"dataframe\">\n",
       "  <thead>\n",
       "    <tr style=\"text-align: right;\">\n",
       "      <th></th>\n",
       "      <th>ABC</th>\n",
       "      <th>ABCGG</th>\n",
       "      <th>nAcid</th>\n",
       "      <th>nBase</th>\n",
       "      <th>SpAbs_A</th>\n",
       "      <th>SpMax_A</th>\n",
       "      <th>SpDiam_A</th>\n",
       "      <th>SpAD_A</th>\n",
       "      <th>SpMAD_A</th>\n",
       "      <th>LogEE_A</th>\n",
       "      <th>...</th>\n",
       "      <th>SRW10</th>\n",
       "      <th>TSRW10</th>\n",
       "      <th>MW</th>\n",
       "      <th>AMW</th>\n",
       "      <th>WPath</th>\n",
       "      <th>WPol</th>\n",
       "      <th>Zagreb1</th>\n",
       "      <th>Zagreb2</th>\n",
       "      <th>mZagreb1</th>\n",
       "      <th>mZagreb2</th>\n",
       "    </tr>\n",
       "    <tr>\n",
       "      <th>CID</th>\n",
       "      <th></th>\n",
       "      <th></th>\n",
       "      <th></th>\n",
       "      <th></th>\n",
       "      <th></th>\n",
       "      <th></th>\n",
       "      <th></th>\n",
       "      <th></th>\n",
       "      <th></th>\n",
       "      <th></th>\n",
       "      <th></th>\n",
       "      <th></th>\n",
       "      <th></th>\n",
       "      <th></th>\n",
       "      <th></th>\n",
       "      <th></th>\n",
       "      <th></th>\n",
       "      <th></th>\n",
       "      <th></th>\n",
       "      <th></th>\n",
       "      <th></th>\n",
       "    </tr>\n",
       "  </thead>\n",
       "  <tbody>\n",
       "    <tr>\n",
       "      <th>5634</th>\n",
       "      <td>8.704061</td>\n",
       "      <td>7.968331</td>\n",
       "      <td>1</td>\n",
       "      <td>0</td>\n",
       "      <td>15.322595</td>\n",
       "      <td>1.982890</td>\n",
       "      <td>3.965779</td>\n",
       "      <td>15.322595</td>\n",
       "      <td>1.178661</td>\n",
       "      <td>3.379464</td>\n",
       "      <td>...</td>\n",
       "      <td>8.014666</td>\n",
       "      <td>40.743390</td>\n",
       "      <td>184.146330</td>\n",
       "      <td>5.580192</td>\n",
       "      <td>354</td>\n",
       "      <td>10</td>\n",
       "      <td>48.0</td>\n",
       "      <td>46.0</td>\n",
       "      <td>5.361111</td>\n",
       "      <td>3.333333</td>\n",
       "    </tr>\n",
       "    <tr>\n",
       "      <th>7685</th>\n",
       "      <td>9.589507</td>\n",
       "      <td>8.788034</td>\n",
       "      <td>0</td>\n",
       "      <td>0</td>\n",
       "      <td>15.688441</td>\n",
       "      <td>2.243107</td>\n",
       "      <td>4.486214</td>\n",
       "      <td>15.688441</td>\n",
       "      <td>1.206803</td>\n",
       "      <td>3.450509</td>\n",
       "      <td>...</td>\n",
       "      <td>9.034438</td>\n",
       "      <td>43.368100</td>\n",
       "      <td>178.099380</td>\n",
       "      <td>6.596273</td>\n",
       "      <td>268</td>\n",
       "      <td>15</td>\n",
       "      <td>60.0</td>\n",
       "      <td>65.0</td>\n",
       "      <td>5.694444</td>\n",
       "      <td>2.944444</td>\n",
       "    </tr>\n",
       "    <tr>\n",
       "      <th>31252</th>\n",
       "      <td>5.875634</td>\n",
       "      <td>5.525875</td>\n",
       "      <td>0</td>\n",
       "      <td>0</td>\n",
       "      <td>9.924777</td>\n",
       "      <td>2.170086</td>\n",
       "      <td>4.340173</td>\n",
       "      <td>9.924777</td>\n",
       "      <td>1.240597</td>\n",
       "      <td>2.979730</td>\n",
       "      <td>...</td>\n",
       "      <td>8.463159</td>\n",
       "      <td>35.730685</td>\n",
       "      <td>108.068748</td>\n",
       "      <td>6.754297</td>\n",
       "      <td>62</td>\n",
       "      <td>7</td>\n",
       "      <td>36.0</td>\n",
       "      <td>38.0</td>\n",
       "      <td>3.222222</td>\n",
       "      <td>1.833333</td>\n",
       "    </tr>\n",
       "    <tr>\n",
       "      <th>5283349</th>\n",
       "      <td>7.071068</td>\n",
       "      <td>6.765664</td>\n",
       "      <td>0</td>\n",
       "      <td>0</td>\n",
       "      <td>13.191508</td>\n",
       "      <td>1.931852</td>\n",
       "      <td>3.863703</td>\n",
       "      <td>13.191508</td>\n",
       "      <td>1.199228</td>\n",
       "      <td>3.202455</td>\n",
       "      <td>...</td>\n",
       "      <td>7.601402</td>\n",
       "      <td>37.236738</td>\n",
       "      <td>152.120115</td>\n",
       "      <td>5.634078</td>\n",
       "      <td>220</td>\n",
       "      <td>8</td>\n",
       "      <td>38.0</td>\n",
       "      <td>36.0</td>\n",
       "      <td>4.250000</td>\n",
       "      <td>3.000000</td>\n",
       "    </tr>\n",
       "    <tr>\n",
       "      <th>7710</th>\n",
       "      <td>7.887564</td>\n",
       "      <td>7.597369</td>\n",
       "      <td>0</td>\n",
       "      <td>0</td>\n",
       "      <td>13.522018</td>\n",
       "      <td>2.237474</td>\n",
       "      <td>4.261308</td>\n",
       "      <td>13.522018</td>\n",
       "      <td>1.229274</td>\n",
       "      <td>3.281520</td>\n",
       "      <td>...</td>\n",
       "      <td>8.547334</td>\n",
       "      <td>53.261417</td>\n",
       "      <td>156.115030</td>\n",
       "      <td>5.782038</td>\n",
       "      <td>181</td>\n",
       "      <td>9</td>\n",
       "      <td>48.0</td>\n",
       "      <td>51.0</td>\n",
       "      <td>3.972222</td>\n",
       "      <td>2.666667</td>\n",
       "    </tr>\n",
       "  </tbody>\n",
       "</table>\n",
       "<p>5 rows × 1825 columns</p>\n",
       "</div>"
      ],
      "text/plain": [
       "              ABC     ABCGG  nAcid  nBase    SpAbs_A   SpMax_A  SpDiam_A  \\\n",
       "CID                                                                        \n",
       "5634     8.704061  7.968331      1      0  15.322595  1.982890  3.965779   \n",
       "7685     9.589507  8.788034      0      0  15.688441  2.243107  4.486214   \n",
       "31252    5.875634  5.525875      0      0   9.924777  2.170086  4.340173   \n",
       "5283349  7.071068  6.765664      0      0  13.191508  1.931852  3.863703   \n",
       "7710     7.887564  7.597369      0      0  13.522018  2.237474  4.261308   \n",
       "\n",
       "            SpAD_A   SpMAD_A   LogEE_A  ...     SRW10     TSRW10          MW  \\\n",
       "CID                                     ...                                    \n",
       "5634     15.322595  1.178661  3.379464  ...  8.014666  40.743390  184.146330   \n",
       "7685     15.688441  1.206803  3.450509  ...  9.034438  43.368100  178.099380   \n",
       "31252     9.924777  1.240597  2.979730  ...  8.463159  35.730685  108.068748   \n",
       "5283349  13.191508  1.199228  3.202455  ...  7.601402  37.236738  152.120115   \n",
       "7710     13.522018  1.229274  3.281520  ...  8.547334  53.261417  156.115030   \n",
       "\n",
       "              AMW  WPath  WPol  Zagreb1  Zagreb2  mZagreb1  mZagreb2  \n",
       "CID                                                                   \n",
       "5634     5.580192    354    10     48.0     46.0  5.361111  3.333333  \n",
       "7685     6.596273    268    15     60.0     65.0  5.694444  2.944444  \n",
       "31252    6.754297     62     7     36.0     38.0  3.222222  1.833333  \n",
       "5283349  5.634078    220     8     38.0     36.0  4.250000  3.000000  \n",
       "7710     5.782038    181     9     48.0     51.0  3.972222  2.666667  \n",
       "\n",
       "[5 rows x 1825 columns]"
      ]
     },
     "execution_count": 51,
     "metadata": {},
     "output_type": "execute_result"
    }
   ],
   "source": [
    "results = calc.pandas(mols.values())\n",
    "results = results.set_index(pd.Index(mols.keys(), name='CID'))\n",
    "results.head()"
   ]
  },
  {
   "cell_type": "code",
   "execution_count": 52,
   "metadata": {},
   "outputs": [
    {
     "data": {
      "text/plain": [
       "(86, 1825)"
      ]
     },
     "execution_count": 52,
     "metadata": {},
     "output_type": "execute_result"
    }
   ],
   "source": [
    "results.shape"
   ]
  },
  {
   "cell_type": "code",
   "execution_count": 53,
   "metadata": {},
   "outputs": [],
   "source": [
    "def fix(x):\n",
    "    try:\n",
    "        x = float(x)\n",
    "    except:\n",
    "        x = None\n",
    "    return x\n",
    "\n",
    "results = results.applymap(fix)"
   ]
  },
  {
   "cell_type": "code",
   "execution_count": 54,
   "metadata": {},
   "outputs": [],
   "source": [
    "frac_bad = results.isnull().mean()\n",
    "good = frac_bad[frac_bad<0.3].index\n",
    "results = results.loc[:, good]"
   ]
  },
  {
   "cell_type": "code",
   "execution_count": 55,
   "metadata": {},
   "outputs": [
    {
     "name": "stdout",
     "output_type": "stream",
     "text": [
      "Imputing row 1/86 with 2 missing, elapsed time: 0.044\n"
     ]
    }
   ],
   "source": [
    "from fancyimpute import KNN\n",
    "knn = KNN(k=5)\n",
    "results[:] = knn.fit_transform(results.values)"
   ]
  },
  {
   "cell_type": "code",
   "execution_count": 56,
   "metadata": {},
   "outputs": [],
   "source": [
    "results.to_csv('data/snitz-mordred.csv')"
   ]
  },
  {
   "cell_type": "code",
   "execution_count": 57,
   "metadata": {},
   "outputs": [
    {
     "data": {
      "text/plain": [
       "(86, 1605)"
      ]
     },
     "execution_count": 57,
     "metadata": {},
     "output_type": "execute_result"
    }
   ],
   "source": [
    "results.shape"
   ]
  }
 ],
 "metadata": {
  "kernelspec": {
   "display_name": "Python 3",
   "language": "python",
   "name": "python3"
  },
  "language_info": {
   "codemirror_mode": {
    "name": "ipython",
    "version": 3
   },
   "file_extension": ".py",
   "mimetype": "text/x-python",
   "name": "python",
   "nbconvert_exporter": "python",
   "pygments_lexer": "ipython3",
   "version": "3.6.8"
  }
 },
 "nbformat": 4,
 "nbformat_minor": 2
}
