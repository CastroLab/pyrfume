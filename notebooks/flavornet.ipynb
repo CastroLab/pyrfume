{
 "cells": [
  {
   "cell_type": "code",
   "execution_count": null,
   "metadata": {},
   "outputs": [],
   "source": [
    "import bs4\n",
    "import os\n",
    "import pandas as pd\n",
    "from urllib.request import urlopen\n",
    "\n",
    "import pyrfume\n",
    "from pyrfume import odorants"
   ]
  },
  {
   "cell_type": "code",
   "execution_count": null,
   "metadata": {},
   "outputs": [],
   "source": [
    "url = 'http://www.flavornet.org/cas.html'\n",
    "f = urlopen(url)\n",
    "html = f.read()\n",
    "soup = bs4.BeautifulSoup(html)"
   ]
  },
  {
   "cell_type": "code",
   "execution_count": null,
   "metadata": {},
   "outputs": [],
   "source": [
    "cas_list = []\n",
    "rows = soup.find('table').find_all('tr')\n",
    "for row in rows[1:]:\n",
    "    cas = row.find('td').text\n",
    "    cas_list.append(cas)"
   ]
  },
  {
   "cell_type": "code",
   "execution_count": null,
   "metadata": {},
   "outputs": [
    {
     "name": "stdout",
     "output_type": "stream",
     "text": [
      "[-----------------------100%---------------------] 738 out of 738 complete              \n",
      "Could not find 359794-78-8\n",
      "Could not find 168564-54-3\n",
      "Could not find 134452-45-2\n",
      "Could not find 134346-43-3\n",
      "Could not find 131092-10-9\n",
      "\n",
      "\n",
      "Could not find 97-47-3\n",
      "Could not find 465-31-6\n",
      "Could not find 619-62-5\n",
      "Could not find 3792-53-8\n",
      "Could not find 4955-29-7\n",
      "Could not find 4959-35-7\n",
      "Could not find 5944-20-7\n",
      "Could not find 10395-54-7\n",
      "Could not find 13955-48-1\n",
      "Could not find 15456-69-6\n",
      "Could not find 16750-94-0\n",
      "Could not find 18675-35-9\n",
      "Could not find 19888-33-6\n",
      "Could not find 21284-22-0\n",
      "Could not find 24703-35-3\n",
      "Could not find 27400-71-1\n",
      "Could not find 27576-03-0\n",
      "Could not find 28231-03-0\n",
      "Could not find 28982-60-7\n",
      "Could not find 29873-99-2\n",
      "Could not find 30021-74-0\n",
      "Could not find 32495-14-0\n",
      "Could not find 34318-21-3\n",
      "Could not find 36564-42-8\n",
      "Could not find 43160-78-7\n",
      "Could not find 51193-77-2\n",
      "Could not find 57461-21-9\n",
      "Could not find 58181-76-3\n",
      "Could not find 58334-55-7\n",
      "Could not find 65128-99-6\n",
      "Could not find 72203-97-5\n",
      "Could not find 72203-98-6\n",
      "Could not find 72755-76-1\n",
      "Could not find 73744-93-1\n",
      "Could not find 77026-83-6\n",
      "Could not find 77026-84-7\n",
      "Could not find 81018-77-1\n",
      "Could not find 92356-06-4\n",
      "Could not find 92760-25-3\n",
      "Could not find 95722-42-2\n",
      "Could not find 95908-33-1\n",
      "Could not find 114791-16-1\n",
      "Could not find 120021-96-7\n",
      "Could not find 125811-37-2\n",
      "Could not find 128386-31-2\n",
      "Could not find 131092-10-9\n",
      "Could not find 134346-43-3\n",
      "Could not find 134452-45-2\n",
      "Could not find 168564-54-3\n",
      "Could not find 359794-78-8\n"
     ]
    }
   ],
   "source": [
    "cids = odorants.get_cids(cas_list, kind='name')"
   ]
  },
  {
   "cell_type": "code",
   "execution_count": null,
   "metadata": {},
   "outputs": [
    {
     "data": {
      "text/html": [
       "<div>\n",
       "<style scoped>\n",
       "    .dataframe tbody tr th:only-of-type {\n",
       "        vertical-align: middle;\n",
       "    }\n",
       "\n",
       "    .dataframe tbody tr th {\n",
       "        vertical-align: top;\n",
       "    }\n",
       "\n",
       "    .dataframe thead th {\n",
       "        text-align: right;\n",
       "    }\n",
       "</style>\n",
       "<table border=\"1\" class=\"dataframe\">\n",
       "  <thead>\n",
       "    <tr style=\"text-align: right;\">\n",
       "      <th></th>\n",
       "      <th>CID</th>\n",
       "    </tr>\n",
       "  </thead>\n",
       "  <tbody>\n",
       "    <tr>\n",
       "      <th>57-06-7</th>\n",
       "      <td>5971</td>\n",
       "    </tr>\n",
       "    <tr>\n",
       "      <th>60-12-8</th>\n",
       "      <td>6054</td>\n",
       "    </tr>\n",
       "    <tr>\n",
       "      <th>64-17-5</th>\n",
       "      <td>702</td>\n",
       "    </tr>\n",
       "    <tr>\n",
       "      <th>64-19-7</th>\n",
       "      <td>176</td>\n",
       "    </tr>\n",
       "    <tr>\n",
       "      <th>65-85-0</th>\n",
       "      <td>243</td>\n",
       "    </tr>\n",
       "  </tbody>\n",
       "</table>\n",
       "</div>"
      ],
      "text/plain": [
       "          CID\n",
       "57-06-7  5971\n",
       "60-12-8  6054\n",
       "64-17-5   702\n",
       "64-19-7   176\n",
       "65-85-0   243"
      ]
     },
     "execution_count": null,
     "metadata": {},
     "output_type": "execute_result"
    }
   ],
   "source": [
    "df = pd.Series(cids, name='CID').to_frame()\n",
    "df.head()"
   ]
  },
  {
   "cell_type": "code",
   "execution_count": null,
   "metadata": {},
   "outputs": [],
   "source": [
    "file_path = os.path.join(pyrfume.DATA, 'flavornet.csv')\n",
    "df.to_csv(file_path)"
   ]
  }
 ],
 "metadata": {
  "kernelspec": {
   "display_name": "Python 3",
   "language": "python",
   "name": "python3"
  }
 },
 "nbformat": 4,
 "nbformat_minor": 4
}
