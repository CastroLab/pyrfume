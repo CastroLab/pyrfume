{
 "cells": [
  {
   "cell_type": "code",
   "execution_count": null,
   "metadata": {},
   "outputs": [],
   "source": [
    "bushdid_data = bushdid.load_data()\n",
    "bushdid_cas_list = bushdid_data.index.unique()\n",
    "results = odorants.get_cids(bushdid_cas_list, kind='name', verbose=False)"
   ]
  },
  {
   "cell_type": "code",
   "execution_count": null,
   "metadata": {},
   "outputs": [],
   "source": [
    "bushdid_data = pd.Series(results, name='CID').to_frame().join(bushdid_data)\n",
    "bushdid_data.head()"
   ]
  },
  {
   "cell_type": "code",
   "execution_count": null,
   "metadata": {},
   "outputs": [],
   "source": [
    "# Create a new file with CIDs and store here in `cids` dictionary\n",
    "file_path = os.path.join(pyrfume.DATA, 'bushdid', 'bushdid.csv')\n",
    "bushdid_data.to_csv(file_path)"
   ]
  }
 ],
 "metadata": {
  "kernelspec": {
   "display_name": "Python 3",
   "language": "python",
   "name": "python3"
  },
  "language_info": {
   "codemirror_mode": {
    "name": "ipython",
    "version": 3
   },
   "file_extension": ".py",
   "mimetype": "text/x-python",
   "name": "python",
   "nbconvert_exporter": "python",
   "pygments_lexer": "ipython3",
   "version": "3.6.8"
  }
 },
 "nbformat": 4,
 "nbformat_minor": 2
}
