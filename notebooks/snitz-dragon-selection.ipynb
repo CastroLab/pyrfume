{
 "cells": [
  {
   "cell_type": "code",
   "execution_count": 15,
   "metadata": {},
   "outputs": [
    {
     "name": "stderr",
     "output_type": "stream",
     "text": [
      "/Users/rgerkin/miniconda3/lib/python3.6/site-packages/sklearn/externals/six.py:31: DeprecationWarning: The module is deprecated in version 0.21 and will be removed in version 0.23 since we've dropped support for Python 2.7. Please rely on the official version of six (https://pypi.org/project/six/).\n",
      "  \"(https://pypi.org/project/six/).\", DeprecationWarning)\n",
      "Using TensorFlow backend.\n"
     ]
    }
   ],
   "source": [
    "%matplotlib inline\n",
    "import numpy as np\n",
    "import pandas as pd\n",
    "from fancyimpute import KNN\n",
    "from sklearn.preprocessing import MinMaxScaler, Normalizer"
   ]
  },
  {
   "cell_type": "markdown",
   "metadata": {},
   "source": [
    "### Load Snitz Dataset #1"
   ]
  },
  {
   "cell_type": "code",
   "execution_count": 2,
   "metadata": {},
   "outputs": [
    {
     "data": {
      "text/html": [
       "<div>\n",
       "<style scoped>\n",
       "    .dataframe tbody tr th:only-of-type {\n",
       "        vertical-align: middle;\n",
       "    }\n",
       "\n",
       "    .dataframe tbody tr th {\n",
       "        vertical-align: top;\n",
       "    }\n",
       "\n",
       "    .dataframe thead th {\n",
       "        text-align: right;\n",
       "    }\n",
       "</style>\n",
       "<table border=\"1\" class=\"dataframe\">\n",
       "  <thead>\n",
       "    <tr style=\"text-align: right;\">\n",
       "      <th></th>\n",
       "      <th>A</th>\n",
       "      <th>B</th>\n",
       "      <th>Similarity</th>\n",
       "    </tr>\n",
       "  </thead>\n",
       "  <tbody>\n",
       "    <tr>\n",
       "      <th>1</th>\n",
       "      <td>6501,264,2879,7685,7731,326,7888,61138,8030,1183</td>\n",
       "      <td>240,93009,323,8148,7762,3314,460,6184,798,6054</td>\n",
       "      <td>39.583333</td>\n",
       "    </tr>\n",
       "    <tr>\n",
       "      <th>2</th>\n",
       "      <td>6501,264,2879,7685,7731,326,7888,61138,8030,1183</td>\n",
       "      <td>7710</td>\n",
       "      <td>34.895833</td>\n",
       "    </tr>\n",
       "    <tr>\n",
       "      <th>3</th>\n",
       "      <td>6501,264,2879,7685,7731,326,7888,61138,8030,1183</td>\n",
       "      <td>31276,93009,11002,323,7966,8148,7632,22201,193...</td>\n",
       "      <td>47.395833</td>\n",
       "    </tr>\n",
       "    <tr>\n",
       "      <th>4</th>\n",
       "      <td>6501,264,2879,7685,7731,326,7888,61138,8030,1183</td>\n",
       "      <td>10890,93009,11002,6982,323,8797,7966,8148,7632...</td>\n",
       "      <td>49.479167</td>\n",
       "    </tr>\n",
       "    <tr>\n",
       "      <th>5</th>\n",
       "      <td>6501,264,2879,7685,7731,326,7888,61138,8030,1183</td>\n",
       "      <td>7710,31276,10890,240,93009,11002,6982,323,8797...</td>\n",
       "      <td>58.854167</td>\n",
       "    </tr>\n",
       "  </tbody>\n",
       "</table>\n",
       "</div>"
      ],
      "text/plain": [
       "                                                  A  \\\n",
       "1  6501,264,2879,7685,7731,326,7888,61138,8030,1183   \n",
       "2  6501,264,2879,7685,7731,326,7888,61138,8030,1183   \n",
       "3  6501,264,2879,7685,7731,326,7888,61138,8030,1183   \n",
       "4  6501,264,2879,7685,7731,326,7888,61138,8030,1183   \n",
       "5  6501,264,2879,7685,7731,326,7888,61138,8030,1183   \n",
       "\n",
       "                                                   B  Similarity  \n",
       "1     240,93009,323,8148,7762,3314,460,6184,798,6054   39.583333  \n",
       "2                                               7710   34.895833  \n",
       "3  31276,93009,11002,323,7966,8148,7632,22201,193...   47.395833  \n",
       "4  10890,93009,11002,6982,323,8797,7966,8148,7632...   49.479167  \n",
       "5  7710,31276,10890,240,93009,11002,6982,323,8797...   58.854167  "
      ]
     },
     "execution_count": 2,
     "metadata": {},
     "output_type": "execute_result"
    }
   ],
   "source": [
    "df1 = pd.read_csv('data/snitz/experiment1_comparisons.csv',\n",
    "            header=0,index_col=0,names=['A','B','Similarity'])\n",
    "df1_cids = pd.read_csv('data/snitz/experiment1_cids.csv', index_col=0)\n",
    "df1_cids = df1_cids.applymap(lambda x:x.replace('[','').replace(']','').strip().replace(' ',','))\n",
    "df1_cids\n",
    "df1.loc[:, ['A','B']] = df1.loc[:, ['A','B']].applymap(lambda x:df1_cids.loc[x]['Mixture Cids'])\n",
    "df1.head()"
   ]
  },
  {
   "cell_type": "code",
   "execution_count": 3,
   "metadata": {},
   "outputs": [
    {
     "data": {
      "text/plain": [
       "(191, 49)"
      ]
     },
     "execution_count": 3,
     "metadata": {},
     "output_type": "execute_result"
    }
   ],
   "source": [
    "df1.shape[0],len(set(df1[['A','B']].values.ravel()))"
   ]
  },
  {
   "cell_type": "code",
   "execution_count": 4,
   "metadata": {},
   "outputs": [
    {
     "data": {
      "image/png": "[encoded data removed]",
      "text/plain": [
       "<Figure size 432x288 with 1 Axes>"
      ]
     },
     "metadata": {
      "needs_background": "light"
     },
     "output_type": "display_data"
    }
   ],
   "source": [
    "df1.hist('Similarity');"
   ]
  },
  {
   "cell_type": "markdown",
   "metadata": {},
   "source": [
    "### Load Snitz Dataset #2"
   ]
  },
  {
   "cell_type": "code",
   "execution_count": 5,
   "metadata": {},
   "outputs": [
    {
     "data": {
      "text/html": [
       "<div>\n",
       "<style scoped>\n",
       "    .dataframe tbody tr th:only-of-type {\n",
       "        vertical-align: middle;\n",
       "    }\n",
       "\n",
       "    .dataframe tbody tr th {\n",
       "        vertical-align: top;\n",
       "    }\n",
       "\n",
       "    .dataframe thead th {\n",
       "        text-align: right;\n",
       "    }\n",
       "</style>\n",
       "<table border=\"1\" class=\"dataframe\">\n",
       "  <thead>\n",
       "    <tr style=\"text-align: right;\">\n",
       "      <th></th>\n",
       "      <th>A</th>\n",
       "      <th>B</th>\n",
       "      <th>Similarity</th>\n",
       "    </tr>\n",
       "  </thead>\n",
       "  <tbody>\n",
       "    <tr>\n",
       "      <th>1</th>\n",
       "      <td>326,26331,6544,1140</td>\n",
       "      <td>7710,62433,7519,7685,3314</td>\n",
       "      <td>42.892077</td>\n",
       "    </tr>\n",
       "    <tr>\n",
       "      <th>2</th>\n",
       "      <td>326,26331,6544,1140</td>\n",
       "      <td>31276,62433,7519,8129,12178,18827,10722</td>\n",
       "      <td>38.292519</td>\n",
       "    </tr>\n",
       "    <tr>\n",
       "      <th>3</th>\n",
       "      <td>326,26331,6544,1140</td>\n",
       "      <td>62433,8797,2758,3314,8635,61138,6054,6544,10722</td>\n",
       "      <td>58.220544</td>\n",
       "    </tr>\n",
       "    <tr>\n",
       "      <th>4</th>\n",
       "      <td>7410,240,93009,8635</td>\n",
       "      <td>7519,8148,31252,8103,5281168,6544</td>\n",
       "      <td>29.732108</td>\n",
       "    </tr>\n",
       "    <tr>\n",
       "      <th>5</th>\n",
       "      <td>7410,240,93009,8635</td>\n",
       "      <td>240,307,7731,2758,12178,62336,8635</td>\n",
       "      <td>62.231981</td>\n",
       "    </tr>\n",
       "  </tbody>\n",
       "</table>\n",
       "</div>"
      ],
      "text/plain": [
       "                     A                                                B  \\\n",
       "1  326,26331,6544,1140                        7710,62433,7519,7685,3314   \n",
       "2  326,26331,6544,1140          31276,62433,7519,8129,12178,18827,10722   \n",
       "3  326,26331,6544,1140  62433,8797,2758,3314,8635,61138,6054,6544,10722   \n",
       "4  7410,240,93009,8635                7519,8148,31252,8103,5281168,6544   \n",
       "5  7410,240,93009,8635               240,307,7731,2758,12178,62336,8635   \n",
       "\n",
       "   Similarity  \n",
       "1   42.892077  \n",
       "2   38.292519  \n",
       "3   58.220544  \n",
       "4   29.732108  \n",
       "5   62.231981  "
      ]
     },
     "execution_count": 5,
     "metadata": {},
     "output_type": "execute_result"
    }
   ],
   "source": [
    "df2 = pd.read_csv('data/snitz/experiment2_comparisons.csv',\n",
    "            header=0,index_col=0,names=['A','B','Similarity'])\n",
    "df2_cids = pd.read_csv('data/snitz/experiment2_cids.csv', index_col=0)\n",
    "df2_cids = df2_cids.applymap(lambda x:x.replace('[','').replace(']','').strip().replace(' ',','))\n",
    "df2_cids\n",
    "df2.loc[:, ['A','B']] = df2.loc[:, ['A','B']].applymap(lambda x:df2_cids.loc[x]['Mixture Cids'])\n",
    "df2.head()"
   ]
  },
  {
   "cell_type": "code",
   "execution_count": 6,
   "metadata": {},
   "outputs": [
    {
     "data": {
      "text/plain": [
       "(95, 14)"
      ]
     },
     "execution_count": 6,
     "metadata": {},
     "output_type": "execute_result"
    }
   ],
   "source": [
    "df2.shape[0],len(set(df2[['A','B']].values.ravel()))"
   ]
  },
  {
   "cell_type": "code",
   "execution_count": 7,
   "metadata": {},
   "outputs": [
    {
     "data": {
      "image/png": "[encoded data removed]",
      "text/plain": [
       "<Figure size 432x288 with 1 Axes>"
      ]
     },
     "metadata": {
      "needs_background": "light"
     },
     "output_type": "display_data"
    }
   ],
   "source": [
    "df2.hist('Similarity');"
   ]
  },
  {
   "cell_type": "markdown",
   "metadata": {},
   "source": [
    "### Load Snitz Dataset #3"
   ]
  },
  {
   "cell_type": "code",
   "execution_count": 8,
   "metadata": {},
   "outputs": [
    {
     "data": {
      "text/html": [
       "<div>\n",
       "<style scoped>\n",
       "    .dataframe tbody tr th:only-of-type {\n",
       "        vertical-align: middle;\n",
       "    }\n",
       "\n",
       "    .dataframe tbody tr th {\n",
       "        vertical-align: top;\n",
       "    }\n",
       "\n",
       "    .dataframe thead th {\n",
       "        text-align: right;\n",
       "    }\n",
       "</style>\n",
       "<table border=\"1\" class=\"dataframe\">\n",
       "  <thead>\n",
       "    <tr style=\"text-align: right;\">\n",
       "      <th></th>\n",
       "      <th>A</th>\n",
       "      <th>B</th>\n",
       "      <th>Similarity</th>\n",
       "    </tr>\n",
       "  </thead>\n",
       "  <tbody>\n",
       "    <tr>\n",
       "      <th>1</th>\n",
       "      <td>7410</td>\n",
       "      <td>19310</td>\n",
       "      <td>14.683684</td>\n",
       "    </tr>\n",
       "    <tr>\n",
       "      <th>2</th>\n",
       "      <td>7710</td>\n",
       "      <td>7749</td>\n",
       "      <td>30.498500</td>\n",
       "    </tr>\n",
       "    <tr>\n",
       "      <th>3</th>\n",
       "      <td>31276</td>\n",
       "      <td>3314</td>\n",
       "      <td>42.093500</td>\n",
       "    </tr>\n",
       "    <tr>\n",
       "      <th>4</th>\n",
       "      <td>7519</td>\n",
       "      <td>8129</td>\n",
       "      <td>48.214500</td>\n",
       "    </tr>\n",
       "    <tr>\n",
       "      <th>5</th>\n",
       "      <td>240</td>\n",
       "      <td>8103</td>\n",
       "      <td>59.620500</td>\n",
       "    </tr>\n",
       "  </tbody>\n",
       "</table>\n",
       "</div>"
      ],
      "text/plain": [
       "       A      B  Similarity\n",
       "1   7410  19310   14.683684\n",
       "2   7710   7749   30.498500\n",
       "3  31276   3314   42.093500\n",
       "4   7519   8129   48.214500\n",
       "5    240   8103   59.620500"
      ]
     },
     "execution_count": 8,
     "metadata": {},
     "output_type": "execute_result"
    }
   ],
   "source": [
    "df3 = pd.read_csv('data/snitz/experiment3_comparisons.csv',\n",
    "            header=0,index_col=0,names=['A','B','Similarity'])\n",
    "df3.head()"
   ]
  },
  {
   "cell_type": "code",
   "execution_count": 9,
   "metadata": {},
   "outputs": [
    {
     "data": {
      "text/plain": [
       "(74, 49)"
      ]
     },
     "execution_count": 9,
     "metadata": {},
     "output_type": "execute_result"
    }
   ],
   "source": [
    "df3.shape[0],len(set(df3[['A','B']].values.ravel()))"
   ]
  },
  {
   "cell_type": "code",
   "execution_count": 10,
   "metadata": {},
   "outputs": [
    {
     "data": {
      "image/png": "[encoded data removed]",
      "text/plain": [
       "<Figure size 432x288 with 1 Axes>"
      ]
     },
     "metadata": {
      "needs_background": "light"
     },
     "output_type": "display_data"
    }
   ],
   "source": [
    "df3.hist('Similarity');"
   ]
  },
  {
   "cell_type": "markdown",
   "metadata": {},
   "source": [
    "### Get all Snitz CIDs"
   ]
  },
  {
   "cell_type": "code",
   "execution_count": 13,
   "metadata": {},
   "outputs": [
    {
     "name": "stdout",
     "output_type": "stream",
     "text": [
      "There are 86 distinct CIDs across all of the Snitz datasets\n"
     ]
    }
   ],
   "source": [
    "snitz_cids = []\n",
    "for x in df1_cids['Mixture Cids']:\n",
    "    snitz_cids += x.split(',')\n",
    "for x in df2_cids['Mixture Cids']:\n",
    "    snitz_cids += x.split(',')\n",
    "for x in df3[['A','B']].values.ravel():\n",
    "    snitz_cids += [x]\n",
    "snitz_cids = np.array(snitz_cids).astype(int)\n",
    "snitz_cids = set(snitz_cids)\n",
    "print(\"There are %d distinct CIDs across all of the Snitz datasets\" % len(snitz_cids))"
   ]
  },
  {
   "cell_type": "markdown",
   "metadata": {},
   "source": [
    "### Load the Dragon data and scale each features to 0-1."
   ]
  },
  {
   "cell_type": "code",
   "execution_count": 16,
   "metadata": {},
   "outputs": [
    {
     "name": "stderr",
     "output_type": "stream",
     "text": [
      "/Users/rgerkin/miniconda3/lib/python3.6/site-packages/sklearn/preprocessing/data.py:355: RuntimeWarning: All-NaN slice encountered\n",
      "  data_min = np.nanmin(X, axis=0)\n",
      "/Users/rgerkin/miniconda3/lib/python3.6/site-packages/sklearn/preprocessing/data.py:356: RuntimeWarning: All-NaN slice encountered\n",
      "  data_max = np.nanmax(X, axis=0)\n"
     ]
    }
   ],
   "source": [
    "df_dragon = pd.read_csv('data/cids-smiles-dragon.txt').set_index('CID')\n",
    "df_dragon = df_dragon.iloc[:, 1:] # Remove SMILES column\n",
    "\n",
    "# Normalize every feature to [0, 1]\n",
    "mms = MinMaxScaler()\n",
    "df_dragon[:] = mms.fit_transform(df_dragon)\n",
    "import pickle\n",
    "with open('data/dragon-minmaxscaler.pickle', 'wb') as f:\n",
    "    pickle.dump(mms, f)"
   ]
  },
  {
   "cell_type": "markdown",
   "metadata": {},
   "source": [
    "### Cleanup and Impute"
   ]
  },
  {
   "cell_type": "code",
   "execution_count": 18,
   "metadata": {},
   "outputs": [
    {
     "data": {
      "text/plain": [
       "{6259976}"
      ]
     },
     "execution_count": 18,
     "metadata": {},
     "output_type": "execute_result"
    }
   ],
   "source": [
    "# No dragon info yet for these CIDs\n",
    "no_dragon = snitz_cids.difference(df_dragon.index)\n",
    "no_dragon"
   ]
  },
  {
   "cell_type": "code",
   "execution_count": 19,
   "metadata": {},
   "outputs": [],
   "source": [
    "# Remove these from the Snitz data\n",
    "df_snitz_dragon = df_dragon.loc[snitz_cids.difference(no_dragon)]\n",
    "\n",
    "for nd in no_dragon:\n",
    "    df_snitz_dragon.loc[nd, :] = 0"
   ]
  },
  {
   "cell_type": "code",
   "execution_count": 20,
   "metadata": {},
   "outputs": [
    {
     "name": "stdout",
     "output_type": "stream",
     "text": [
      "Imputing row 1/86 with 2 missing, elapsed time: 0.146\n"
     ]
    }
   ],
   "source": [
    "# Remove bad features (too many NaNs) and impute remaining NaNs\n",
    "frac_bad = df_snitz_dragon.isnull().mean()\n",
    "good = frac_bad[frac_bad<0.3].index\n",
    "df_snitz_dragon = df_snitz_dragon.loc[:, good]\n",
    "\n",
    "knn = KNN(k=5)\n",
    "df_snitz_dragon[:] = knn.fit_transform(df_snitz_dragon.values)"
   ]
  },
  {
   "cell_type": "code",
   "execution_count": 388,
   "metadata": {},
   "outputs": [],
   "source": [
    "#from olfactometer.odorants import from_cids\n",
    "#pubchem_data = from_cids([int(x) for x in snitz_cids])\n",
    "#pd.DataFrame.from_dict(pubchem_data).set_index('CID').to_csv('data/snitz-odorant-info.csv')"
   ]
  },
  {
   "cell_type": "code",
   "execution_count": 396,
   "metadata": {},
   "outputs": [
    {
     "data": {
      "text/html": [
       "<div>\n",
       "<style scoped>\n",
       "    .dataframe tbody tr th:only-of-type {\n",
       "        vertical-align: middle;\n",
       "    }\n",
       "\n",
       "    .dataframe tbody tr th {\n",
       "        vertical-align: top;\n",
       "    }\n",
       "\n",
       "    .dataframe thead th {\n",
       "        text-align: right;\n",
       "    }\n",
       "</style>\n",
       "<table border=\"1\" class=\"dataframe\">\n",
       "  <thead>\n",
       "    <tr style=\"text-align: right;\">\n",
       "      <th></th>\n",
       "      <th>ABC</th>\n",
       "      <th>ABCGG</th>\n",
       "      <th>nAcid</th>\n",
       "      <th>nBase</th>\n",
       "      <th>SpAbs_A</th>\n",
       "      <th>SpMax_A</th>\n",
       "      <th>SpDiam_A</th>\n",
       "      <th>SpAD_A</th>\n",
       "      <th>SpMAD_A</th>\n",
       "      <th>LogEE_A</th>\n",
       "      <th>...</th>\n",
       "      <th>SRW10</th>\n",
       "      <th>TSRW10</th>\n",
       "      <th>MW</th>\n",
       "      <th>AMW</th>\n",
       "      <th>WPath</th>\n",
       "      <th>WPol</th>\n",
       "      <th>Zagreb1</th>\n",
       "      <th>Zagreb2</th>\n",
       "      <th>mZagreb1</th>\n",
       "      <th>mZagreb2</th>\n",
       "    </tr>\n",
       "    <tr>\n",
       "      <th>CID</th>\n",
       "      <th></th>\n",
       "      <th></th>\n",
       "      <th></th>\n",
       "      <th></th>\n",
       "      <th></th>\n",
       "      <th></th>\n",
       "      <th></th>\n",
       "      <th></th>\n",
       "      <th></th>\n",
       "      <th></th>\n",
       "      <th></th>\n",
       "      <th></th>\n",
       "      <th></th>\n",
       "      <th></th>\n",
       "      <th></th>\n",
       "      <th></th>\n",
       "      <th></th>\n",
       "      <th></th>\n",
       "      <th></th>\n",
       "      <th></th>\n",
       "      <th></th>\n",
       "    </tr>\n",
       "  </thead>\n",
       "  <tbody>\n",
       "    <tr>\n",
       "      <th>5634</th>\n",
       "      <td>0.469768</td>\n",
       "      <td>0.476641</td>\n",
       "      <td>0.5</td>\n",
       "      <td>0.0</td>\n",
       "      <td>0.543198</td>\n",
       "      <td>0.279119</td>\n",
       "      <td>0.305004</td>\n",
       "      <td>0.543198</td>\n",
       "      <td>0.539186</td>\n",
       "      <td>0.648575</td>\n",
       "      <td>...</td>\n",
       "      <td>0.434828</td>\n",
       "      <td>0.350316</td>\n",
       "      <td>0.574890</td>\n",
       "      <td>0.141495</td>\n",
       "      <td>0.584483</td>\n",
       "      <td>0.256410</td>\n",
       "      <td>0.346939</td>\n",
       "      <td>0.263566</td>\n",
       "      <td>0.605317</td>\n",
       "      <td>0.806452</td>\n",
       "    </tr>\n",
       "    <tr>\n",
       "      <th>7685</th>\n",
       "      <td>0.540562</td>\n",
       "      <td>0.557665</td>\n",
       "      <td>0.0</td>\n",
       "      <td>0.0</td>\n",
       "      <td>0.563356</td>\n",
       "      <td>0.568673</td>\n",
       "      <td>0.621411</td>\n",
       "      <td>0.563356</td>\n",
       "      <td>0.613871</td>\n",
       "      <td>0.695151</td>\n",
       "      <td>...</td>\n",
       "      <td>0.678160</td>\n",
       "      <td>0.410966</td>\n",
       "      <td>0.540176</td>\n",
       "      <td>0.290074</td>\n",
       "      <td>0.436207</td>\n",
       "      <td>0.384615</td>\n",
       "      <td>0.469388</td>\n",
       "      <td>0.410853</td>\n",
       "      <td>0.654397</td>\n",
       "      <td>0.655914</td>\n",
       "    </tr>\n",
       "    <tr>\n",
       "      <th>31252</th>\n",
       "      <td>0.243630</td>\n",
       "      <td>0.235215</td>\n",
       "      <td>0.0</td>\n",
       "      <td>0.0</td>\n",
       "      <td>0.245781</td>\n",
       "      <td>0.487420</td>\n",
       "      <td>0.532623</td>\n",
       "      <td>0.245781</td>\n",
       "      <td>0.703555</td>\n",
       "      <td>0.386513</td>\n",
       "      <td>...</td>\n",
       "      <td>0.541845</td>\n",
       "      <td>0.234485</td>\n",
       "      <td>0.138152</td>\n",
       "      <td>0.313182</td>\n",
       "      <td>0.081034</td>\n",
       "      <td>0.179487</td>\n",
       "      <td>0.224490</td>\n",
       "      <td>0.201550</td>\n",
       "      <td>0.290389</td>\n",
       "      <td>0.225806</td>\n",
       "    </tr>\n",
       "    <tr>\n",
       "      <th>5283349</th>\n",
       "      <td>0.339207</td>\n",
       "      <td>0.357763</td>\n",
       "      <td>0.0</td>\n",
       "      <td>0.0</td>\n",
       "      <td>0.425776</td>\n",
       "      <td>0.222327</td>\n",
       "      <td>0.242945</td>\n",
       "      <td>0.425776</td>\n",
       "      <td>0.593768</td>\n",
       "      <td>0.532529</td>\n",
       "      <td>...</td>\n",
       "      <td>0.336217</td>\n",
       "      <td>0.269286</td>\n",
       "      <td>0.391037</td>\n",
       "      <td>0.149374</td>\n",
       "      <td>0.353448</td>\n",
       "      <td>0.205128</td>\n",
       "      <td>0.244898</td>\n",
       "      <td>0.186047</td>\n",
       "      <td>0.441718</td>\n",
       "      <td>0.677419</td>\n",
       "    </tr>\n",
       "    <tr>\n",
       "      <th>7710</th>\n",
       "      <td>0.404488</td>\n",
       "      <td>0.439973</td>\n",
       "      <td>0.0</td>\n",
       "      <td>0.0</td>\n",
       "      <td>0.443987</td>\n",
       "      <td>0.562405</td>\n",
       "      <td>0.484675</td>\n",
       "      <td>0.443987</td>\n",
       "      <td>0.673506</td>\n",
       "      <td>0.584364</td>\n",
       "      <td>...</td>\n",
       "      <td>0.561930</td>\n",
       "      <td>0.639575</td>\n",
       "      <td>0.413971</td>\n",
       "      <td>0.171010</td>\n",
       "      <td>0.286207</td>\n",
       "      <td>0.230769</td>\n",
       "      <td>0.346939</td>\n",
       "      <td>0.302326</td>\n",
       "      <td>0.400818</td>\n",
       "      <td>0.548387</td>\n",
       "    </tr>\n",
       "  </tbody>\n",
       "</table>\n",
       "<p>5 rows × 1605 columns</p>\n",
       "</div>"
      ],
      "text/plain": [
       "              ABC     ABCGG  nAcid  nBase   SpAbs_A   SpMax_A  SpDiam_A  \\\n",
       "CID                                                                       \n",
       "5634     0.469768  0.476641    0.5    0.0  0.543198  0.279119  0.305004   \n",
       "7685     0.540562  0.557665    0.0    0.0  0.563356  0.568673  0.621411   \n",
       "31252    0.243630  0.235215    0.0    0.0  0.245781  0.487420  0.532623   \n",
       "5283349  0.339207  0.357763    0.0    0.0  0.425776  0.222327  0.242945   \n",
       "7710     0.404488  0.439973    0.0    0.0  0.443987  0.562405  0.484675   \n",
       "\n",
       "           SpAD_A   SpMAD_A   LogEE_A  ...     SRW10    TSRW10        MW  \\\n",
       "CID                                    ...                                 \n",
       "5634     0.543198  0.539186  0.648575  ...  0.434828  0.350316  0.574890   \n",
       "7685     0.563356  0.613871  0.695151  ...  0.678160  0.410966  0.540176   \n",
       "31252    0.245781  0.703555  0.386513  ...  0.541845  0.234485  0.138152   \n",
       "5283349  0.425776  0.593768  0.532529  ...  0.336217  0.269286  0.391037   \n",
       "7710     0.443987  0.673506  0.584364  ...  0.561930  0.639575  0.413971   \n",
       "\n",
       "              AMW     WPath      WPol   Zagreb1   Zagreb2  mZagreb1  mZagreb2  \n",
       "CID                                                                            \n",
       "5634     0.141495  0.584483  0.256410  0.346939  0.263566  0.605317  0.806452  \n",
       "7685     0.290074  0.436207  0.384615  0.469388  0.410853  0.654397  0.655914  \n",
       "31252    0.313182  0.081034  0.179487  0.224490  0.201550  0.290389  0.225806  \n",
       "5283349  0.149374  0.353448  0.205128  0.244898  0.186047  0.441718  0.677419  \n",
       "7710     0.171010  0.286207  0.230769  0.346939  0.302326  0.400818  0.548387  \n",
       "\n",
       "[5 rows x 1605 columns]"
      ]
     },
     "execution_count": 396,
     "metadata": {},
     "output_type": "execute_result"
    }
   ],
   "source": [
    "#df_snitz_mordred = pd.read_csv('data/snitz-mordred.csv').set_index('CID')\n",
    "#df_snitz_mordred[:] = mms.fit_transform(df_snitz_mordred.values)\n",
    "#df_snitz_mordred.head()"
   ]
  },
  {
   "cell_type": "code",
   "execution_count": 21,
   "metadata": {},
   "outputs": [],
   "source": [
    "df_snitz_features = df_snitz_dragon"
   ]
  },
  {
   "cell_type": "code",
   "execution_count": 22,
   "metadata": {},
   "outputs": [],
   "source": [
    "# Normalize every molecule to have unit norm (to be unit vector in feature space)\n",
    "nmr = Normalizer()\n",
    "df_snitz_features[:] = nmr.fit_transform(df_snitz_features)"
   ]
  },
  {
   "cell_type": "code",
   "execution_count": 49,
   "metadata": {},
   "outputs": [],
   "source": [
    "def get_unit_distance(row):\n",
    "    \"\"\"Convert feature vectors to unit vectors, summing across odorants if needed\n",
    "    and then getting the vector difference, which will be related to the cosine of\n",
    "    of the angle between them\"\"\"\n",
    "    a, b, similarity = row\n",
    "    if isinstance(a, str):\n",
    "        a = [int(x) for x in a.split(',')]\n",
    "        b = [int(x) for x in b.split(',')]\n",
    "    A = df_snitz_features.loc[a,:].values\n",
    "    B = df_snitz_features.loc[b,:].values\n",
    "    if A.ndim > 1:\n",
    "        A = A.sum(axis=0)\n",
    "        B = B.sum(axis=0)\n",
    "        A /= np.linalg.norm(A)\n",
    "        B /= np.linalg.norm(B)\n",
    "    return pd.Series(np.abs(A - B), index=df_snitz_features.columns, name=row.name)"
   ]
  },
  {
   "cell_type": "code",
   "execution_count": 50,
   "metadata": {},
   "outputs": [
    {
     "data": {
      "text/html": [
       "<div>\n",
       "<style scoped>\n",
       "    .dataframe tbody tr th:only-of-type {\n",
       "        vertical-align: middle;\n",
       "    }\n",
       "\n",
       "    .dataframe tbody tr th {\n",
       "        vertical-align: top;\n",
       "    }\n",
       "\n",
       "    .dataframe thead th {\n",
       "        text-align: right;\n",
       "    }\n",
       "</style>\n",
       "<table border=\"1\" class=\"dataframe\">\n",
       "  <thead>\n",
       "    <tr style=\"text-align: right;\">\n",
       "      <th></th>\n",
       "      <th>A</th>\n",
       "      <th>B</th>\n",
       "      <th>Similarity</th>\n",
       "      <th>MW</th>\n",
       "      <th>AMW</th>\n",
       "      <th>Sv</th>\n",
       "      <th>Se</th>\n",
       "      <th>Sp</th>\n",
       "      <th>Si</th>\n",
       "      <th>Mv</th>\n",
       "      <th>...</th>\n",
       "      <th>Psychotic-80</th>\n",
       "      <th>Psychotic-50</th>\n",
       "      <th>Hypertens-80</th>\n",
       "      <th>Hypertens-50</th>\n",
       "      <th>Hypnotic-80</th>\n",
       "      <th>Hypnotic-50</th>\n",
       "      <th>Neoplastic-80</th>\n",
       "      <th>Neoplastic-50</th>\n",
       "      <th>Infective-80</th>\n",
       "      <th>Infective-50</th>\n",
       "    </tr>\n",
       "  </thead>\n",
       "  <tbody>\n",
       "    <tr>\n",
       "      <th>0</th>\n",
       "      <td>6501,264,2879,7685,7731,326,7888,61138,8030,1183</td>\n",
       "      <td>240,93009,323,8148,7762,3314,460,6184,798,6054</td>\n",
       "      <td>0.395833</td>\n",
       "      <td>0.000088</td>\n",
       "      <td>0.000161</td>\n",
       "      <td>0.000185</td>\n",
       "      <td>0.000245</td>\n",
       "      <td>0.000258</td>\n",
       "      <td>0.000319</td>\n",
       "      <td>0.000230</td>\n",
       "      <td>...</td>\n",
       "      <td>0.0</td>\n",
       "      <td>0.0</td>\n",
       "      <td>0.004491</td>\n",
       "      <td>0.0</td>\n",
       "      <td>0.004700</td>\n",
       "      <td>0.0</td>\n",
       "      <td>0.000021</td>\n",
       "      <td>0.0</td>\n",
       "      <td>0.009609</td>\n",
       "      <td>0.0</td>\n",
       "    </tr>\n",
       "    <tr>\n",
       "      <th>1</th>\n",
       "      <td>6501,264,2879,7685,7731,326,7888,61138,8030,1183</td>\n",
       "      <td>7710</td>\n",
       "      <td>0.348958</td>\n",
       "      <td>0.000657</td>\n",
       "      <td>0.000543</td>\n",
       "      <td>0.001239</td>\n",
       "      <td>0.001818</td>\n",
       "      <td>0.001513</td>\n",
       "      <td>0.002032</td>\n",
       "      <td>0.002901</td>\n",
       "      <td>...</td>\n",
       "      <td>0.0</td>\n",
       "      <td>0.0</td>\n",
       "      <td>0.004491</td>\n",
       "      <td>0.0</td>\n",
       "      <td>0.014068</td>\n",
       "      <td>0.0</td>\n",
       "      <td>0.004491</td>\n",
       "      <td>0.0</td>\n",
       "      <td>0.018978</td>\n",
       "      <td>0.0</td>\n",
       "    </tr>\n",
       "    <tr>\n",
       "      <th>2</th>\n",
       "      <td>6501,264,2879,7685,7731,326,7888,61138,8030,1183</td>\n",
       "      <td>31276,93009,11002,323,7966,8148,7632,22201,193...</td>\n",
       "      <td>0.473958</td>\n",
       "      <td>0.000125</td>\n",
       "      <td>0.000206</td>\n",
       "      <td>0.000402</td>\n",
       "      <td>0.000704</td>\n",
       "      <td>0.000658</td>\n",
       "      <td>0.000855</td>\n",
       "      <td>0.001290</td>\n",
       "      <td>...</td>\n",
       "      <td>0.0</td>\n",
       "      <td>0.0</td>\n",
       "      <td>0.004491</td>\n",
       "      <td>0.0</td>\n",
       "      <td>0.006939</td>\n",
       "      <td>0.0</td>\n",
       "      <td>0.002223</td>\n",
       "      <td>0.0</td>\n",
       "      <td>0.006962</td>\n",
       "      <td>0.0</td>\n",
       "    </tr>\n",
       "    <tr>\n",
       "      <th>3</th>\n",
       "      <td>6501,264,2879,7685,7731,326,7888,61138,8030,1183</td>\n",
       "      <td>10890,93009,11002,6982,323,8797,7966,8148,7632...</td>\n",
       "      <td>0.494792</td>\n",
       "      <td>0.000137</td>\n",
       "      <td>0.000243</td>\n",
       "      <td>0.000480</td>\n",
       "      <td>0.000749</td>\n",
       "      <td>0.000733</td>\n",
       "      <td>0.000904</td>\n",
       "      <td>0.001223</td>\n",
       "      <td>...</td>\n",
       "      <td>0.0</td>\n",
       "      <td>0.0</td>\n",
       "      <td>0.003091</td>\n",
       "      <td>0.0</td>\n",
       "      <td>0.007721</td>\n",
       "      <td>0.0</td>\n",
       "      <td>0.001611</td>\n",
       "      <td>0.0</td>\n",
       "      <td>0.006315</td>\n",
       "      <td>0.0</td>\n",
       "    </tr>\n",
       "    <tr>\n",
       "      <th>4</th>\n",
       "      <td>6501,264,2879,7685,7731,326,7888,61138,8030,1183</td>\n",
       "      <td>7710,31276,10890,240,93009,11002,6982,323,8797...</td>\n",
       "      <td>0.588542</td>\n",
       "      <td>0.000096</td>\n",
       "      <td>0.000250</td>\n",
       "      <td>0.000435</td>\n",
       "      <td>0.000697</td>\n",
       "      <td>0.000674</td>\n",
       "      <td>0.000849</td>\n",
       "      <td>0.001206</td>\n",
       "      <td>...</td>\n",
       "      <td>0.0</td>\n",
       "      <td>0.0</td>\n",
       "      <td>0.002319</td>\n",
       "      <td>0.0</td>\n",
       "      <td>0.008189</td>\n",
       "      <td>0.0</td>\n",
       "      <td>0.001204</td>\n",
       "      <td>0.0</td>\n",
       "      <td>0.007154</td>\n",
       "      <td>0.0</td>\n",
       "    </tr>\n",
       "  </tbody>\n",
       "</table>\n",
       "<p>5 rows × 4866 columns</p>\n",
       "</div>"
      ],
      "text/plain": [
       "                                                  A  \\\n",
       "0  6501,264,2879,7685,7731,326,7888,61138,8030,1183   \n",
       "1  6501,264,2879,7685,7731,326,7888,61138,8030,1183   \n",
       "2  6501,264,2879,7685,7731,326,7888,61138,8030,1183   \n",
       "3  6501,264,2879,7685,7731,326,7888,61138,8030,1183   \n",
       "4  6501,264,2879,7685,7731,326,7888,61138,8030,1183   \n",
       "\n",
       "                                                   B  Similarity        MW  \\\n",
       "0     240,93009,323,8148,7762,3314,460,6184,798,6054    0.395833  0.000088   \n",
       "1                                               7710    0.348958  0.000657   \n",
       "2  31276,93009,11002,323,7966,8148,7632,22201,193...    0.473958  0.000125   \n",
       "3  10890,93009,11002,6982,323,8797,7966,8148,7632...    0.494792  0.000137   \n",
       "4  7710,31276,10890,240,93009,11002,6982,323,8797...    0.588542  0.000096   \n",
       "\n",
       "        AMW        Sv        Se        Sp        Si        Mv  ...  \\\n",
       "0  0.000161  0.000185  0.000245  0.000258  0.000319  0.000230  ...   \n",
       "1  0.000543  0.001239  0.001818  0.001513  0.002032  0.002901  ...   \n",
       "2  0.000206  0.000402  0.000704  0.000658  0.000855  0.001290  ...   \n",
       "3  0.000243  0.000480  0.000749  0.000733  0.000904  0.001223  ...   \n",
       "4  0.000250  0.000435  0.000697  0.000674  0.000849  0.001206  ...   \n",
       "\n",
       "   Psychotic-80  Psychotic-50  Hypertens-80  Hypertens-50  Hypnotic-80  \\\n",
       "0           0.0           0.0      0.004491           0.0     0.004700   \n",
       "1           0.0           0.0      0.004491           0.0     0.014068   \n",
       "2           0.0           0.0      0.004491           0.0     0.006939   \n",
       "3           0.0           0.0      0.003091           0.0     0.007721   \n",
       "4           0.0           0.0      0.002319           0.0     0.008189   \n",
       "\n",
       "   Hypnotic-50  Neoplastic-80  Neoplastic-50  Infective-80  Infective-50  \n",
       "0          0.0       0.000021            0.0      0.009609           0.0  \n",
       "1          0.0       0.004491            0.0      0.018978           0.0  \n",
       "2          0.0       0.002223            0.0      0.006962           0.0  \n",
       "3          0.0       0.001611            0.0      0.006315           0.0  \n",
       "4          0.0       0.001204            0.0      0.007154           0.0  \n",
       "\n",
       "[5 rows x 4866 columns]"
      ]
     },
     "execution_count": 50,
     "metadata": {},
     "output_type": "execute_result"
    }
   ],
   "source": [
    "df_distance = pd.concat([df1, df2, df3]).reset_index(drop=True)\n",
    "features = list(df_snitz_features.columns)\n",
    "unit_distances = df_distance.apply(get_unit_distance, axis=1)\n",
    "df_distance = df_distance.join(df_distance.apply(get_unit_distance, axis=1))\n",
    "df_distance.loc[:, 'Similarity'] /= 100\n",
    "df_distance.head()"
   ]
  },
  {
   "cell_type": "code",
   "execution_count": 401,
   "metadata": {},
   "outputs": [
    {
     "data": {
      "image/png": "[encoded data removed]",
      "text/plain": [
       "<Figure size 432x288 with 1 Axes>"
      ]
     },
     "metadata": {
      "needs_background": "light"
     },
     "output_type": "display_data"
    }
   ],
   "source": [
    "%matplotlib inline\n",
    "from sklearn.linear_model import Lasso\n",
    "model = Lasso(alpha=1e-4, max_iter=1e5)\n",
    "X = df_distance[features]\n",
    "y = df_distance['Similarity']\n",
    "model.fit(X, y)\n",
    "import matplotlib.pyplot as plt\n",
    "plt.plot(1+np.arange(len(model.coef_)),sorted(np.abs(model.coef_))[::-1]);\n",
    "plt.xscale('log')"
   ]
  },
  {
   "cell_type": "code",
   "execution_count": 374,
   "metadata": {},
   "outputs": [
    {
     "name": "stdout",
     "output_type": "stream",
     "text": [
      "1e-05\n",
      "2.3713737056616554e-05\n",
      "5.623413251903491e-05\n",
      "0.0001333521432163324\n",
      "0.00031622776601683794\n",
      "0.0007498942093324559\n"
     ]
    },
    {
     "name": "stderr",
     "output_type": "stream",
     "text": [
      "/Users/rgerkin/miniconda3/lib/python3.6/site-packages/numpy/lib/function_base.py:2530: RuntimeWarning: invalid value encountered in true_divide\n",
      "  c /= stddev[:, None]\n",
      "/Users/rgerkin/miniconda3/lib/python3.6/site-packages/numpy/lib/function_base.py:2531: RuntimeWarning: invalid value encountered in true_divide\n",
      "  c /= stddev[None, :]\n",
      "/Users/rgerkin/miniconda3/lib/python3.6/site-packages/numpy/lib/function_base.py:2530: RuntimeWarning: invalid value encountered in true_divide\n",
      "  c /= stddev[:, None]\n",
      "/Users/rgerkin/miniconda3/lib/python3.6/site-packages/numpy/lib/function_base.py:2531: RuntimeWarning: invalid value encountered in true_divide\n",
      "  c /= stddev[None, :]\n",
      "/Users/rgerkin/miniconda3/lib/python3.6/site-packages/numpy/lib/function_base.py:2530: RuntimeWarning: invalid value encountered in true_divide\n",
      "  c /= stddev[:, None]\n",
      "/Users/rgerkin/miniconda3/lib/python3.6/site-packages/numpy/lib/function_base.py:2531: RuntimeWarning: invalid value encountered in true_divide\n",
      "  c /= stddev[None, :]\n",
      "/Users/rgerkin/miniconda3/lib/python3.6/site-packages/numpy/lib/function_base.py:2530: RuntimeWarning: invalid value encountered in true_divide\n",
      "  c /= stddev[:, None]\n",
      "/Users/rgerkin/miniconda3/lib/python3.6/site-packages/numpy/lib/function_base.py:2531: RuntimeWarning: invalid value encountered in true_divide\n",
      "  c /= stddev[None, :]\n",
      "/Users/rgerkin/miniconda3/lib/python3.6/site-packages/numpy/lib/function_base.py:2530: RuntimeWarning: invalid value encountered in true_divide\n",
      "  c /= stddev[:, None]\n",
      "/Users/rgerkin/miniconda3/lib/python3.6/site-packages/numpy/lib/function_base.py:2531: RuntimeWarning: invalid value encountered in true_divide\n",
      "  c /= stddev[None, :]\n",
      "/Users/rgerkin/miniconda3/lib/python3.6/site-packages/numpy/lib/function_base.py:2530: RuntimeWarning: invalid value encountered in true_divide\n",
      "  c /= stddev[:, None]\n",
      "/Users/rgerkin/miniconda3/lib/python3.6/site-packages/numpy/lib/function_base.py:2531: RuntimeWarning: invalid value encountered in true_divide\n",
      "  c /= stddev[None, :]\n",
      "/Users/rgerkin/miniconda3/lib/python3.6/site-packages/numpy/lib/function_base.py:2530: RuntimeWarning: invalid value encountered in true_divide\n",
      "  c /= stddev[:, None]\n",
      "/Users/rgerkin/miniconda3/lib/python3.6/site-packages/numpy/lib/function_base.py:2531: RuntimeWarning: invalid value encountered in true_divide\n",
      "  c /= stddev[None, :]\n",
      "/Users/rgerkin/miniconda3/lib/python3.6/site-packages/numpy/lib/function_base.py:2530: RuntimeWarning: invalid value encountered in true_divide\n",
      "  c /= stddev[:, None]\n",
      "/Users/rgerkin/miniconda3/lib/python3.6/site-packages/numpy/lib/function_base.py:2531: RuntimeWarning: invalid value encountered in true_divide\n",
      "  c /= stddev[None, :]\n",
      "/Users/rgerkin/miniconda3/lib/python3.6/site-packages/numpy/lib/function_base.py:2530: RuntimeWarning: invalid value encountered in true_divide\n",
      "  c /= stddev[:, None]\n",
      "/Users/rgerkin/miniconda3/lib/python3.6/site-packages/numpy/lib/function_base.py:2531: RuntimeWarning: invalid value encountered in true_divide\n",
      "  c /= stddev[None, :]\n",
      "/Users/rgerkin/miniconda3/lib/python3.6/site-packages/numpy/lib/function_base.py:2530: RuntimeWarning: invalid value encountered in true_divide\n",
      "  c /= stddev[:, None]\n",
      "/Users/rgerkin/miniconda3/lib/python3.6/site-packages/numpy/lib/function_base.py:2531: RuntimeWarning: invalid value encountered in true_divide\n",
      "  c /= stddev[None, :]\n",
      "/Users/rgerkin/miniconda3/lib/python3.6/site-packages/numpy/lib/function_base.py:2530: RuntimeWarning: invalid value encountered in true_divide\n",
      "  c /= stddev[:, None]\n",
      "/Users/rgerkin/miniconda3/lib/python3.6/site-packages/numpy/lib/function_base.py:2531: RuntimeWarning: invalid value encountered in true_divide\n",
      "  c /= stddev[None, :]\n",
      "/Users/rgerkin/miniconda3/lib/python3.6/site-packages/numpy/lib/function_base.py:2530: RuntimeWarning: invalid value encountered in true_divide\n",
      "  c /= stddev[:, None]\n",
      "/Users/rgerkin/miniconda3/lib/python3.6/site-packages/numpy/lib/function_base.py:2531: RuntimeWarning: invalid value encountered in true_divide\n",
      "  c /= stddev[None, :]\n",
      "/Users/rgerkin/miniconda3/lib/python3.6/site-packages/numpy/lib/function_base.py:2530: RuntimeWarning: invalid value encountered in true_divide\n",
      "  c /= stddev[:, None]\n",
      "/Users/rgerkin/miniconda3/lib/python3.6/site-packages/numpy/lib/function_base.py:2531: RuntimeWarning: invalid value encountered in true_divide\n",
      "  c /= stddev[None, :]\n",
      "/Users/rgerkin/miniconda3/lib/python3.6/site-packages/numpy/lib/function_base.py:2530: RuntimeWarning: invalid value encountered in true_divide\n",
      "  c /= stddev[:, None]\n",
      "/Users/rgerkin/miniconda3/lib/python3.6/site-packages/numpy/lib/function_base.py:2531: RuntimeWarning: invalid value encountered in true_divide\n",
      "  c /= stddev[None, :]\n",
      "/Users/rgerkin/miniconda3/lib/python3.6/site-packages/numpy/lib/function_base.py:2530: RuntimeWarning: invalid value encountered in true_divide\n",
      "  c /= stddev[:, None]\n",
      "/Users/rgerkin/miniconda3/lib/python3.6/site-packages/numpy/lib/function_base.py:2531: RuntimeWarning: invalid value encountered in true_divide\n",
      "  c /= stddev[None, :]\n",
      "/Users/rgerkin/miniconda3/lib/python3.6/site-packages/numpy/lib/function_base.py:2530: RuntimeWarning: invalid value encountered in true_divide\n",
      "  c /= stddev[:, None]\n",
      "/Users/rgerkin/miniconda3/lib/python3.6/site-packages/numpy/lib/function_base.py:2531: RuntimeWarning: invalid value encountered in true_divide\n",
      "  c /= stddev[None, :]\n",
      "/Users/rgerkin/miniconda3/lib/python3.6/site-packages/numpy/lib/function_base.py:2530: RuntimeWarning: invalid value encountered in true_divide\n",
      "  c /= stddev[:, None]\n",
      "/Users/rgerkin/miniconda3/lib/python3.6/site-packages/numpy/lib/function_base.py:2531: RuntimeWarning: invalid value encountered in true_divide\n",
      "  c /= stddev[None, :]\n",
      "/Users/rgerkin/miniconda3/lib/python3.6/site-packages/numpy/lib/function_base.py:2530: RuntimeWarning: invalid value encountered in true_divide\n",
      "  c /= stddev[:, None]\n",
      "/Users/rgerkin/miniconda3/lib/python3.6/site-packages/numpy/lib/function_base.py:2531: RuntimeWarning: invalid value encountered in true_divide\n",
      "  c /= stddev[None, :]\n",
      "/Users/rgerkin/miniconda3/lib/python3.6/site-packages/numpy/lib/function_base.py:2530: RuntimeWarning: invalid value encountered in true_divide\n",
      "  c /= stddev[:, None]\n",
      "/Users/rgerkin/miniconda3/lib/python3.6/site-packages/numpy/lib/function_base.py:2531: RuntimeWarning: invalid value encountered in true_divide\n",
      "  c /= stddev[None, :]\n",
      "/Users/rgerkin/miniconda3/lib/python3.6/site-packages/numpy/lib/function_base.py:2530: RuntimeWarning: invalid value encountered in true_divide\n",
      "  c /= stddev[:, None]\n",
      "/Users/rgerkin/miniconda3/lib/python3.6/site-packages/numpy/lib/function_base.py:2531: RuntimeWarning: invalid value encountered in true_divide\n",
      "  c /= stddev[None, :]\n"
     ]
    },
    {
     "name": "stdout",
     "output_type": "stream",
     "text": [
      "0.0017782794100389228\n"
     ]
    },
    {
     "name": "stderr",
     "output_type": "stream",
     "text": [
      "/Users/rgerkin/miniconda3/lib/python3.6/site-packages/numpy/lib/function_base.py:2530: RuntimeWarning: invalid value encountered in true_divide\n",
      "  c /= stddev[:, None]\n",
      "/Users/rgerkin/miniconda3/lib/python3.6/site-packages/numpy/lib/function_base.py:2531: RuntimeWarning: invalid value encountered in true_divide\n",
      "  c /= stddev[None, :]\n",
      "/Users/rgerkin/miniconda3/lib/python3.6/site-packages/numpy/lib/function_base.py:2530: RuntimeWarning: invalid value encountered in true_divide\n",
      "  c /= stddev[:, None]\n",
      "/Users/rgerkin/miniconda3/lib/python3.6/site-packages/numpy/lib/function_base.py:2531: RuntimeWarning: invalid value encountered in true_divide\n",
      "  c /= stddev[None, :]\n",
      "/Users/rgerkin/miniconda3/lib/python3.6/site-packages/numpy/lib/function_base.py:2530: RuntimeWarning: invalid value encountered in true_divide\n",
      "  c /= stddev[:, None]\n",
      "/Users/rgerkin/miniconda3/lib/python3.6/site-packages/numpy/lib/function_base.py:2531: RuntimeWarning: invalid value encountered in true_divide\n",
      "  c /= stddev[None, :]\n",
      "/Users/rgerkin/miniconda3/lib/python3.6/site-packages/numpy/lib/function_base.py:2530: RuntimeWarning: invalid value encountered in true_divide\n",
      "  c /= stddev[:, None]\n",
      "/Users/rgerkin/miniconda3/lib/python3.6/site-packages/numpy/lib/function_base.py:2531: RuntimeWarning: invalid value encountered in true_divide\n",
      "  c /= stddev[None, :]\n",
      "/Users/rgerkin/miniconda3/lib/python3.6/site-packages/numpy/lib/function_base.py:2530: RuntimeWarning: invalid value encountered in true_divide\n",
      "  c /= stddev[:, None]\n",
      "/Users/rgerkin/miniconda3/lib/python3.6/site-packages/numpy/lib/function_base.py:2531: RuntimeWarning: invalid value encountered in true_divide\n",
      "  c /= stddev[None, :]\n",
      "/Users/rgerkin/miniconda3/lib/python3.6/site-packages/numpy/lib/function_base.py:2530: RuntimeWarning: invalid value encountered in true_divide\n",
      "  c /= stddev[:, None]\n",
      "/Users/rgerkin/miniconda3/lib/python3.6/site-packages/numpy/lib/function_base.py:2531: RuntimeWarning: invalid value encountered in true_divide\n",
      "  c /= stddev[None, :]\n",
      "/Users/rgerkin/miniconda3/lib/python3.6/site-packages/numpy/lib/function_base.py:2530: RuntimeWarning: invalid value encountered in true_divide\n",
      "  c /= stddev[:, None]\n",
      "/Users/rgerkin/miniconda3/lib/python3.6/site-packages/numpy/lib/function_base.py:2531: RuntimeWarning: invalid value encountered in true_divide\n",
      "  c /= stddev[None, :]\n",
      "/Users/rgerkin/miniconda3/lib/python3.6/site-packages/numpy/lib/function_base.py:2530: RuntimeWarning: invalid value encountered in true_divide\n",
      "  c /= stddev[:, None]\n",
      "/Users/rgerkin/miniconda3/lib/python3.6/site-packages/numpy/lib/function_base.py:2531: RuntimeWarning: invalid value encountered in true_divide\n",
      "  c /= stddev[None, :]\n",
      "/Users/rgerkin/miniconda3/lib/python3.6/site-packages/numpy/lib/function_base.py:2530: RuntimeWarning: invalid value encountered in true_divide\n",
      "  c /= stddev[:, None]\n",
      "/Users/rgerkin/miniconda3/lib/python3.6/site-packages/numpy/lib/function_base.py:2531: RuntimeWarning: invalid value encountered in true_divide\n",
      "  c /= stddev[None, :]\n",
      "/Users/rgerkin/miniconda3/lib/python3.6/site-packages/numpy/lib/function_base.py:2530: RuntimeWarning: invalid value encountered in true_divide\n",
      "  c /= stddev[:, None]\n",
      "/Users/rgerkin/miniconda3/lib/python3.6/site-packages/numpy/lib/function_base.py:2531: RuntimeWarning: invalid value encountered in true_divide\n",
      "  c /= stddev[None, :]\n",
      "/Users/rgerkin/miniconda3/lib/python3.6/site-packages/numpy/lib/function_base.py:2530: RuntimeWarning: invalid value encountered in true_divide\n",
      "  c /= stddev[:, None]\n",
      "/Users/rgerkin/miniconda3/lib/python3.6/site-packages/numpy/lib/function_base.py:2531: RuntimeWarning: invalid value encountered in true_divide\n",
      "  c /= stddev[None, :]\n",
      "/Users/rgerkin/miniconda3/lib/python3.6/site-packages/numpy/lib/function_base.py:2530: RuntimeWarning: invalid value encountered in true_divide\n",
      "  c /= stddev[:, None]\n",
      "/Users/rgerkin/miniconda3/lib/python3.6/site-packages/numpy/lib/function_base.py:2531: RuntimeWarning: invalid value encountered in true_divide\n",
      "  c /= stddev[None, :]\n",
      "/Users/rgerkin/miniconda3/lib/python3.6/site-packages/numpy/lib/function_base.py:2530: RuntimeWarning: invalid value encountered in true_divide\n",
      "  c /= stddev[:, None]\n",
      "/Users/rgerkin/miniconda3/lib/python3.6/site-packages/numpy/lib/function_base.py:2531: RuntimeWarning: invalid value encountered in true_divide\n",
      "  c /= stddev[None, :]\n",
      "/Users/rgerkin/miniconda3/lib/python3.6/site-packages/numpy/lib/function_base.py:2530: RuntimeWarning: invalid value encountered in true_divide\n",
      "  c /= stddev[:, None]\n",
      "/Users/rgerkin/miniconda3/lib/python3.6/site-packages/numpy/lib/function_base.py:2531: RuntimeWarning: invalid value encountered in true_divide\n",
      "  c /= stddev[None, :]\n",
      "/Users/rgerkin/miniconda3/lib/python3.6/site-packages/numpy/lib/function_base.py:2530: RuntimeWarning: invalid value encountered in true_divide\n",
      "  c /= stddev[:, None]\n",
      "/Users/rgerkin/miniconda3/lib/python3.6/site-packages/numpy/lib/function_base.py:2531: RuntimeWarning: invalid value encountered in true_divide\n",
      "  c /= stddev[None, :]\n",
      "/Users/rgerkin/miniconda3/lib/python3.6/site-packages/numpy/lib/function_base.py:2530: RuntimeWarning: invalid value encountered in true_divide\n",
      "  c /= stddev[:, None]\n",
      "/Users/rgerkin/miniconda3/lib/python3.6/site-packages/numpy/lib/function_base.py:2531: RuntimeWarning: invalid value encountered in true_divide\n",
      "  c /= stddev[None, :]\n",
      "/Users/rgerkin/miniconda3/lib/python3.6/site-packages/numpy/lib/function_base.py:2530: RuntimeWarning: invalid value encountered in true_divide\n",
      "  c /= stddev[:, None]\n",
      "/Users/rgerkin/miniconda3/lib/python3.6/site-packages/numpy/lib/function_base.py:2531: RuntimeWarning: invalid value encountered in true_divide\n",
      "  c /= stddev[None, :]\n",
      "/Users/rgerkin/miniconda3/lib/python3.6/site-packages/numpy/lib/function_base.py:2530: RuntimeWarning: invalid value encountered in true_divide\n",
      "  c /= stddev[:, None]\n",
      "/Users/rgerkin/miniconda3/lib/python3.6/site-packages/numpy/lib/function_base.py:2531: RuntimeWarning: invalid value encountered in true_divide\n",
      "  c /= stddev[None, :]\n",
      "/Users/rgerkin/miniconda3/lib/python3.6/site-packages/numpy/lib/function_base.py:2530: RuntimeWarning: invalid value encountered in true_divide\n",
      "  c /= stddev[:, None]\n",
      "/Users/rgerkin/miniconda3/lib/python3.6/site-packages/numpy/lib/function_base.py:2531: RuntimeWarning: invalid value encountered in true_divide\n",
      "  c /= stddev[None, :]\n",
      "/Users/rgerkin/miniconda3/lib/python3.6/site-packages/numpy/lib/function_base.py:2530: RuntimeWarning: invalid value encountered in true_divide\n",
      "  c /= stddev[:, None]\n",
      "/Users/rgerkin/miniconda3/lib/python3.6/site-packages/numpy/lib/function_base.py:2531: RuntimeWarning: invalid value encountered in true_divide\n",
      "  c /= stddev[None, :]\n",
      "/Users/rgerkin/miniconda3/lib/python3.6/site-packages/numpy/lib/function_base.py:2530: RuntimeWarning: invalid value encountered in true_divide\n",
      "  c /= stddev[:, None]\n",
      "/Users/rgerkin/miniconda3/lib/python3.6/site-packages/numpy/lib/function_base.py:2531: RuntimeWarning: invalid value encountered in true_divide\n",
      "  c /= stddev[None, :]\n"
     ]
    },
    {
     "name": "stdout",
     "output_type": "stream",
     "text": [
      "0.004216965034285823\n"
     ]
    },
    {
     "name": "stderr",
     "output_type": "stream",
     "text": [
      "/Users/rgerkin/miniconda3/lib/python3.6/site-packages/numpy/lib/function_base.py:2530: RuntimeWarning: invalid value encountered in true_divide\n",
      "  c /= stddev[:, None]\n",
      "/Users/rgerkin/miniconda3/lib/python3.6/site-packages/numpy/lib/function_base.py:2531: RuntimeWarning: invalid value encountered in true_divide\n",
      "  c /= stddev[None, :]\n",
      "/Users/rgerkin/miniconda3/lib/python3.6/site-packages/numpy/lib/function_base.py:2530: RuntimeWarning: invalid value encountered in true_divide\n",
      "  c /= stddev[:, None]\n",
      "/Users/rgerkin/miniconda3/lib/python3.6/site-packages/numpy/lib/function_base.py:2531: RuntimeWarning: invalid value encountered in true_divide\n",
      "  c /= stddev[None, :]\n",
      "/Users/rgerkin/miniconda3/lib/python3.6/site-packages/numpy/lib/function_base.py:2530: RuntimeWarning: invalid value encountered in true_divide\n",
      "  c /= stddev[:, None]\n",
      "/Users/rgerkin/miniconda3/lib/python3.6/site-packages/numpy/lib/function_base.py:2531: RuntimeWarning: invalid value encountered in true_divide\n",
      "  c /= stddev[None, :]\n",
      "/Users/rgerkin/miniconda3/lib/python3.6/site-packages/numpy/lib/function_base.py:2530: RuntimeWarning: invalid value encountered in true_divide\n",
      "  c /= stddev[:, None]\n",
      "/Users/rgerkin/miniconda3/lib/python3.6/site-packages/numpy/lib/function_base.py:2531: RuntimeWarning: invalid value encountered in true_divide\n",
      "  c /= stddev[None, :]\n",
      "/Users/rgerkin/miniconda3/lib/python3.6/site-packages/numpy/lib/function_base.py:2530: RuntimeWarning: invalid value encountered in true_divide\n",
      "  c /= stddev[:, None]\n",
      "/Users/rgerkin/miniconda3/lib/python3.6/site-packages/numpy/lib/function_base.py:2531: RuntimeWarning: invalid value encountered in true_divide\n",
      "  c /= stddev[None, :]\n",
      "/Users/rgerkin/miniconda3/lib/python3.6/site-packages/numpy/lib/function_base.py:2530: RuntimeWarning: invalid value encountered in true_divide\n",
      "  c /= stddev[:, None]\n",
      "/Users/rgerkin/miniconda3/lib/python3.6/site-packages/numpy/lib/function_base.py:2531: RuntimeWarning: invalid value encountered in true_divide\n",
      "  c /= stddev[None, :]\n",
      "/Users/rgerkin/miniconda3/lib/python3.6/site-packages/numpy/lib/function_base.py:2530: RuntimeWarning: invalid value encountered in true_divide\n",
      "  c /= stddev[:, None]\n",
      "/Users/rgerkin/miniconda3/lib/python3.6/site-packages/numpy/lib/function_base.py:2531: RuntimeWarning: invalid value encountered in true_divide\n",
      "  c /= stddev[None, :]\n",
      "/Users/rgerkin/miniconda3/lib/python3.6/site-packages/numpy/lib/function_base.py:2530: RuntimeWarning: invalid value encountered in true_divide\n",
      "  c /= stddev[:, None]\n",
      "/Users/rgerkin/miniconda3/lib/python3.6/site-packages/numpy/lib/function_base.py:2531: RuntimeWarning: invalid value encountered in true_divide\n",
      "  c /= stddev[None, :]\n",
      "/Users/rgerkin/miniconda3/lib/python3.6/site-packages/numpy/lib/function_base.py:2530: RuntimeWarning: invalid value encountered in true_divide\n",
      "  c /= stddev[:, None]\n",
      "/Users/rgerkin/miniconda3/lib/python3.6/site-packages/numpy/lib/function_base.py:2531: RuntimeWarning: invalid value encountered in true_divide\n",
      "  c /= stddev[None, :]\n",
      "/Users/rgerkin/miniconda3/lib/python3.6/site-packages/numpy/lib/function_base.py:2530: RuntimeWarning: invalid value encountered in true_divide\n",
      "  c /= stddev[:, None]\n",
      "/Users/rgerkin/miniconda3/lib/python3.6/site-packages/numpy/lib/function_base.py:2531: RuntimeWarning: invalid value encountered in true_divide\n",
      "  c /= stddev[None, :]\n",
      "/Users/rgerkin/miniconda3/lib/python3.6/site-packages/numpy/lib/function_base.py:2530: RuntimeWarning: invalid value encountered in true_divide\n",
      "  c /= stddev[:, None]\n",
      "/Users/rgerkin/miniconda3/lib/python3.6/site-packages/numpy/lib/function_base.py:2531: RuntimeWarning: invalid value encountered in true_divide\n",
      "  c /= stddev[None, :]\n",
      "/Users/rgerkin/miniconda3/lib/python3.6/site-packages/numpy/lib/function_base.py:2530: RuntimeWarning: invalid value encountered in true_divide\n",
      "  c /= stddev[:, None]\n",
      "/Users/rgerkin/miniconda3/lib/python3.6/site-packages/numpy/lib/function_base.py:2531: RuntimeWarning: invalid value encountered in true_divide\n",
      "  c /= stddev[None, :]\n",
      "/Users/rgerkin/miniconda3/lib/python3.6/site-packages/numpy/lib/function_base.py:2530: RuntimeWarning: invalid value encountered in true_divide\n",
      "  c /= stddev[:, None]\n",
      "/Users/rgerkin/miniconda3/lib/python3.6/site-packages/numpy/lib/function_base.py:2531: RuntimeWarning: invalid value encountered in true_divide\n",
      "  c /= stddev[None, :]\n",
      "/Users/rgerkin/miniconda3/lib/python3.6/site-packages/numpy/lib/function_base.py:2530: RuntimeWarning: invalid value encountered in true_divide\n",
      "  c /= stddev[:, None]\n",
      "/Users/rgerkin/miniconda3/lib/python3.6/site-packages/numpy/lib/function_base.py:2531: RuntimeWarning: invalid value encountered in true_divide\n",
      "  c /= stddev[None, :]\n",
      "/Users/rgerkin/miniconda3/lib/python3.6/site-packages/numpy/lib/function_base.py:2530: RuntimeWarning: invalid value encountered in true_divide\n",
      "  c /= stddev[:, None]\n",
      "/Users/rgerkin/miniconda3/lib/python3.6/site-packages/numpy/lib/function_base.py:2531: RuntimeWarning: invalid value encountered in true_divide\n",
      "  c /= stddev[None, :]\n",
      "/Users/rgerkin/miniconda3/lib/python3.6/site-packages/numpy/lib/function_base.py:2530: RuntimeWarning: invalid value encountered in true_divide\n",
      "  c /= stddev[:, None]\n",
      "/Users/rgerkin/miniconda3/lib/python3.6/site-packages/numpy/lib/function_base.py:2531: RuntimeWarning: invalid value encountered in true_divide\n",
      "  c /= stddev[None, :]\n",
      "/Users/rgerkin/miniconda3/lib/python3.6/site-packages/numpy/lib/function_base.py:2530: RuntimeWarning: invalid value encountered in true_divide\n",
      "  c /= stddev[:, None]\n",
      "/Users/rgerkin/miniconda3/lib/python3.6/site-packages/numpy/lib/function_base.py:2531: RuntimeWarning: invalid value encountered in true_divide\n",
      "  c /= stddev[None, :]\n"
     ]
    },
    {
     "name": "stdout",
     "output_type": "stream",
     "text": [
      "0.01\n"
     ]
    },
    {
     "name": "stderr",
     "output_type": "stream",
     "text": [
      "/Users/rgerkin/miniconda3/lib/python3.6/site-packages/numpy/lib/function_base.py:2530: RuntimeWarning: invalid value encountered in true_divide\n",
      "  c /= stddev[:, None]\n",
      "/Users/rgerkin/miniconda3/lib/python3.6/site-packages/numpy/lib/function_base.py:2531: RuntimeWarning: invalid value encountered in true_divide\n",
      "  c /= stddev[None, :]\n",
      "/Users/rgerkin/miniconda3/lib/python3.6/site-packages/numpy/lib/function_base.py:2530: RuntimeWarning: invalid value encountered in true_divide\n",
      "  c /= stddev[:, None]\n",
      "/Users/rgerkin/miniconda3/lib/python3.6/site-packages/numpy/lib/function_base.py:2531: RuntimeWarning: invalid value encountered in true_divide\n",
      "  c /= stddev[None, :]\n",
      "/Users/rgerkin/miniconda3/lib/python3.6/site-packages/numpy/lib/function_base.py:2530: RuntimeWarning: invalid value encountered in true_divide\n",
      "  c /= stddev[:, None]\n",
      "/Users/rgerkin/miniconda3/lib/python3.6/site-packages/numpy/lib/function_base.py:2531: RuntimeWarning: invalid value encountered in true_divide\n",
      "  c /= stddev[None, :]\n",
      "/Users/rgerkin/miniconda3/lib/python3.6/site-packages/numpy/lib/function_base.py:2530: RuntimeWarning: invalid value encountered in true_divide\n",
      "  c /= stddev[:, None]\n",
      "/Users/rgerkin/miniconda3/lib/python3.6/site-packages/numpy/lib/function_base.py:2531: RuntimeWarning: invalid value encountered in true_divide\n",
      "  c /= stddev[None, :]\n",
      "/Users/rgerkin/miniconda3/lib/python3.6/site-packages/numpy/lib/function_base.py:2530: RuntimeWarning: invalid value encountered in true_divide\n",
      "  c /= stddev[:, None]\n",
      "/Users/rgerkin/miniconda3/lib/python3.6/site-packages/numpy/lib/function_base.py:2531: RuntimeWarning: invalid value encountered in true_divide\n",
      "  c /= stddev[None, :]\n",
      "/Users/rgerkin/miniconda3/lib/python3.6/site-packages/numpy/lib/function_base.py:2530: RuntimeWarning: invalid value encountered in true_divide\n",
      "  c /= stddev[:, None]\n",
      "/Users/rgerkin/miniconda3/lib/python3.6/site-packages/numpy/lib/function_base.py:2531: RuntimeWarning: invalid value encountered in true_divide\n",
      "  c /= stddev[None, :]\n",
      "/Users/rgerkin/miniconda3/lib/python3.6/site-packages/numpy/lib/function_base.py:2530: RuntimeWarning: invalid value encountered in true_divide\n",
      "  c /= stddev[:, None]\n",
      "/Users/rgerkin/miniconda3/lib/python3.6/site-packages/numpy/lib/function_base.py:2531: RuntimeWarning: invalid value encountered in true_divide\n",
      "  c /= stddev[None, :]\n",
      "/Users/rgerkin/miniconda3/lib/python3.6/site-packages/numpy/lib/function_base.py:2530: RuntimeWarning: invalid value encountered in true_divide\n",
      "  c /= stddev[:, None]\n",
      "/Users/rgerkin/miniconda3/lib/python3.6/site-packages/numpy/lib/function_base.py:2531: RuntimeWarning: invalid value encountered in true_divide\n",
      "  c /= stddev[None, :]\n",
      "/Users/rgerkin/miniconda3/lib/python3.6/site-packages/numpy/lib/function_base.py:2530: RuntimeWarning: invalid value encountered in true_divide\n",
      "  c /= stddev[:, None]\n",
      "/Users/rgerkin/miniconda3/lib/python3.6/site-packages/numpy/lib/function_base.py:2531: RuntimeWarning: invalid value encountered in true_divide\n",
      "  c /= stddev[None, :]\n",
      "/Users/rgerkin/miniconda3/lib/python3.6/site-packages/numpy/lib/function_base.py:2530: RuntimeWarning: invalid value encountered in true_divide\n",
      "  c /= stddev[:, None]\n",
      "/Users/rgerkin/miniconda3/lib/python3.6/site-packages/numpy/lib/function_base.py:2531: RuntimeWarning: invalid value encountered in true_divide\n",
      "  c /= stddev[None, :]\n",
      "/Users/rgerkin/miniconda3/lib/python3.6/site-packages/numpy/lib/function_base.py:2530: RuntimeWarning: invalid value encountered in true_divide\n",
      "  c /= stddev[:, None]\n",
      "/Users/rgerkin/miniconda3/lib/python3.6/site-packages/numpy/lib/function_base.py:2531: RuntimeWarning: invalid value encountered in true_divide\n",
      "  c /= stddev[None, :]\n",
      "/Users/rgerkin/miniconda3/lib/python3.6/site-packages/numpy/lib/function_base.py:2530: RuntimeWarning: invalid value encountered in true_divide\n",
      "  c /= stddev[:, None]\n",
      "/Users/rgerkin/miniconda3/lib/python3.6/site-packages/numpy/lib/function_base.py:2531: RuntimeWarning: invalid value encountered in true_divide\n",
      "  c /= stddev[None, :]\n",
      "/Users/rgerkin/miniconda3/lib/python3.6/site-packages/numpy/lib/function_base.py:2530: RuntimeWarning: invalid value encountered in true_divide\n",
      "  c /= stddev[:, None]\n",
      "/Users/rgerkin/miniconda3/lib/python3.6/site-packages/numpy/lib/function_base.py:2531: RuntimeWarning: invalid value encountered in true_divide\n",
      "  c /= stddev[None, :]\n",
      "/Users/rgerkin/miniconda3/lib/python3.6/site-packages/numpy/lib/function_base.py:2530: RuntimeWarning: invalid value encountered in true_divide\n",
      "  c /= stddev[:, None]\n",
      "/Users/rgerkin/miniconda3/lib/python3.6/site-packages/numpy/lib/function_base.py:2531: RuntimeWarning: invalid value encountered in true_divide\n",
      "  c /= stddev[None, :]\n",
      "/Users/rgerkin/miniconda3/lib/python3.6/site-packages/numpy/lib/function_base.py:2530: RuntimeWarning: invalid value encountered in true_divide\n",
      "  c /= stddev[:, None]\n",
      "/Users/rgerkin/miniconda3/lib/python3.6/site-packages/numpy/lib/function_base.py:2531: RuntimeWarning: invalid value encountered in true_divide\n",
      "  c /= stddev[None, :]\n",
      "/Users/rgerkin/miniconda3/lib/python3.6/site-packages/numpy/lib/function_base.py:2530: RuntimeWarning: invalid value encountered in true_divide\n",
      "  c /= stddev[:, None]\n",
      "/Users/rgerkin/miniconda3/lib/python3.6/site-packages/numpy/lib/function_base.py:2531: RuntimeWarning: invalid value encountered in true_divide\n",
      "  c /= stddev[None, :]\n",
      "/Users/rgerkin/miniconda3/lib/python3.6/site-packages/numpy/lib/function_base.py:2530: RuntimeWarning: invalid value encountered in true_divide\n",
      "  c /= stddev[:, None]\n",
      "/Users/rgerkin/miniconda3/lib/python3.6/site-packages/numpy/lib/function_base.py:2531: RuntimeWarning: invalid value encountered in true_divide\n",
      "  c /= stddev[None, :]\n",
      "/Users/rgerkin/miniconda3/lib/python3.6/site-packages/numpy/lib/function_base.py:2530: RuntimeWarning: invalid value encountered in true_divide\n",
      "  c /= stddev[:, None]\n",
      "/Users/rgerkin/miniconda3/lib/python3.6/site-packages/numpy/lib/function_base.py:2531: RuntimeWarning: invalid value encountered in true_divide\n",
      "  c /= stddev[None, :]\n",
      "/Users/rgerkin/miniconda3/lib/python3.6/site-packages/numpy/lib/function_base.py:2530: RuntimeWarning: invalid value encountered in true_divide\n",
      "  c /= stddev[:, None]\n",
      "/Users/rgerkin/miniconda3/lib/python3.6/site-packages/numpy/lib/function_base.py:2531: RuntimeWarning: invalid value encountered in true_divide\n",
      "  c /= stddev[None, :]\n"
     ]
    }
   ],
   "source": [
    "from sklearn.model_selection import cross_validate, ShuffleSplit\n",
    "\n",
    "def r_score(model, X, y_true):\n",
    "    y_pred = model.predict(X)\n",
    "    #print(y_true.shape, y_pred.shape)\n",
    "    return np.corrcoef(y_true, y_pred)[0,1]\n",
    "\n",
    "alphas = np.logspace(-5, -2, 9)\n",
    "n_splits = 25\n",
    "cv = ShuffleSplit(n_splits=n_splits, test_size=0.2)\n",
    "training = np.zeros((len(alphas), n_splits))\n",
    "testing = np.zeros((len(alphas), n_splits))\n",
    "\n",
    "for i, alpha in enumerate(alphas):\n",
    "    print(alpha)\n",
    "    model = Lasso(alpha=alpha, max_iter=1e5)\n",
    "    fff = cross_validate(model, X, y, cv=cv, return_train_score=True, scoring=r_score)\n",
    "    training[i, :] = fff['train_score']\n",
    "    testing[i, :] = fff['test_score']"
   ]
  },
  {
   "cell_type": "code",
   "execution_count": 375,
   "metadata": {},
   "outputs": [
    {
     "data": {
      "text/plain": [
       "<matplotlib.legend.Legend at 0x12786fc18>"
      ]
     },
     "execution_count": 375,
     "metadata": {},
     "output_type": "execute_result"
    },
    {
     "data": {
      "image/png": "[encoded data removed]",
      "text/plain": [
       "<Figure size 432x288 with 1 Axes>"
      ]
     },
     "metadata": {
      "needs_background": "light"
     },
     "output_type": "display_data"
    }
   ],
   "source": [
    "plt.errorbar(alphas, training.mean(axis=1), yerr=training.std(axis=1), label='Train')\n",
    "plt.errorbar(alphas, testing.mean(axis=1), yerr=testing.std(axis=1), label='Test')\n",
    "plt.xscale('log')\n",
    "plt.xlabel('Alpha')\n",
    "plt.ylabel('R')\n",
    "plt.legend()"
   ]
  },
  {
   "cell_type": "code",
   "execution_count": 402,
   "metadata": {},
   "outputs": [
    {
     "data": {
      "text/plain": [
       "Lasso(alpha=0.0001, copy_X=True, fit_intercept=True, max_iter=100000.0,\n",
       "      normalize=False, positive=False, precompute=False, random_state=None,\n",
       "      selection='cyclic', tol=0.0001, warm_start=False)"
      ]
     },
     "execution_count": 402,
     "metadata": {},
     "output_type": "execute_result"
    }
   ],
   "source": [
    "model = Lasso(alpha=1e-4, max_iter=1e5)\n",
    "model.fit(X, y)"
   ]
  },
  {
   "cell_type": "code",
   "execution_count": 406,
   "metadata": {},
   "outputs": [
    {
     "data": {
      "text/plain": [
       "NNRS           -0.477513\n",
       "SM03_EA(dm)    -0.368146\n",
       "Eig09_EA(bo)   -0.050650\n",
       "Eig07_EA(dm)   -0.504431\n",
       "Eig11_EA(ri)   -0.802003\n",
       "G3s            -0.344271\n",
       "E2s            -0.855908\n",
       "HATS4v         -0.142621\n",
       "HATS4e         -0.105318\n",
       "nR=Cp          -0.218425\n",
       "nRCHO          -0.997088\n",
       "C-008          -0.970852\n",
       "C-015          -0.114213\n",
       "C-036          -0.006317\n",
       "O-060          -0.036627\n",
       "NdCH2          -0.002980\n",
       "CATS2D_05_DL   -0.100818\n",
       "CATS2D_01_NL   -1.572119\n",
       "B01[C-N]       -1.761445\n",
       "B01[C-S]       -0.801880\n",
       "B02[C-N]       -0.099297\n",
       "B02[C-S]       -0.016563\n",
       "B03[C-N]       -0.002051\n",
       "B03[C-S]       -0.883230\n",
       "B05[C-C]       -0.286078\n",
       "B06[C-C]       -0.853228\n",
       "B07[C-O]       -0.728351\n",
       "B08[C-O]       -0.375706\n",
       "Name: Weight, dtype: float64"
      ]
     },
     "execution_count": 406,
     "metadata": {},
     "output_type": "execute_result"
    }
   ],
   "source": [
    "snitz_space_weights = pd.Series(model.coef_, index=features, name='Weight')\n",
    "snitz_space_weights = snitz_space_weights[np.abs(snitz_space_weights)>1e-5]\n",
    "snitz_space_weights"
   ]
  },
  {
   "cell_type": "code",
   "execution_count": 408,
   "metadata": {},
   "outputs": [],
   "source": [
    "snitz_space_weights.to_csv('data/snitz_dragon_weights.csv', header=True)"
   ]
  }
 ],
 "metadata": {
  "kernelspec": {
   "display_name": "Python 3",
   "language": "python",
   "name": "python3"
  },
  "language_info": {
   "codemirror_mode": {
    "name": "ipython",
    "version": 3
   },
   "file_extension": ".py",
   "mimetype": "text/x-python",
   "name": "python",
   "nbconvert_exporter": "python",
   "pygments_lexer": "ipython3",
   "version": "3.6.8"
  }
 },
 "nbformat": 4,
 "nbformat_minor": 2
}
