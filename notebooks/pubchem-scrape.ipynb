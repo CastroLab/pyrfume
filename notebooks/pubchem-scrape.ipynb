{
 "cells": [
  {
   "cell_type": "code",
   "execution_count": 2,
   "metadata": {},
   "outputs": [],
   "source": [
    "import json\n",
    "import pickle\n",
    "import re\n",
    "import requests\n",
    "\n",
    "from IPython.display import HTML, display\n",
    "import numpy as np\n",
    "from pyrfume import pubchem\n",
    "from rickpy import ProgressBar\n",
    "import seaborn as sns"
   ]
  },
  {
   "cell_type": "code",
   "execution_count": 155,
   "metadata": {},
   "outputs": [
    {
     "name": "stdout",
     "output_type": "stream",
     "text": [
      "[-----------------------99%----------------------] 74071 out of 74072 complete"
     ]
    }
   ],
   "source": [
    "start = cid\n",
    "finish = int(1e5)\n",
    "p = ProgressBar(finish-start)\n",
    "for cid in range(start, finish):\n",
    "    p.animate(cid-start)\n",
    "    try:\n",
    "        summary = pubchem.get_summary(cid)\n",
    "    except requests.exceptions.SSLError:\n",
    "        print(\"SSLError for CID %d\" % cid)\n",
    "    else:\n",
    "        statements = pubchem.parse_summary_for_odor(summary)\n",
    "        if statements:\n",
    "            #print(cid, statements)\n",
    "            summ_statements[cid] = statements"
   ]
  },
  {
   "cell_type": "code",
   "execution_count": 160,
   "metadata": {},
   "outputs": [
    {
     "name": "stdout",
     "output_type": "stream",
     "text": [
      "[-----------------------99%----------------------] 84061 out of 84062 complete"
     ]
    }
   ],
   "source": [
    "start = cid\n",
    "finish = int(1e5)\n",
    "p = ProgressBar(finish-start)\n",
    "for cid in range(start, finish):\n",
    "    p.animate(cid-start)\n",
    "    try:\n",
    "        phys = pubchem.get_physical_description(cid)\n",
    "    except requests.exceptions.SSLError:\n",
    "        print(\"SSLError for CID %d\" % cid)\n",
    "    else:\n",
    "        statements = pubchem.parse_physical_description_for_odor(phys)\n",
    "        if statements:\n",
    "            #print(cid, statements)\n",
    "            phys_statements[cid] = statements"
   ]
  },
  {
   "cell_type": "code",
   "execution_count": 161,
   "metadata": {},
   "outputs": [
    {
     "data": {
      "text/plain": [
       "(1170, 1758, 174, 762)"
      ]
     },
     "execution_count": 161,
     "metadata": {},
     "output_type": "execute_result"
    }
   ],
   "source": [
    "summ_cids = set(key for key in summ_statements)\n",
    "phys_cids = set(key for key in phys_statements)\n",
    "len(summ_cids), len(phys_cids), len(summ_cids.difference(phys_cids)), len(phys_cids.difference(summ_cids))"
   ]
  },
  {
   "cell_type": "code",
   "execution_count": 162,
   "metadata": {},
   "outputs": [],
   "source": [
    "all_statements = {}\n",
    "for cid in set(summ_statements) | set(phys_statements):\n",
    "    summ_statements_cid = summ_statements.get(cid, [])\n",
    "    phys_statements_cid = phys_statements.get(cid, [])\n",
    "    all_statements[cid] = summ_statements_cid + phys_statements_cid"
   ]
  },
  {
   "cell_type": "code",
   "execution_count": 171,
   "metadata": {},
   "outputs": [],
   "source": [
    "def color(cid, s, code):\n",
    "    return \"<p style='color: %s'>%d: %s</p>\" % (code, cid, s)\n",
    "\n",
    "html = \"\"\n",
    "for cid in sorted(all_statements):\n",
    "    statements = all_statements[cid]\n",
    "    odor = 0\n",
    "    odorless = 0\n",
    "    for statement in statements:\n",
    "        statement = statement.lower()\n",
    "        if re.findall('no odor', statement):\n",
    "            html += color(cid, statement, '#00BB00')\n",
    "        elif re.findall('no odour', statement):\n",
    "            html += color(cid, statement, '#00BB00')\n",
    "        elif re.findall('no smell', statement):\n",
    "            html += color(cid, statement, '#00BB00')\n",
    "        elif re.findall('no fragrance', statement):\n",
    "            html += color(cid, statement, '#00BB00')\n",
    "        elif re.findall('odorless', statement):\n",
    "            html += color(cid, statement, '#00BB00')\n",
    "        elif re.findall('odourless', statement):\n",
    "            html += color(cid, statement, '#00BB00')\n",
    "        elif re.findall('odoratus', statement):\n",
    "            html += color(cid, statement, '#000000')\n",
    "        elif re.findall('sense of smell', statement):\n",
    "            html += color(cid, statement, '#DD0000')\n",
    "        elif re.findall('odor', statement):\n",
    "            html += color(cid, statement, '#DD0000')\n",
    "        elif re.findall('odour', statement):\n",
    "            html += color(cid, statement, '#DD0000')\n",
    "        elif re.findall('smell', statement):\n",
    "            html += color(cid, statement, '#DD0000')\n",
    "        elif re.findall('fragrance', statement):\n",
    "            html += color(cid, statement, '#DD0000')\n",
    "        elif re.findall('aroma ', statement):\n",
    "            html += color(cid, statement, '#DD0000')\n",
    "        else:\n",
    "            html += color(cid, statement, '#000000')\n",
    "    #if odor and odorless:\n",
    "    #    print(statements)\n",
    "    \n",
    "#display(HTML(html))\n",
    "with open('../data/pubchem_scrape_100000.html', 'w') as f:\n",
    "    f.write(html)"
   ]
  },
  {
   "cell_type": "code",
   "execution_count": 170,
   "metadata": {},
   "outputs": [],
   "source": [
    "with open('../data/pubchem_scrape_100000.pkl', 'wb') as f:\n",
    "    pickle.dump(all_statements, f)"
   ]
  }
 ],
 "metadata": {
  "kernelspec": {
   "display_name": "Python 3",
   "language": "python",
   "name": "python3"
  },
  "language_info": {
   "codemirror_mode": {
    "name": "ipython",
    "version": 3
   },
   "file_extension": ".py",
   "mimetype": "text/x-python",
   "name": "python",
   "nbconvert_exporter": "python",
   "pygments_lexer": "ipython3",
   "version": "3.7.4"
  }
 },
 "nbformat": 4,
 "nbformat_minor": 4
}
