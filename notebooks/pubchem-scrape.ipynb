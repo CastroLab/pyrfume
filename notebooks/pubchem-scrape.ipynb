{
 "cells": [
  {
   "cell_type": "code",
   "execution_count": 143,
   "metadata": {},
   "outputs": [],
   "source": [
    "import json\n",
    "import requests\n",
    "from rickpy import ProgressBar"
   ]
  },
  {
   "cell_type": "code",
   "execution_count": 154,
   "metadata": {},
   "outputs": [],
   "source": [
    "def get_summary(cid):\n",
    "    url = 'https://pubchem.ncbi.nlm.nih.gov/rest/pug/compound/cid/%d/description/json' % cid\n",
    "    result = requests.get(url)\n",
    "    summary = json.loads(result.content)\n",
    "    return summary\n",
    "\n",
    "def parse_summary_for_odor(summary):\n",
    "    statements = []\n",
    "    # keywords should include aroma but exclude aromatic (due to its special meaning in chemistry)\n",
    "    keywords = ('odor', 'odour', 'smell', 'aroma ', 'aroma,', 'aroma.', 'fragrance')\n",
    "    if 'InformationList' in summary:\n",
    "        for item in summary['InformationList']['Information']:\n",
    "            if 'Description' in item:\n",
    "                for statement in item['Description'].split('.'):\n",
    "                    if any([x in statement.lower() for x in keywords]):\n",
    "                        statements.append(statement.strip())\n",
    "    return statements"
   ]
  },
  {
   "cell_type": "code",
   "execution_count": 155,
   "metadata": {},
   "outputs": [
    {
     "name": "stdout",
     "output_type": "stream",
     "text": [
      "[-----------------------99%----------------------] 74071 out of 74072 complete"
     ]
    }
   ],
   "source": [
    "start = cid\n",
    "finish = int(1e5)\n",
    "p = ProgressBar(finish-start)\n",
    "for cid in range(start, finish):\n",
    "    p.animate(cid-start)\n",
    "    try:\n",
    "        summary = get_summary(cid)\n",
    "    except requests.exceptions.SSLError:\n",
    "        print(\"SSLError for CID %d\" % cid)\n",
    "    else:\n",
    "        statements = parse_summary_for_odor(summary)\n",
    "        if statements:\n",
    "            #print(cid, statements)\n",
    "            summ_statements[cid] = statements"
   ]
  },
  {
   "cell_type": "code",
   "execution_count": 159,
   "metadata": {},
   "outputs": [],
   "source": [
    "def get_physical_description(cid):\n",
    "    url = 'https://pubchem.ncbi.nlm.nih.gov/rest/pug_view/data/compound/%d/JSON?heading=Physical+Description' % cid\n",
    "    result = requests.get(url)\n",
    "    try:\n",
    "        summary = json.loads(result.content)\n",
    "    except UnicodeDecodeError:\n",
    "        summary = {}\n",
    "    return summary\n",
    "\n",
    "def parse_physical_description_for_odor(physical_description):\n",
    "    statements = []\n",
    "    try:\n",
    "        strings = [x['Value']['StringWithMarkup'][0]['String']\n",
    "                   for x in physical_description['Record']['Section'][0]['Section'][0]['Section'][0]['Information']]\n",
    "    except KeyError:\n",
    "        pass\n",
    "    else:\n",
    "        # keywords should include aroma but exclude aromatic (due to its special meaning in chemistry)\n",
    "        keywords = ('odor', 'odour', 'smell', 'aroma ', 'aroma,', 'aroma.', 'fragrance')\n",
    "        for string in strings:\n",
    "            for statement in string.split('.'):\n",
    "                if any([x in statement.lower() for x in keywords]):\n",
    "                    statements.append(statement.strip())\n",
    "    return statements"
   ]
  },
  {
   "cell_type": "code",
   "execution_count": 160,
   "metadata": {},
   "outputs": [
    {
     "name": "stdout",
     "output_type": "stream",
     "text": [
      "[-----------------------99%----------------------] 84061 out of 84062 complete"
     ]
    }
   ],
   "source": [
    "start = cid\n",
    "finish = int(1e5)\n",
    "p = ProgressBar(finish-start)\n",
    "for cid in range(start, finish):\n",
    "    p.animate(cid-start)\n",
    "    try:\n",
    "        phys = get_physical_description(cid)\n",
    "    except requests.exceptions.SSLError:\n",
    "        print(\"SSLError for CID %d\" % cid)\n",
    "    else:\n",
    "        statements = parse_physical_description_for_odor(phys)\n",
    "        if statements:\n",
    "            #print(cid, statements)\n",
    "            phys_statements[cid] = statements"
   ]
  },
  {
   "cell_type": "code",
   "execution_count": 161,
   "metadata": {},
   "outputs": [
    {
     "data": {
      "text/plain": [
       "(1170, 1758, 174, 762)"
      ]
     },
     "execution_count": 161,
     "metadata": {},
     "output_type": "execute_result"
    }
   ],
   "source": [
    "summ_cids = set(key for key in summ_statements)\n",
    "phys_cids = set(key for key in phys_statements)\n",
    "len(summ_cids), len(phys_cids), len(summ_cids.difference(phys_cids)), len(phys_cids.difference(summ_cids))"
   ]
  },
  {
   "cell_type": "code",
   "execution_count": 162,
   "metadata": {},
   "outputs": [],
   "source": [
    "all_statements = {}\n",
    "for cid in set(summ_statements) | set(phys_statements):\n",
    "    summ_statements_cid = summ_statements.get(cid, [])\n",
    "    phys_statements_cid = phys_statements.get(cid, [])\n",
    "    all_statements[cid] = summ_statements_cid + phys_statements_cid"
   ]
  },
  {
   "cell_type": "code",
   "execution_count": 171,
   "metadata": {},
   "outputs": [],
   "source": [
    "import re\n",
    "from IPython.display import HTML, display\n",
    "\n",
    "def color(cid, s, code):\n",
    "    return \"<p style='color: %s'>%d: %s</p>\" % (code, cid, s)\n",
    "\n",
    "html = \"\"\n",
    "for cid in sorted(all_statements):\n",
    "    statements = all_statements[cid]\n",
    "    odor = 0\n",
    "    odorless = 0\n",
    "    for statement in statements:\n",
    "        statement = statement.lower()\n",
    "        if re.findall('no odor', statement):\n",
    "            html += color(cid, statement, '#00BB00')\n",
    "        elif re.findall('no odour', statement):\n",
    "            html += color(cid, statement, '#00BB00')\n",
    "        elif re.findall('no smell', statement):\n",
    "            html += color(cid, statement, '#00BB00')\n",
    "        elif re.findall('no fragrance', statement):\n",
    "            html += color(cid, statement, '#00BB00')\n",
    "        elif re.findall('odorless', statement):\n",
    "            html += color(cid, statement, '#00BB00')\n",
    "        elif re.findall('odourless', statement):\n",
    "            html += color(cid, statement, '#00BB00')\n",
    "        elif re.findall('odoratus', statement):\n",
    "            html += color(cid, statement, '#000000')\n",
    "        elif re.findall('sense of smell', statement):\n",
    "            html += color(cid, statement, '#DD0000')\n",
    "        elif re.findall('odor', statement):\n",
    "            html += color(cid, statement, '#DD0000')\n",
    "        elif re.findall('odour', statement):\n",
    "            html += color(cid, statement, '#DD0000')\n",
    "        elif re.findall('smell', statement):\n",
    "            html += color(cid, statement, '#DD0000')\n",
    "        elif re.findall('fragrance', statement):\n",
    "            html += color(cid, statement, '#DD0000')\n",
    "        elif re.findall('aroma ', statement):\n",
    "            html += color(cid, statement, '#DD0000')\n",
    "        else:\n",
    "            html += color(cid, statement, '#000000')\n",
    "    #if odor and odorless:\n",
    "    #    print(statements)\n",
    "    \n",
    "#display(HTML(html))\n",
    "with open('../data/pubchem_scrape_100000.html', 'w') as f:\n",
    "    f.write(html)"
   ]
  },
  {
   "cell_type": "code",
   "execution_count": 170,
   "metadata": {},
   "outputs": [],
   "source": [
    "import pickle\n",
    "with open('../data/pubchem_scrape_100000.pkl', 'wb') as f:\n",
    "    pickle.dump(all_statements, f)"
   ]
  },
  {
   "cell_type": "code",
   "execution_count": 196,
   "metadata": {},
   "outputs": [
    {
     "data": {
      "text/plain": [
       "<seaborn.axisgrid.JointGrid at 0x7fc40c25e390>"
      ]
     },
     "execution_count": 196,
     "metadata": {},
     "output_type": "execute_result"
    },
    {
     "data": {
      "image/png": "[encoded data removed]",
      "text/plain": [
       "<Figure size 432x432 with 3 Axes>"
      ]
     },
     "metadata": {
      "needs_background": "light"
     },
     "output_type": "display_data"
    },
    {
     "data": {
      "image/png": "[encoded data removed]",
      "text/plain": [
       "<Figure size 432x432 with 3 Axes>"
      ]
     },
     "metadata": {
      "needs_background": "light"
     },
     "output_type": "display_data"
    }
   ],
   "source": [
    "import numpy as np\n",
    "import seaborn as sns\n",
    "x = list(np.random.randn(50, 2)) + list(np.array([5,4])+np.random.randn(50, 2))\n",
    "y = list(np.random.randn(50, 2))\n",
    "sns.jointplot(*np.array(x).T)\n",
    "sns.jointplot(*np.array(y).T)"
   ]
  },
  {
   "cell_type": "code",
   "execution_count": 177,
   "metadata": {},
   "outputs": [
    {
     "data": {
      "text/plain": [
       "array([0.09190899])"
      ]
     },
     "execution_count": 177,
     "metadata": {},
     "output_type": "execute_result"
    }
   ],
   "source": [
    "np.random.randn(1)"
   ]
  },
  {
   "cell_type": "code",
   "execution_count": 180,
   "metadata": {},
   "outputs": [
    {
     "data": {
      "text/plain": [
       "array([-0.44803909, -0.29980779, -0.8957368 ,  0.72161359,  0.11313407,\n",
       "       -0.58889416,  0.66920256,  0.35192821,  0.92298029, -3.64768366,\n",
       "        0.59565269, -0.62126484,  0.20733118,  0.14767707, -0.25080624,\n",
       "       -0.55627507,  1.56742938, -0.05658108,  1.30866078, -0.8848005 ])"
      ]
     },
     "execution_count": 180,
     "metadata": {},
     "output_type": "execute_result"
    }
   ],
   "source": [
    "np.random.randn(20)"
   ]
  },
  {
   "cell_type": "code",
   "execution_count": null,
   "metadata": {},
   "outputs": [],
   "source": []
  }
 ],
 "metadata": {
  "kernelspec": {
   "display_name": "Python 3",
   "language": "python",
   "name": "python3"
  },
  "language_info": {
   "codemirror_mode": {
    "name": "ipython",
    "version": 3
   },
   "file_extension": ".py",
   "mimetype": "text/x-python",
   "name": "python",
   "nbconvert_exporter": "python",
   "pygments_lexer": "ipython3",
   "version": "3.7.4"
  }
 },
 "nbformat": 4,
 "nbformat_minor": 4
}
