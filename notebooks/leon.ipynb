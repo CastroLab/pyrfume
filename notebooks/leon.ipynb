{
 "cells": [
  {
   "cell_type": "code",
   "execution_count": 57,
   "metadata": {},
   "outputs": [],
   "source": [
    "import pandas as pd\n",
    "import pyrfume\n",
    "from pyrfume.odorants import get_cids\n",
    "import rdkit\n",
    "from rdkit import Chem\n",
    "import re"
   ]
  },
  {
   "cell_type": "code",
   "execution_count": 60,
   "metadata": {},
   "outputs": [
    {
     "data": {
      "text/plain": [
       "'amyl-2-acetate'"
      ]
     },
     "execution_count": 60,
     "metadata": {},
     "output_type": "execute_result"
    }
   ],
   "source": [
    "re.sub('l-(?![0-9])', 'l ', 'amyl-2-acetate')"
   ]
  },
  {
   "cell_type": "code",
   "execution_count": 91,
   "metadata": {},
   "outputs": [],
   "source": [
    "from pathlib import Path\n",
    "p = Path(pyrfume.DATA)\n",
    "old_names = []\n",
    "new_names = []\n",
    "for file in (p / 'leon' / '3D_mol_files').glob('*.mol'):\n",
    "    name = file.name.replace('.mol', '')\n",
    "    old_names.append(name)\n",
    "    # Replace underscore with hyphen\n",
    "    name = name.replace('_','-')\n",
    "    # Remove extraneous hyphens \n",
    "    name = re.sub('(?<![0-9\\(])-(?![0-9])', ' ', name)\n",
    "    # Add back hyphens after prefixes\n",
    "    for x in ['alpha', 'beta', 'gamma', 'delta', 'tert', 'L', 'D', 'm', 'o', 'p', 'cis', 'trans', 'sec']:\n",
    "        name = name.replace('%s '%x, '%s-'%x)\n",
    "    # Move isomeric identifiers to the front of the name\n",
    "    for x in ['(-)', '(+)']:\n",
    "        if x in name:\n",
    "            name = '%s-%s' % (x, name.replace(x, ''))\n",
    "    new_names.append(name)\n",
    "    #print(name)"
   ]
  },
  {
   "cell_type": "code",
   "execution_count": 92,
   "metadata": {},
   "outputs": [
    {
     "name": "stdout",
     "output_type": "stream",
     "text": [
      "[-----------------------100%---------------------] 268 out of 268 complete               \n",
      "Could not find phenethyl-2-furoate\n",
      "Could not find celeriax\n",
      "Could not find methyl-2-octynoate\n",
      "Could not find methyl-3-methylbutenoate\n",
      "Could not find 2,5-dimethyl-4-hydroxy-3(2H)furanone\n",
      "\n",
      "\n",
      "Could not find 2,5-dimethyl-4-hydroxy-3(2H)furanone\n",
      "Could not find methyl-3-methylbutenoate\n",
      "Could not find methyl-2-octynoate\n",
      "Could not find celeriax\n",
      "Could not find phenethyl-2-furoate\n"
     ]
    }
   ],
   "source": [
    "cids = get_cids(new_names)"
   ]
  },
  {
   "cell_type": "code",
   "execution_count": 95,
   "metadata": {},
   "outputs": [
    {
     "data": {
      "text/html": [
       "<div>\n",
       "<style scoped>\n",
       "    .dataframe tbody tr th:only-of-type {\n",
       "        vertical-align: middle;\n",
       "    }\n",
       "\n",
       "    .dataframe tbody tr th {\n",
       "        vertical-align: top;\n",
       "    }\n",
       "\n",
       "    .dataframe thead th {\n",
       "        text-align: right;\n",
       "    }\n",
       "</style>\n",
       "<table border=\"1\" class=\"dataframe\">\n",
       "  <thead>\n",
       "    <tr style=\"text-align: right;\">\n",
       "      <th></th>\n",
       "      <th>Name</th>\n",
       "      <th>CID</th>\n",
       "      <th>Old Name</th>\n",
       "    </tr>\n",
       "  </thead>\n",
       "  <tbody>\n",
       "    <tr>\n",
       "      <th>0</th>\n",
       "      <td>alpha-angelica lactone</td>\n",
       "      <td>11559</td>\n",
       "      <td>alpha-angelica_lactone</td>\n",
       "    </tr>\n",
       "    <tr>\n",
       "      <th>1</th>\n",
       "      <td>nonanal</td>\n",
       "      <td>31289</td>\n",
       "      <td>nonanal</td>\n",
       "    </tr>\n",
       "    <tr>\n",
       "      <th>2</th>\n",
       "      <td>mesityl oxide</td>\n",
       "      <td>8858</td>\n",
       "      <td>mesityl_oxide</td>\n",
       "    </tr>\n",
       "    <tr>\n",
       "      <th>3</th>\n",
       "      <td>trans-2-hexenoic acid</td>\n",
       "      <td>5282707</td>\n",
       "      <td>trans-2-hexenoic_acid</td>\n",
       "    </tr>\n",
       "    <tr>\n",
       "      <th>4</th>\n",
       "      <td>2-octanone</td>\n",
       "      <td>8093</td>\n",
       "      <td>2-octanone</td>\n",
       "    </tr>\n",
       "  </tbody>\n",
       "</table>\n",
       "</div>"
      ],
      "text/plain": [
       "                     Name      CID                Old Name\n",
       "0  alpha-angelica lactone    11559  alpha-angelica_lactone\n",
       "1                 nonanal    31289                 nonanal\n",
       "2           mesityl oxide     8858           mesityl_oxide\n",
       "3   trans-2-hexenoic acid  5282707   trans-2-hexenoic_acid\n",
       "4              2-octanone     8093              2-octanone"
      ]
     },
     "execution_count": 95,
     "metadata": {},
     "output_type": "execute_result"
    }
   ],
   "source": [
    "df = pd.Series(cids, name='CID').to_frame()\n",
    "df['Old Name'] = old_names\n",
    "df.index.name = 'Name'\n",
    "df = df.reset_index()\n",
    "df.head()"
   ]
  },
  {
   "cell_type": "code",
   "execution_count": 96,
   "metadata": {},
   "outputs": [
    {
     "data": {
      "text/html": [
       "<div>\n",
       "<style scoped>\n",
       "    .dataframe tbody tr th:only-of-type {\n",
       "        vertical-align: middle;\n",
       "    }\n",
       "\n",
       "    .dataframe tbody tr th {\n",
       "        vertical-align: top;\n",
       "    }\n",
       "\n",
       "    .dataframe thead th {\n",
       "        text-align: right;\n",
       "    }\n",
       "</style>\n",
       "<table border=\"1\" class=\"dataframe\">\n",
       "  <thead>\n",
       "    <tr style=\"text-align: right;\">\n",
       "      <th></th>\n",
       "      <th>Name</th>\n",
       "      <th>CID</th>\n",
       "      <th>Old Name</th>\n",
       "    </tr>\n",
       "  </thead>\n",
       "  <tbody>\n",
       "    <tr>\n",
       "      <th>67</th>\n",
       "      <td>2,5-dimethyl-4-hydroxy-3(2H)furanone</td>\n",
       "      <td>0</td>\n",
       "      <td>2,5-dimethyl-4-hydroxy-3(2H)furanone</td>\n",
       "    </tr>\n",
       "    <tr>\n",
       "      <th>76</th>\n",
       "      <td>methyl-3-methylbutenoate</td>\n",
       "      <td>0</td>\n",
       "      <td>methyl_3-methylbutenoate</td>\n",
       "    </tr>\n",
       "    <tr>\n",
       "      <th>79</th>\n",
       "      <td>methyl-2-octynoate</td>\n",
       "      <td>0</td>\n",
       "      <td>methyl_2-octynoate</td>\n",
       "    </tr>\n",
       "    <tr>\n",
       "      <th>155</th>\n",
       "      <td>celeriax</td>\n",
       "      <td>0</td>\n",
       "      <td>celeriax</td>\n",
       "    </tr>\n",
       "    <tr>\n",
       "      <th>170</th>\n",
       "      <td>phenethyl-2-furoate</td>\n",
       "      <td>0</td>\n",
       "      <td>phenethyl_2-furoate</td>\n",
       "    </tr>\n",
       "  </tbody>\n",
       "</table>\n",
       "</div>"
      ],
      "text/plain": [
       "                                     Name  CID  \\\n",
       "67   2,5-dimethyl-4-hydroxy-3(2H)furanone    0   \n",
       "76               methyl-3-methylbutenoate    0   \n",
       "79                     methyl-2-octynoate    0   \n",
       "155                              celeriax    0   \n",
       "170                   phenethyl-2-furoate    0   \n",
       "\n",
       "                                 Old Name  \n",
       "67   2,5-dimethyl-4-hydroxy-3(2H)furanone  \n",
       "76               methyl_3-methylbutenoate  \n",
       "79                     methyl_2-octynoate  \n",
       "155                              celeriax  \n",
       "170                   phenethyl_2-furoate  "
      ]
     },
     "execution_count": 96,
     "metadata": {},
     "output_type": "execute_result"
    }
   ],
   "source": [
    "df[df['CID']==0]"
   ]
  },
  {
   "cell_type": "code",
   "execution_count": 97,
   "metadata": {},
   "outputs": [],
   "source": [
    "df.loc[67, 'CID'] = 19309\n",
    "df.loc[76, 'CID'] = 11160 \n",
    "df.loc[79, 'CID'] = 8092 \n",
    "df.loc[155, 'CID'] = 28500  \n",
    "df.loc[170, 'CID'] = 251531"
   ]
  },
  {
   "cell_type": "code",
   "execution_count": 99,
   "metadata": {},
   "outputs": [],
   "source": [
    "df = df.set_index('CID').sort_index()\n",
    "df.head()"
   ]
  },
  {
   "cell_type": "code",
   "execution_count": 104,
   "metadata": {},
   "outputs": [],
   "source": [
    "df.to_csv(p / 'leon' / 'leon_cids.csv', sep='\\t')"
   ]
  }
 ],
 "metadata": {
  "kernelspec": {
   "display_name": "Python 3",
   "language": "python",
   "name": "python3"
  },
  "language_info": {
   "codemirror_mode": {
    "name": "ipython",
    "version": 3
   },
   "file_extension": ".py",
   "mimetype": "text/x-python",
   "name": "python",
   "nbconvert_exporter": "python",
   "pygments_lexer": "ipython3",
   "version": "3.7.4"
  }
 },
 "nbformat": 4,
 "nbformat_minor": 4
}
