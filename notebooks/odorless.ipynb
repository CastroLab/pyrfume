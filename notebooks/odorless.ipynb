{
 "cells": [
  {
   "cell_type": "code",
   "execution_count": 32,
   "metadata": {},
   "outputs": [],
   "source": [
    "import pandas as pd\n",
    "import pyrfume\n",
    "\n",
    "# Read file sent by Emily Mayhew on Sept. 23, 2019\n",
    "df = pd.read_csv('u19predictions.csv')"
   ]
  },
  {
   "cell_type": "code",
   "execution_count": 33,
   "metadata": {},
   "outputs": [],
   "source": [
    "df['CID'] = df['SMILEstring'].apply(lambda x:x.split(': ')[0])\n",
    "df['SMILES'] = df['SMILEstring'].apply(lambda x:x.split(': ')[1])\n",
    "df['PredictedOdorless'] = df['Prediction']=='Odorless'\n",
    "predicted_odorless = df.set_index('CID')['PredictedOdorless']"
   ]
  },
  {
   "cell_type": "code",
   "execution_count": 36,
   "metadata": {},
   "outputs": [],
   "source": [
    "pyrfume.save_data(predicted_odorless.to_frame(), 'odorants/predicted_odorless.csv')"
   ]
  }
 ],
 "metadata": {
  "kernelspec": {
   "display_name": "Python 3",
   "language": "python",
   "name": "python3"
  },
  "language_info": {
   "codemirror_mode": {
    "name": "ipython",
    "version": 3
   },
   "file_extension": ".py",
   "mimetype": "text/x-python",
   "name": "python",
   "nbconvert_exporter": "python",
   "pygments_lexer": "ipython3",
   "version": "3.7.4"
  }
 },
 "nbformat": 4,
 "nbformat_minor": 4
}
