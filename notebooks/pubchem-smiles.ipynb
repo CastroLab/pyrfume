{
 "cells": [
  {
   "cell_type": "markdown",
   "metadata": {},
   "source": [
    "### SMILES strings for the first N PubChem IDs\n",
    "#### 2020/02/07: N = 100,000"
   ]
  },
  {
   "cell_type": "code",
   "execution_count": 1,
   "metadata": {},
   "outputs": [],
   "source": [
    "%load_ext autoreload\n",
    "%autoreload 2"
   ]
  },
  {
   "cell_type": "code",
   "execution_count": 18,
   "metadata": {},
   "outputs": [],
   "source": [
    "import pandas as pd\n",
    "import pyrfume\n",
    "from pyrfume.odorants import from_cids"
   ]
  },
  {
   "cell_type": "code",
   "execution_count": 3,
   "metadata": {},
   "outputs": [
    {
     "name": "stdout",
     "output_type": "stream",
     "text": [
      "[-----------------------99%----------------------] 9900 out of 10000 complete (Retrieving 9900 through 9999)"
     ]
    }
   ],
   "source": [
    "if 'results' not in locals():\n",
    "    results = {}\n",
    "n = int(1e5)\n",
    "by = int(1e4) # In case there are errors, we will only have to go back this far\n",
    "for first in range(1, n+1, by):\n",
    "    if first not in results:\n",
    "        last = first + by\n",
    "        x = from_cids(range(first, last))\n",
    "        results[first] = x"
   ]
  },
  {
   "cell_type": "code",
   "execution_count": 4,
   "metadata": {},
   "outputs": [
    {
     "data": {
      "text/plain": [
       "dict_keys([1, 10001, 20001, 30001, 40001, 50001, 60001, 70001, 80001, 90001])"
      ]
     },
     "execution_count": 4,
     "metadata": {},
     "output_type": "execute_result"
    }
   ],
   "source": [
    "results.keys()"
   ]
  },
  {
   "cell_type": "code",
   "execution_count": 14,
   "metadata": {},
   "outputs": [],
   "source": [
    "df = pd.concat([pd.DataFrame(results[x]).set_index('CID') for x in results])"
   ]
  },
  {
   "cell_type": "code",
   "execution_count": 19,
   "metadata": {},
   "outputs": [],
   "source": [
    "pyrfume.save_data(df, 'odorants/cids-smiles-pubchem-100000.csv')"
   ]
  },
  {
   "cell_type": "code",
   "execution_count": null,
   "metadata": {},
   "outputs": [],
   "source": []
  }
 ],
 "metadata": {
  "kernelspec": {
   "display_name": "Python 3",
   "language": "python",
   "name": "python3"
  },
  "language_info": {
   "codemirror_mode": {
    "name": "ipython",
    "version": 3
   },
   "file_extension": ".py",
   "mimetype": "text/x-python",
   "name": "python",
   "nbconvert_exporter": "python",
   "pygments_lexer": "ipython3",
   "version": "3.7.4"
  }
 },
 "nbformat": 4,
 "nbformat_minor": 4
}
