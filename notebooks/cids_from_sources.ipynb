{
 "cells": [
  {
   "cell_type": "code",
   "execution_count": 1,
   "metadata": {},
   "outputs": [],
   "source": [
    "%load_ext autoreload\n",
    "%autoreload 2\n",
    "import os\n",
    "from pathlib import Path\n",
    "import pickle\n",
    "import numpy as np\n",
    "import pandas as pd\n",
    "from rickpy import ProgressBar\n",
    "import pyrfume"
   ]
  },
  {
   "cell_type": "code",
   "execution_count": 59,
   "metadata": {},
   "outputs": [],
   "source": [
    "cids = {}\n",
    "DATA = pyrfume.DATA_DIR"
   ]
  },
  {
   "cell_type": "markdown",
   "metadata": {},
   "source": [
    "## From Sigma Fragrance and Flavor Catalog (2014)"
   ]
  },
  {
   "cell_type": "code",
   "execution_count": 60,
   "metadata": {},
   "outputs": [],
   "source": [
    "# Create a new file with CIDs and store here in `cids` dictionary\n",
    "file_path = DATA / 'sigma_2014' / 'sigma.csv'\n",
    "df = pd.read_csv(file_path)\n",
    "cids['sigma-2014'] = set(df['CID']) - {0}"
   ]
  },
  {
   "cell_type": "markdown",
   "metadata": {},
   "source": [
    "## Dravnieks Atlas of Odor Character"
   ]
  },
  {
   "cell_type": "code",
   "execution_count": 61,
   "metadata": {},
   "outputs": [],
   "source": [
    "# Create a new file with CIDs and store here in `cids` dictionary\n",
    "file_path = DATA / 'dravnieks_1985' / 'dravnieks.csv'\n",
    "df = pd.read_csv(file_path)\n",
    "cids['dravnieks-1985'] = set(df['CID']) - {0}"
   ]
  },
  {
   "cell_type": "markdown",
   "metadata": {},
   "source": [
    "## Abraham et al, 2013"
   ]
  },
  {
   "cell_type": "code",
   "execution_count": 62,
   "metadata": {},
   "outputs": [],
   "source": [
    "file_path = DATA / 'abraham_2011' / 'abraham-2011-with-CIDs.csv'\n",
    "df = pd.read_csv(file_path)\n",
    "cids['abraham-2013'] = set(df['CID']) - {0}"
   ]
  },
  {
   "cell_type": "markdown",
   "metadata": {},
   "source": [
    "## Bushdid et al, 2014"
   ]
  },
  {
   "cell_type": "code",
   "execution_count": 63,
   "metadata": {},
   "outputs": [],
   "source": [
    "# Create a new file with CIDs and store here in `cids` dictionary\n",
    "file_path = DATA / 'bushdid_2014' / 'bushdid.csv'\n",
    "df = pd.read_csv(file_path)\n",
    "cids['bushdid-2014'] = set(df['CID']) - {0}"
   ]
  },
  {
   "cell_type": "markdown",
   "metadata": {},
   "source": [
    "## Chae et al, 2019"
   ]
  },
  {
   "cell_type": "code",
   "execution_count": 64,
   "metadata": {},
   "outputs": [],
   "source": [
    "# Create a new file with CIDs and store here in `cids` dictionary\n",
    "file_path = DATA / 'chae_2019' / 'odorants.csv'\n",
    "df = pd.read_csv(file_path)\n",
    "cids['chae-2019'] = set(df['CID']) - {0}"
   ]
  },
  {
   "cell_type": "markdown",
   "metadata": {},
   "source": [
    "## Prestwick"
   ]
  },
  {
   "cell_type": "code",
   "execution_count": 65,
   "metadata": {},
   "outputs": [],
   "source": [
    "file_path = DATA / 'prestwick' / 'prestwick.csv'\n",
    "df = pd.read_csv(file_path)\n",
    "cids['prestwick'] = set(df['CID']) - {0}"
   ]
  },
  {
   "cell_type": "markdown",
   "metadata": {},
   "source": [
    "## GRAS"
   ]
  },
  {
   "cell_type": "code",
   "execution_count": 66,
   "metadata": {},
   "outputs": [],
   "source": [
    "file_path = DATA / 'GRAS' / 'gras.csv'\n",
    "df = pd.read_csv(file_path)\n",
    "cids['gras'] = set(df['CID']) - {0}"
   ]
  },
  {
   "cell_type": "markdown",
   "metadata": {},
   "source": [
    "## Sobel Lab (Weiss 2012, Snitz 2013)"
   ]
  },
  {
   "cell_type": "code",
   "execution_count": 67,
   "metadata": {},
   "outputs": [],
   "source": [
    "file_path = DATA / 'snitz_2013' / 'snitz.csv'\n",
    "df = pd.read_csv(file_path)\n",
    "cids['sobel-2013'] = set(df['CID']) - {0}"
   ]
  },
  {
   "cell_type": "markdown",
   "metadata": {},
   "source": [
    "## Leffingwell"
   ]
  },
  {
   "cell_type": "code",
   "execution_count": 68,
   "metadata": {},
   "outputs": [],
   "source": [
    "file_path = DATA / 'company_x_2019' / 'company_x.csv'\n",
    "df = pd.read_csv(file_path)\n",
    "cids['leffingwell'] = set(df['CID']) - {0}"
   ]
  },
  {
   "cell_type": "markdown",
   "metadata": {},
   "source": [
    "## Davison"
   ]
  },
  {
   "cell_type": "code",
   "execution_count": 69,
   "metadata": {},
   "outputs": [],
   "source": [
    "file_path = DATA / 'davison_2007' / 'davison-katz.csv'\n",
    "df = pd.read_csv(file_path, index_col=0)\n",
    "cids['davison-2007'] = set(df['CID']) - {0}"
   ]
  },
  {
   "cell_type": "markdown",
   "metadata": {},
   "source": [
    "## FDB"
   ]
  },
  {
   "cell_type": "code",
   "execution_count": 70,
   "metadata": {},
   "outputs": [],
   "source": [
    "file_path = DATA / 'fragrancedb' / 'FragranceDB_CIDs.txt'\n",
    "df = pd.read_csv(file_path)\n",
    "cids['fragrance-db'] = set(df['CID']) - {0}"
   ]
  },
  {
   "cell_type": "markdown",
   "metadata": {},
   "source": [
    "## Mainland"
   ]
  },
  {
   "cell_type": "code",
   "execution_count": 71,
   "metadata": {},
   "outputs": [],
   "source": [
    "file_path = DATA / 'cabinets' / 'Mainland Odor Cabinet with CIDs.csv'\n",
    "df = pd.read_csv(file_path)\n",
    "cids['mainland-cabinet'] = set(df['CID']) - {0}"
   ]
  },
  {
   "cell_type": "code",
   "execution_count": 72,
   "metadata": {},
   "outputs": [],
   "source": [
    "file_path = DATA / 'mainland_intensity' / 'mainland-intensity-odorant-info.csv'\n",
    "df = pd.read_csv(file_path)\n",
    "cids['mainland-intensity'] = set(df['CID']) - {0}"
   ]
  },
  {
   "cell_type": "code",
   "execution_count": 73,
   "metadata": {},
   "outputs": [],
   "source": [
    "file_path = DATA / 'mainland_2015' / 'Odors.tsv'\n",
    "df = pd.read_csv(file_path, sep='\\t')\n",
    "cids['mainland-receptors'] = set(df['CID'].dropna().astype(int)) - {0}"
   ]
  },
  {
   "cell_type": "markdown",
   "metadata": {},
   "source": [
    "## Enantiomers"
   ]
  },
  {
   "cell_type": "code",
   "execution_count": 74,
   "metadata": {},
   "outputs": [],
   "source": [
    "file_path = DATA / 'shadmany' / 'enantiomers.csv'\n",
    "df = pd.read_csv(file_path)\n",
    "cids['enantiomers'] = set(df['CID']) - {0}"
   ]
  },
  {
   "cell_type": "markdown",
   "metadata": {},
   "source": [
    "## Haddad (just the clusters)"
   ]
  },
  {
   "cell_type": "code",
   "execution_count": 75,
   "metadata": {},
   "outputs": [],
   "source": [
    "file_path = DATA / 'haddad_2008' / 'haddad-clusters.csv'\n",
    "df = pd.read_csv(file_path)\n",
    "cids['haddad-2008'] = set(df['CID']) - {0}"
   ]
  },
  {
   "cell_type": "markdown",
   "metadata": {},
   "source": [
    "## U19 PIs"
   ]
  },
  {
   "cell_type": "code",
   "execution_count": 76,
   "metadata": {},
   "outputs": [],
   "source": [
    "from rickpy import get_sheet\n",
    "gerkin_sheet = '1PlU4zHyRXtcI7Y-O6xYtlIyKoKk8hX1I9zfx8KFELdc'\n",
    "u19_sheet = '1B2sEj9pCk2_zS1X1Cg2ulAB4E_BWPboJBSvH4Gwc8fs'\n",
    "dfs = {}\n",
    "dfs['gerkin-cabinet'] = get_sheet(gerkin_sheet, 'gerkin-compounds').set_index('CID')\n",
    "dfs['smith-cabinet'] = get_sheet(gerkin_sheet, 'smith-compounds').set_index('CID')\n",
    "dfs['rinberg-glomeruli'] = get_sheet(u19_sheet, 'rinberg').set_index('CID')\n",
    "dfs['fleischmann-cabinet'] = get_sheet(u19_sheet, 'fleischmann').set_index('CID')\n",
    "dfs['datta-cabinet'] = get_sheet(u19_sheet, 'datta').set_index('CID')\n",
    "dfs['bozza-cabinet'] = get_sheet(u19_sheet, 'bozza').set_index('CID')"
   ]
  },
  {
   "cell_type": "code",
   "execution_count": 77,
   "metadata": {},
   "outputs": [],
   "source": [
    "for name, df in dfs.items():\n",
    "    cids[name] = set(df.index) - {0}"
   ]
  },
  {
   "cell_type": "markdown",
   "metadata": {},
   "source": [
    "## Goodscents"
   ]
  },
  {
   "cell_type": "code",
   "execution_count": 78,
   "metadata": {},
   "outputs": [],
   "source": [
    "file_path = DATA / 'goodscents' / 'goodscents_cids.txt'\n",
    "df = pd.read_csv(file_path, index_col=False)\n",
    "cids['goodscents'] = set(df['CID']) - {0}"
   ]
  },
  {
   "cell_type": "markdown",
   "metadata": {},
   "source": [
    "## Arctander"
   ]
  },
  {
   "cell_type": "code",
   "execution_count": 79,
   "metadata": {},
   "outputs": [],
   "source": [
    "file_path = DATA / 'arctander_1960' / 'arctander_cids.txt'\n",
    "df = pd.read_csv(file_path, index_col=False)\n",
    "cids['arctander-1960'] = set(df['CID']) - {0}"
   ]
  },
  {
   "cell_type": "markdown",
   "metadata": {},
   "source": [
    "## Flavornet"
   ]
  },
  {
   "cell_type": "code",
   "execution_count": 80,
   "metadata": {},
   "outputs": [],
   "source": [
    "file_path = DATA / 'flavornet' / 'flavornet.csv'\n",
    "df = pd.read_csv(file_path)\n",
    "cids['flavornet'] = set(df['CID']) - {0}"
   ]
  },
  {
   "cell_type": "markdown",
   "metadata": {},
   "source": [
    "## Scott et al, 2014"
   ]
  },
  {
   "cell_type": "code",
   "execution_count": 81,
   "metadata": {},
   "outputs": [],
   "source": [
    "file_path = DATA / 'scott_2014' / 'data.csv'\n",
    "df = pd.read_csv(file_path)\n",
    "cids['scott-2014'] = set(df['CID']) - {0}"
   ]
  },
  {
   "cell_type": "markdown",
   "metadata": {},
   "source": [
    "## Superscent"
   ]
  },
  {
   "cell_type": "code",
   "execution_count": 82,
   "metadata": {},
   "outputs": [],
   "source": [
    "file_path = DATA / 'superscent' / 'superscent_cids.txt'\n",
    "df = pd.read_csv(file_path)\n",
    "cids['superscent'] = set(df['CID']) - {0}"
   ]
  },
  {
   "cell_type": "markdown",
   "metadata": {},
   "source": [
    "## SenseLab"
   ]
  },
  {
   "cell_type": "code",
   "execution_count": 83,
   "metadata": {},
   "outputs": [],
   "source": [
    "file_path = DATA / 'senselab' / 'senselab.csv'\n",
    "df = pd.read_csv(file_path)\n",
    "cids['senselab'] = set(df['CID']) - {0}"
   ]
  },
  {
   "cell_type": "code",
   "execution_count": 85,
   "metadata": {},
   "outputs": [],
   "source": [
    "file_path = DATA / 'wakayama_2019' / 'wakayama-intensity_with-CIDs.txt'\n",
    "df = pd.read_csv(file_path, sep='\\t')\n",
    "cids['wakayama-2019'] = set(df['CID']) - {0}"
   ]
  },
  {
   "cell_type": "markdown",
   "metadata": {},
   "source": [
    "## Save"
   ]
  },
  {
   "cell_type": "code",
   "execution_count": 86,
   "metadata": {},
   "outputs": [],
   "source": [
    "file_path = DATA / 'odorants' / 'cids.pkl'\n",
    "with open(file_path, 'wb') as f:\n",
    "    pickle.dump(cids, f)"
   ]
  },
  {
   "cell_type": "markdown",
   "metadata": {},
   "source": [
    "## Load"
   ]
  },
  {
   "cell_type": "code",
   "execution_count": 87,
   "metadata": {},
   "outputs": [],
   "source": [
    "#with open(file_path, 'rb') as f:\n",
    "#    cids2 = pickle.load(f)"
   ]
  },
  {
   "cell_type": "markdown",
   "metadata": {},
   "source": [
    "## Merge"
   ]
  },
  {
   "cell_type": "code",
   "execution_count": 89,
   "metadata": {},
   "outputs": [],
   "source": [
    "all_cids = set()\n",
    "for key in cids:\n",
    "    all_cids |= cids[key]\n",
    "all_cids = pd.DataFrame(index=sorted(list(all_cids)), columns=sorted(list(cids))).fillna(0)\n",
    "all_cids.index.name = 'CID'\n",
    "for key in cids:\n",
    "    all_cids.loc[list(cids[key]), key] = 1\n",
    "file_path = DATA / 'odorants' / 'all_cids.csv'\n",
    "all_cids.to_csv(file_path)"
   ]
  },
  {
   "cell_type": "code",
   "execution_count": 90,
   "metadata": {},
   "outputs": [
    {
     "data": {
      "text/plain": [
       "(9764, 29)"
      ]
     },
     "execution_count": 90,
     "metadata": {},
     "output_type": "execute_result"
    }
   ],
   "source": [
    "all_cids.shape"
   ]
  }
 ],
 "metadata": {
  "kernelspec": {
   "display_name": "Python 3",
   "language": "python",
   "name": "python3"
  },
  "language_info": {
   "codemirror_mode": {
    "name": "ipython",
    "version": 3
   },
   "file_extension": ".py",
   "mimetype": "text/x-python",
   "name": "python",
   "nbconvert_exporter": "python",
   "pygments_lexer": "ipython3",
   "version": "3.7.4"
  }
 },
 "nbformat": 4,
 "nbformat_minor": 4
}
