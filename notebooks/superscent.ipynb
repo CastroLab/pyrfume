{
 "cells": [
  {
   "cell_type": "code",
   "execution_count": null,
   "metadata": {},
   "outputs": [],
   "source": [
    "import bs4\n",
    "import os\n",
    "import pandas as pd\n",
    "from urllib.request import urlopen\n",
    "\n",
    "import pyrfume"
   ]
  },
  {
   "cell_type": "code",
   "execution_count": null,
   "metadata": {},
   "outputs": [],
   "source": [
    "url = 'http://bioinf-applied.charite.de/superscent/index.php?site=browse_scents'\n",
    "f = urlopen(url)\n",
    "html = f.read()\n",
    "soup = bs4.BeautifulSoup(html)"
   ]
  },
  {
   "cell_type": "code",
   "execution_count": null,
   "metadata": {},
   "outputs": [
    {
     "data": {
      "text/plain": [
       "['Acids',\n",
       " 'Alcohols',\n",
       " 'Aldehydes',\n",
       " 'Alkanes',\n",
       " 'Alkenes',\n",
       " 'Amides',\n",
       " 'Amines',\n",
       " 'Ammonia',\n",
       " 'Bicyclo',\n",
       " 'Chloro',\n",
       " 'Esters',\n",
       " 'Ethers',\n",
       " 'Furan',\n",
       " 'Hydrocarbons',\n",
       " 'Imidazole',\n",
       " 'Indole',\n",
       " 'Isothiocyanates',\n",
       " 'Ketones',\n",
       " 'Lactone',\n",
       " 'N-compounds',\n",
       " 'Oximes',\n",
       " 'Phenol',\n",
       " 'Pyran',\n",
       " 'Pyrazine',\n",
       " 'Pyrazole',\n",
       " 'Pyridine',\n",
       " 'Spiro',\n",
       " 'Sulfides',\n",
       " 'Sulfoxides',\n",
       " 'Thiazoles',\n",
       " 'Thioesters',\n",
       " 'Thiofurans',\n",
       " 'Thiols',\n",
       " 'Triazine']"
      ]
     },
     "execution_count": null,
     "metadata": {},
     "output_type": "execute_result"
    }
   ],
   "source": [
    "groups = [x.text for x in soup.find_all('table')[1].find_all('td')]\n",
    "groups"
   ]
  },
  {
   "cell_type": "code",
   "execution_count": null,
   "metadata": {},
   "outputs": [
    {
     "name": "stdout",
     "output_type": "stream",
     "text": [
      "Acids\n",
      "107 links\n",
      "Alcohols\n",
      "276 links\n",
      "Aldehydes\n",
      "110 links\n",
      "Alkanes\n",
      "41 links\n",
      "Alkenes\n",
      "38 links\n",
      "Amides\n",
      "3 links\n",
      "Amines\n",
      "61 links\n",
      "Ammonia\n",
      "1 links\n",
      "Bicyclo\n",
      "4 links\n",
      "Chloro\n",
      "2 links\n",
      "Esters\n",
      "712 links\n",
      "Ethers\n",
      "144 links\n",
      "Furan\n",
      "13 links\n",
      "Hydrocarbons\n",
      "110 links\n",
      "Imidazole\n",
      "2 links\n",
      "Indole\n",
      "3 links\n",
      "Isothiocyanates\n",
      "1 links\n",
      "Ketones\n",
      "229 links\n",
      "Lactone\n",
      "40 links\n",
      "N-compounds\n",
      "19 links\n",
      "Oximes\n",
      "1 links\n",
      "Phenol\n",
      "80 links\n",
      "Pyran\n",
      "2 links\n",
      "Pyrazine\n",
      "5 links\n",
      "Pyrazole\n",
      "1 links\n",
      "Pyridine\n",
      "4 links\n",
      "Spiro\n",
      "2 links\n",
      "Sulfides\n",
      "14 links\n",
      "Sulfoxides\n",
      "1 links\n",
      "Thiazoles\n",
      "2 links\n",
      "Thioesters\n",
      "2 links\n",
      "Thiofurans\n",
      "2 links\n",
      "Thiols\n",
      "2 links\n",
      "Triazine\n",
      "1 links\n"
     ]
    }
   ],
   "source": [
    "cids = set()\n",
    "for group in groups:\n",
    "    print(group)\n",
    "    url = 'http://bioinf-applied.charite.de/superscent/index.php?site=browse_scents&char=%s' % group\n",
    "    f = urlopen(url)\n",
    "    html = f.read()\n",
    "    soup = bs4.BeautifulSoup(html)\n",
    "    results_table = soup.find_all('table')[2]\n",
    "    links = results_table.find_all('a')\n",
    "    print('%d links' % len(links))\n",
    "    for link in links:\n",
    "        compound_url = link.get('href')\n",
    "        cid = int(compound_url.split('=')[-1])\n",
    "        cids.add(cid)"
   ]
  },
  {
   "cell_type": "code",
   "execution_count": null,
   "metadata": {},
   "outputs": [
    {
     "data": {
      "text/plain": [
       "1589"
      ]
     },
     "execution_count": null,
     "metadata": {},
     "output_type": "execute_result"
    }
   ],
   "source": [
    "len(cids)"
   ]
  },
  {
   "cell_type": "code",
   "execution_count": null,
   "metadata": {},
   "outputs": [],
   "source": [
    "file_path = os.path.join(pyrfume.DATA, 'superscent_cids.txt')\n",
    "pd.Series(sorted(list(cids)), name='CID').to_csv(file_path, index=False, header=True)"
   ]
  },
  {
   "cell_type": "code",
   "execution_count": null,
   "metadata": {},
   "outputs": [],
   "source": []
  }
 ],
 "metadata": {
  "kernelspec": {
   "display_name": "Python 3",
   "language": "python",
   "name": "python3"
  }
 },
 "nbformat": 4,
 "nbformat_minor": 4
}
