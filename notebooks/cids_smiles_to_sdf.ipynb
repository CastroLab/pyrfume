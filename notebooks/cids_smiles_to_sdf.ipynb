{
 "cells": [
  {
   "cell_type": "code",
   "execution_count": 13,
   "metadata": {},
   "outputs": [],
   "source": [
    "import os\n",
    "\n",
    "import pandas as pd\n",
    "from rdkit import Chem\n",
    "from rdkit.Chem import AllChem\n",
    "from rdkit.Chem.SaltRemover import SaltRemover\n",
    "\n",
    "import pyrfume\n",
    "from pyrfume import odorants\n",
    "from rickpy import ProgressBar"
   ]
  },
  {
   "cell_type": "code",
   "execution_count": 4,
   "metadata": {},
   "outputs": [],
   "source": [
    "file_path = os.path.join(pyrfume.DATA, 'all_cids_properties.csv')\n",
    "df = pd.read_csv(file_path).set_index('CID')"
   ]
  },
  {
   "cell_type": "markdown",
   "metadata": {},
   "source": [
    "## Make 3D optimized versions of the molecules"
   ]
  },
  {
   "cell_type": "code",
   "execution_count": 14,
   "metadata": {},
   "outputs": [
    {
     "name": "stdout",
     "output_type": "stream",
     "text": [
      "\r",
      "                                                                                        \r",
      "[-----------------------99%----------------------] 9721 out of 9722 complete (137481702)\n",
      "Exception for 134688339: Bad Conformer Id\n",
      "Exception for 98467650: Bad Conformer Id\n",
      "Exception for 98139505: Bad Conformer Id\n",
      "Exception for 98123459: Bad Conformer Id\n",
      "Exception for 98118709: Bad Conformer Id\n"
     ]
    }
   ],
   "source": [
    "# Make basic mol objects\n",
    "mols = {cid: Chem.MolFromSmiles(smi) for cid, smi in df['IsomericSMILES'].items()}\n",
    "\n",
    "# Then optimize them\n",
    "s = SaltRemover()\n",
    "p = ProgressBar(len(df))\n",
    "for i, (cid, mol) in enumerate(mols.items()):\n",
    "    p.animate(i, status=cid)\n",
    "    try:\n",
    "        mol.SetProp(\"_Name\",\"%d: %s\" % (cid, df.loc[cid, 'IsomericSMILES']))\n",
    "        mol = s.StripMol(mol, dontRemoveEverything=True)\n",
    "        mol = Chem.AddHs(mol)\n",
    "        AllChem.Compute2DCoords(mol)\n",
    "        AllChem.EmbedMolecule(mol)\n",
    "        AllChem.UFFOptimizeMolecule(mol) # Is this deterministic?  \n",
    "    except Exception as e:\n",
    "        p.log('Exception for %d: %s' % (cid, e))\n",
    "        mols[cid] = None\n",
    "    else:\n",
    "        mols[cid] = mol\n",
    "        \n",
    "# Remove CIDs without a successful optimization\n",
    "mols = {cid: mol for cid, mol in mols.items() if mol}"
   ]
  },
  {
   "cell_type": "code",
   "execution_count": 15,
   "metadata": {},
   "outputs": [
    {
     "name": "stdout",
     "output_type": "stream",
     "text": [
      "9690 mol files successfully optimized from 9722 CIDs\n"
     ]
    }
   ],
   "source": [
    "print(\"%d mol files successfully optimized from %d CIDs\" % (len(mols), len(df)))"
   ]
  },
  {
   "cell_type": "markdown",
   "metadata": {},
   "source": [
    "## Write to an SDF file"
   ]
  },
  {
   "cell_type": "code",
   "execution_count": 18,
   "metadata": {},
   "outputs": [],
   "source": [
    "file_path = os.path.join(pyrfume.DATA, 'all_cids.sdf')\n",
    "f = Chem.SDWriter(file_path)\n",
    "for cid, mol in mols.items():\n",
    "    f.write(mol)\n",
    "f.close()"
   ]
  },
  {
   "cell_type": "code",
   "execution_count": 25,
   "metadata": {},
   "outputs": [],
   "source": [
    "# Write the last molecule to a mol file\n",
    "mol_block = Chem.MolToMolBlock(mol)\n",
    "file_path = os.path.join(pyrfume.DATA, 'random.mol')\n",
    "with open(file_path,'w+') as f:\n",
    "    print(mol_block, \n",
    "          file=f)"
   ]
  }
 ],
 "metadata": {
  "kernelspec": {
   "display_name": "Python 3",
   "language": "python",
   "name": "python3"
  },
  "language_info": {
   "codemirror_mode": {
    "name": "ipython",
    "version": 3
   },
   "file_extension": ".py",
   "mimetype": "text/x-python",
   "name": "python",
   "nbconvert_exporter": "python",
   "pygments_lexer": "ipython3",
   "version": "3.6.8"
  }
 },
 "nbformat": 4,
 "nbformat_minor": 2
}
