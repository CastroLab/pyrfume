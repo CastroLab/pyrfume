{
 "cells": [
  {
   "cell_type": "markdown",
   "metadata": {},
   "source": [
    "## Turn raw Dragon features into cleaned, imputed, features which are either min-max scaled or standardized"
   ]
  },
  {
   "cell_type": "code",
   "execution_count": 3,
   "metadata": {},
   "outputs": [],
   "source": [
    "import warnings\n",
    "warnings.filterwarnings(\"ignore\", category=FutureWarning)\n",
    "\n",
    "from pyrfume import features"
   ]
  },
  {
   "cell_type": "code",
   "execution_count": 4,
   "metadata": {},
   "outputs": [
    {
     "data": {
      "text/plain": [
       "(9694, 4886)"
      ]
     },
     "execution_count": 4,
     "metadata": {},
     "output_type": "execute_result"
    }
   ],
   "source": [
    "df = features.load_dragon()\n",
    "df.shape"
   ]
  },
  {
   "cell_type": "code",
   "execution_count": 5,
   "metadata": {},
   "outputs": [
    {
     "data": {
      "text/plain": [
       "(9694, 4862)"
      ]
     },
     "execution_count": 5,
     "metadata": {},
     "output_type": "execute_result"
    }
   ],
   "source": [
    "df_cleaned = features.clean_features(df)\n",
    "df_cleaned.shape"
   ]
  },
  {
   "cell_type": "code",
   "execution_count": 6,
   "metadata": {},
   "outputs": [
    {
     "data": {
      "text/plain": [
       "(9694, 4862)"
      ]
     },
     "execution_count": 6,
     "metadata": {},
     "output_type": "execute_result"
    }
   ],
   "source": [
    "df_cleaned_minmaxed = features.scale_features(df_cleaned, 'minmax')\n",
    "df_cleaned_minmaxed.shape"
   ]
  },
  {
   "cell_type": "code",
   "execution_count": 7,
   "metadata": {},
   "outputs": [
    {
     "data": {
      "text/plain": [
       "(9694, 4862)"
      ]
     },
     "execution_count": 7,
     "metadata": {},
     "output_type": "execute_result"
    }
   ],
   "source": [
    "df_cleaned_standardized = features.scale_features(df_cleaned, 'standardize')\n",
    "df_cleaned_standardized.shape"
   ]
  },
  {
   "cell_type": "code",
   "execution_count": 8,
   "metadata": {},
   "outputs": [
    {
     "name": "stderr",
     "output_type": "stream",
     "text": [
      "Using TensorFlow backend.\n"
     ]
    },
    {
     "name": "stdout",
     "output_type": "stream",
     "text": [
      "Imputing row 1/9694 with 0 missing, elapsed time: 2414.279\n",
      "Imputing row 101/9694 with 0 missing, elapsed time: 2414.487\n",
      "Imputing row 201/9694 with 0 missing, elapsed time: 2414.632\n",
      "Imputing row 301/9694 with 0 missing, elapsed time: 2414.857\n",
      "Imputing row 401/9694 with 0 missing, elapsed time: 2415.075\n",
      "Imputing row 501/9694 with 0 missing, elapsed time: 2415.345\n",
      "Imputing row 601/9694 with 0 missing, elapsed time: 2415.559\n",
      "Imputing row 701/9694 with 0 missing, elapsed time: 2415.904\n",
      "Imputing row 801/9694 with 0 missing, elapsed time: 2415.906\n",
      "Imputing row 901/9694 with 0 missing, elapsed time: 2415.910\n",
      "Imputing row 1001/9694 with 0 missing, elapsed time: 2416.001\n",
      "Imputing row 1101/9694 with 0 missing, elapsed time: 2416.142\n",
      "Imputing row 1201/9694 with 0 missing, elapsed time: 2416.289\n",
      "Imputing row 1301/9694 with 0 missing, elapsed time: 2416.416\n",
      "Imputing row 1401/9694 with 0 missing, elapsed time: 2416.616\n",
      "Imputing row 1501/9694 with 0 missing, elapsed time: 2416.739\n",
      "Imputing row 1601/9694 with 0 missing, elapsed time: 2416.907\n",
      "Imputing row 1701/9694 with 0 missing, elapsed time: 2416.912\n",
      "Imputing row 1801/9694 with 0 missing, elapsed time: 2417.115\n",
      "Imputing row 1901/9694 with 0 missing, elapsed time: 2417.281\n",
      "Imputing row 2001/9694 with 0 missing, elapsed time: 2417.339\n",
      "Imputing row 2101/9694 with 0 missing, elapsed time: 2417.460\n",
      "Imputing row 2201/9694 with 0 missing, elapsed time: 2417.632\n",
      "Imputing row 2301/9694 with 1580 missing, elapsed time: 2417.812\n",
      "Imputing row 2401/9694 with 0 missing, elapsed time: 2418.385\n",
      "Imputing row 2501/9694 with 0 missing, elapsed time: 2418.507\n",
      "Imputing row 2601/9694 with 0 missing, elapsed time: 2418.861\n",
      "Imputing row 2701/9694 with 0 missing, elapsed time: 2419.162\n",
      "Imputing row 2801/9694 with 0 missing, elapsed time: 2419.164\n",
      "Imputing row 2901/9694 with 0 missing, elapsed time: 2419.300\n",
      "Imputing row 3001/9694 with 0 missing, elapsed time: 2419.302\n",
      "Imputing row 3101/9694 with 0 missing, elapsed time: 2419.768\n",
      "Imputing row 3201/9694 with 0 missing, elapsed time: 2419.907\n",
      "Imputing row 3301/9694 with 0 missing, elapsed time: 2420.027\n",
      "Imputing row 3401/9694 with 1537 missing, elapsed time: 2420.262\n",
      "Imputing row 3501/9694 with 0 missing, elapsed time: 2420.466\n",
      "Imputing row 3601/9694 with 0 missing, elapsed time: 2420.672\n",
      "Imputing row 3701/9694 with 0 missing, elapsed time: 2420.809\n",
      "Imputing row 3801/9694 with 0 missing, elapsed time: 2420.930\n",
      "Imputing row 3901/9694 with 0 missing, elapsed time: 2420.981\n",
      "Imputing row 4001/9694 with 0 missing, elapsed time: 2421.115\n",
      "Imputing row 4101/9694 with 0 missing, elapsed time: 2421.186\n",
      "Imputing row 4201/9694 with 0 missing, elapsed time: 2421.256\n",
      "Imputing row 4301/9694 with 0 missing, elapsed time: 2421.324\n",
      "Imputing row 4401/9694 with 0 missing, elapsed time: 2421.393\n",
      "Imputing row 4501/9694 with 0 missing, elapsed time: 2421.577\n",
      "Imputing row 4601/9694 with 0 missing, elapsed time: 2421.712\n",
      "Imputing row 4701/9694 with 0 missing, elapsed time: 2421.918\n",
      "Imputing row 4801/9694 with 0 missing, elapsed time: 2421.920\n",
      "Imputing row 4901/9694 with 0 missing, elapsed time: 2422.444\n",
      "Imputing row 5001/9694 with 0 missing, elapsed time: 2422.844\n",
      "Imputing row 5101/9694 with 0 missing, elapsed time: 2422.967\n",
      "Imputing row 5201/9694 with 0 missing, elapsed time: 2422.969\n",
      "Imputing row 5301/9694 with 0 missing, elapsed time: 2423.022\n",
      "Imputing row 5401/9694 with 0 missing, elapsed time: 2423.291\n",
      "Imputing row 5501/9694 with 0 missing, elapsed time: 2423.443\n",
      "Imputing row 5601/9694 with 0 missing, elapsed time: 2423.446\n",
      "Imputing row 5701/9694 with 0 missing, elapsed time: 2423.450\n",
      "Imputing row 5801/9694 with 0 missing, elapsed time: 2423.453\n",
      "Imputing row 5901/9694 with 0 missing, elapsed time: 2423.456\n",
      "Imputing row 6001/9694 with 0 missing, elapsed time: 2423.529\n",
      "Imputing row 6101/9694 with 0 missing, elapsed time: 2423.804\n",
      "Imputing row 6201/9694 with 0 missing, elapsed time: 2424.066\n",
      "Imputing row 6301/9694 with 0 missing, elapsed time: 2424.308\n",
      "Imputing row 6401/9694 with 0 missing, elapsed time: 2424.383\n",
      "Imputing row 6501/9694 with 0 missing, elapsed time: 2424.671\n",
      "Imputing row 6601/9694 with 0 missing, elapsed time: 2424.977\n",
      "Imputing row 6701/9694 with 0 missing, elapsed time: 2424.979\n",
      "Imputing row 6801/9694 with 0 missing, elapsed time: 2425.042\n",
      "Imputing row 6901/9694 with 0 missing, elapsed time: 2425.045\n",
      "Imputing row 7001/9694 with 0 missing, elapsed time: 2425.114\n",
      "Imputing row 7101/9694 with 0 missing, elapsed time: 2425.242\n",
      "Imputing row 7201/9694 with 4862 missing, elapsed time: 2425.395\n",
      "Imputing row 7301/9694 with 0 missing, elapsed time: 2425.699\n",
      "Imputing row 7401/9694 with 0 missing, elapsed time: 2425.770\n",
      "Imputing row 7501/9694 with 0 missing, elapsed time: 2425.839\n",
      "Imputing row 7601/9694 with 0 missing, elapsed time: 2426.286\n",
      "Imputing row 7701/9694 with 0 missing, elapsed time: 2426.289\n",
      "Imputing row 7801/9694 with 0 missing, elapsed time: 2426.340\n",
      "Imputing row 7901/9694 with 0 missing, elapsed time: 2426.481\n",
      "Imputing row 8001/9694 with 0 missing, elapsed time: 2426.550\n",
      "Imputing row 8101/9694 with 0 missing, elapsed time: 2426.716\n",
      "Imputing row 8201/9694 with 0 missing, elapsed time: 2426.723\n",
      "Imputing row 8301/9694 with 0 missing, elapsed time: 2426.791\n",
      "Imputing row 8401/9694 with 0 missing, elapsed time: 2427.191\n",
      "Imputing row 8501/9694 with 0 missing, elapsed time: 2427.194\n",
      "Imputing row 8601/9694 with 0 missing, elapsed time: 2427.245\n",
      "Imputing row 8701/9694 with 0 missing, elapsed time: 2427.365\n",
      "Imputing row 8801/9694 with 0 missing, elapsed time: 2427.369\n",
      "Imputing row 8901/9694 with 0 missing, elapsed time: 2427.636\n",
      "Imputing row 9001/9694 with 0 missing, elapsed time: 2427.853\n",
      "Imputing row 9101/9694 with 0 missing, elapsed time: 2427.921\n",
      "Imputing row 9201/9694 with 0 missing, elapsed time: 2428.038\n",
      "Imputing row 9301/9694 with 0 missing, elapsed time: 2428.040\n",
      "Imputing row 9401/9694 with 0 missing, elapsed time: 2428.109\n",
      "Imputing row 9501/9694 with 0 missing, elapsed time: 2428.309\n",
      "Imputing row 9601/9694 with 0 missing, elapsed time: 2428.576\n",
      "[KNN] Warning: 403546/47132228 still missing after imputation, replacing with 0\n",
      "CPU times: user 40min 26s, sys: 1.64 s, total: 40min 28s\n",
      "Wall time: 40min 31s\n"
     ]
    },
    {
     "data": {
      "text/plain": [
       "(9694, 4862)"
      ]
     },
     "execution_count": 8,
     "metadata": {},
     "output_type": "execute_result"
    }
   ],
   "source": [
    "%time df_cleaned_minmaxed_imputed = features.impute_features(df_cleaned_minmaxed)\n",
    "df_cleaned_minmaxed_imputed.shape"
   ]
  },
  {
   "cell_type": "code",
   "execution_count": 9,
   "metadata": {},
   "outputs": [],
   "source": [
    "features.save_dragon(df_cleaned_minmaxed_imputed, '-cleaned-minmaxed-imputed')"
   ]
  },
  {
   "cell_type": "code",
   "execution_count": 10,
   "metadata": {},
   "outputs": [
    {
     "name": "stdout",
     "output_type": "stream",
     "text": [
      "Imputing row 1/9694 with 0 missing, elapsed time: 2318.159\n",
      "Imputing row 101/9694 with 0 missing, elapsed time: 2318.350\n",
      "Imputing row 201/9694 with 0 missing, elapsed time: 2318.482\n",
      "Imputing row 301/9694 with 0 missing, elapsed time: 2318.675\n",
      "Imputing row 401/9694 with 0 missing, elapsed time: 2318.866\n",
      "Imputing row 501/9694 with 0 missing, elapsed time: 2319.109\n",
      "Imputing row 601/9694 with 0 missing, elapsed time: 2319.307\n",
      "Imputing row 701/9694 with 0 missing, elapsed time: 2319.627\n",
      "Imputing row 801/9694 with 0 missing, elapsed time: 2319.629\n",
      "Imputing row 901/9694 with 0 missing, elapsed time: 2319.633\n",
      "Imputing row 1001/9694 with 0 missing, elapsed time: 2319.717\n",
      "Imputing row 1101/9694 with 0 missing, elapsed time: 2319.847\n",
      "Imputing row 1201/9694 with 0 missing, elapsed time: 2319.981\n",
      "Imputing row 1301/9694 with 0 missing, elapsed time: 2320.097\n",
      "Imputing row 1401/9694 with 0 missing, elapsed time: 2320.277\n",
      "Imputing row 1501/9694 with 0 missing, elapsed time: 2320.389\n",
      "Imputing row 1601/9694 with 0 missing, elapsed time: 2320.540\n",
      "Imputing row 1701/9694 with 0 missing, elapsed time: 2320.545\n",
      "Imputing row 1801/9694 with 0 missing, elapsed time: 2320.735\n",
      "Imputing row 1901/9694 with 0 missing, elapsed time: 2320.888\n",
      "Imputing row 2001/9694 with 0 missing, elapsed time: 2320.939\n",
      "Imputing row 2101/9694 with 0 missing, elapsed time: 2321.050\n",
      "Imputing row 2201/9694 with 0 missing, elapsed time: 2321.204\n",
      "Imputing row 2301/9694 with 1580 missing, elapsed time: 2321.367\n",
      "Imputing row 2401/9694 with 0 missing, elapsed time: 2321.911\n",
      "Imputing row 2501/9694 with 0 missing, elapsed time: 2322.027\n",
      "Imputing row 2601/9694 with 0 missing, elapsed time: 2322.349\n",
      "Imputing row 2701/9694 with 0 missing, elapsed time: 2322.622\n",
      "Imputing row 2801/9694 with 0 missing, elapsed time: 2322.624\n",
      "Imputing row 2901/9694 with 0 missing, elapsed time: 2322.749\n",
      "Imputing row 3001/9694 with 0 missing, elapsed time: 2322.751\n",
      "Imputing row 3101/9694 with 0 missing, elapsed time: 2323.175\n",
      "Imputing row 3201/9694 with 0 missing, elapsed time: 2323.305\n",
      "Imputing row 3301/9694 with 0 missing, elapsed time: 2323.416\n",
      "Imputing row 3401/9694 with 1537 missing, elapsed time: 2323.629\n",
      "Imputing row 3501/9694 with 0 missing, elapsed time: 2323.816\n",
      "Imputing row 3601/9694 with 0 missing, elapsed time: 2324.010\n",
      "Imputing row 3701/9694 with 0 missing, elapsed time: 2324.137\n",
      "Imputing row 3801/9694 with 0 missing, elapsed time: 2324.248\n",
      "Imputing row 3901/9694 with 0 missing, elapsed time: 2324.293\n",
      "Imputing row 4001/9694 with 0 missing, elapsed time: 2324.418\n",
      "Imputing row 4101/9694 with 0 missing, elapsed time: 2324.485\n",
      "Imputing row 4201/9694 with 0 missing, elapsed time: 2324.548\n",
      "Imputing row 4301/9694 with 0 missing, elapsed time: 2324.612\n",
      "Imputing row 4401/9694 with 0 missing, elapsed time: 2324.676\n",
      "Imputing row 4501/9694 with 0 missing, elapsed time: 2324.845\n",
      "Imputing row 4601/9694 with 0 missing, elapsed time: 2324.970\n",
      "Imputing row 4701/9694 with 0 missing, elapsed time: 2325.160\n",
      "Imputing row 4801/9694 with 0 missing, elapsed time: 2325.162\n",
      "Imputing row 4901/9694 with 0 missing, elapsed time: 2325.647\n",
      "Imputing row 5001/9694 with 0 missing, elapsed time: 2326.009\n",
      "Imputing row 5101/9694 with 0 missing, elapsed time: 2326.118\n",
      "Imputing row 5201/9694 with 0 missing, elapsed time: 2326.121\n",
      "Imputing row 5301/9694 with 0 missing, elapsed time: 2326.166\n",
      "Imputing row 5401/9694 with 0 missing, elapsed time: 2326.399\n",
      "Imputing row 5501/9694 with 0 missing, elapsed time: 2326.540\n",
      "Imputing row 5601/9694 with 0 missing, elapsed time: 2326.543\n",
      "Imputing row 5701/9694 with 0 missing, elapsed time: 2326.547\n",
      "Imputing row 5801/9694 with 0 missing, elapsed time: 2326.549\n",
      "Imputing row 5901/9694 with 0 missing, elapsed time: 2326.552\n",
      "Imputing row 6001/9694 with 0 missing, elapsed time: 2326.619\n",
      "Imputing row 6101/9694 with 0 missing, elapsed time: 2326.867\n",
      "Imputing row 6201/9694 with 0 missing, elapsed time: 2327.105\n",
      "Imputing row 6301/9694 with 0 missing, elapsed time: 2327.317\n",
      "Imputing row 6401/9694 with 0 missing, elapsed time: 2327.385\n",
      "Imputing row 6501/9694 with 0 missing, elapsed time: 2327.645\n",
      "Imputing row 6601/9694 with 0 missing, elapsed time: 2327.921\n",
      "Imputing row 6701/9694 with 0 missing, elapsed time: 2327.923\n",
      "Imputing row 6801/9694 with 0 missing, elapsed time: 2327.982\n",
      "Imputing row 6901/9694 with 0 missing, elapsed time: 2327.985\n",
      "Imputing row 7001/9694 with 0 missing, elapsed time: 2328.050\n",
      "Imputing row 7101/9694 with 0 missing, elapsed time: 2328.169\n",
      "Imputing row 7201/9694 with 4862 missing, elapsed time: 2328.308\n",
      "Imputing row 7301/9694 with 0 missing, elapsed time: 2328.576\n",
      "Imputing row 7401/9694 with 0 missing, elapsed time: 2328.643\n",
      "Imputing row 7501/9694 with 0 missing, elapsed time: 2328.707\n",
      "Imputing row 7601/9694 with 0 missing, elapsed time: 2329.114\n",
      "Imputing row 7701/9694 with 0 missing, elapsed time: 2329.116\n",
      "Imputing row 7801/9694 with 0 missing, elapsed time: 2329.162\n",
      "Imputing row 7901/9694 with 0 missing, elapsed time: 2329.290\n",
      "Imputing row 8001/9694 with 0 missing, elapsed time: 2329.356\n",
      "Imputing row 8101/9694 with 0 missing, elapsed time: 2329.510\n",
      "Imputing row 8201/9694 with 0 missing, elapsed time: 2329.516\n",
      "Imputing row 8301/9694 with 0 missing, elapsed time: 2329.582\n",
      "Imputing row 8401/9694 with 0 missing, elapsed time: 2329.949\n",
      "Imputing row 8501/9694 with 0 missing, elapsed time: 2329.952\n",
      "Imputing row 8601/9694 with 0 missing, elapsed time: 2329.999\n",
      "Imputing row 8701/9694 with 0 missing, elapsed time: 2330.112\n",
      "Imputing row 8801/9694 with 0 missing, elapsed time: 2330.115\n",
      "Imputing row 8901/9694 with 0 missing, elapsed time: 2330.360\n",
      "Imputing row 9001/9694 with 0 missing, elapsed time: 2330.558\n",
      "Imputing row 9101/9694 with 0 missing, elapsed time: 2330.625\n",
      "Imputing row 9201/9694 with 0 missing, elapsed time: 2330.735\n",
      "Imputing row 9301/9694 with 0 missing, elapsed time: 2330.737\n",
      "Imputing row 9401/9694 with 0 missing, elapsed time: 2330.803\n",
      "Imputing row 9501/9694 with 0 missing, elapsed time: 2330.991\n",
      "Imputing row 9601/9694 with 0 missing, elapsed time: 2331.239\n",
      "[KNN] Warning: 403546/47132228 still missing after imputation, replacing with 0\n",
      "CPU times: user 38min 51s, sys: 1.25 s, total: 38min 52s\n",
      "Wall time: 38min 52s\n"
     ]
    },
    {
     "data": {
      "text/plain": [
       "(9694, 4862)"
      ]
     },
     "execution_count": 10,
     "metadata": {},
     "output_type": "execute_result"
    }
   ],
   "source": [
    "%time df_cleaned_standardized_imputed = features.impute_features(df_cleaned_standardized)\n",
    "df_cleaned_standardized_imputed.shape"
   ]
  },
  {
   "cell_type": "code",
   "execution_count": 12,
   "metadata": {},
   "outputs": [],
   "source": [
    "features.save_dragon(df_cleaned_standardized_imputed, '-cleaned-standardized-imputed')"
   ]
  },
  {
   "cell_type": "code",
   "execution_count": null,
   "metadata": {},
   "outputs": [],
   "source": []
  }
 ],
 "metadata": {
  "kernelspec": {
   "display_name": "Python 3",
   "language": "python",
   "name": "python3"
  },
  "language_info": {
   "codemirror_mode": {
    "name": "ipython",
    "version": 3
   },
   "file_extension": ".py",
   "mimetype": "text/x-python",
   "name": "python",
   "nbconvert_exporter": "python",
   "pygments_lexer": "ipython3",
   "version": "3.7.4"
  }
 },
 "nbformat": 4,
 "nbformat_minor": 4
}
