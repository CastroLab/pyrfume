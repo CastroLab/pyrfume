{
 "cells": [
  {
   "cell_type": "code",
   "execution_count": null,
   "metadata": {},
   "outputs": [],
   "source": [
    "%matplotlib inline\n",
    "import matplotlib.pyplot as plt\n",
    "import pandas as pd\n",
    "import pyrfume\n",
    "from pyrfume import features, snitz, haddad"
   ]
  },
  {
   "cell_type": "code",
   "execution_count": null,
   "metadata": {},
   "outputs": [],
   "source": [
    "# Load minmaxed, imputed Dragon features (cached from previous work) for all Pyrfume odorants\n",
    "# (Alternatively, load raw Dragon features and apply `features.clean_dragon`.)\n",
    "# Here we use minimax scaling instead of standard scaling because that is what the Snitz paper used.\n",
    "minmax_scaled_dragon = features.load_dragon(suffix='-cleaned-minmaxed-imputed')\n",
    "# Use the subset of features identified in Haddad and compute a cosine angle distance between each pair of odorants\n",
    "distances['snitz'] = snitz.get_snitz_distances(minmax_scaled_dragon)\n",
    "# Show the first 5 rows\n",
    "distances['snitz'].head()"
   ]
  },
  {
   "cell_type": "code",
   "execution_count": null,
   "metadata": {},
   "outputs": [],
   "source": [
    "# Load scaled, imputed Dragon features (cached from previous work) for all Pyrfume odorants; \n",
    "# (Alternatively, load raw Dragon features and apply `features.clean_dragon`.)  \n",
    "standard_scaled_dragon = features.load_dragon(suffix='-cleaned-standardized-imputed')\n",
    "# Use the subset of features identified in Haddad and compute a Euclidean distance between each pair of odorants\n",
    "distances['haddad'] = haddad.get_haddad_distances(standard_scaled_dragon)\n",
    "# Show the first 5 rows\n",
    "distances['haddad'].head()"
   ]
  },
  {
   "cell_type": "code",
   "execution_count": null,
   "metadata": {},
   "outputs": [],
   "source": [
    "nondiagonal = distances['haddad'].values[np.triu_indices(distances['haddad'].shape[0], 1)]\n",
    "density, bins, _ = plt.hist(nondiagonal, bins=np.linspace(0, 25, 100), density=True, cumulative=True)\n",
    "shift = (bins[1]-bins[0])/2\n",
    "haddad_density = pd.DataFrame(density, columns=['Cumulative Probability'], index=bins[:-1]+shift)\n",
    "pyrfume.save_data(haddad_density, 'haddad_2008/haddad_cumulative_probability.csv')\n",
    "\n",
    "nondiagonal = distances['snitz'].values[np.triu_indices(distances['snitz'].shape[0], 1)]\n",
    "density, bins, _ = plt.hist(nondiagonal, bins=np.linspace(0, 0.5, 100), density=True, cumulative=True)\n",
    "shift = (bins[1]-bins[0])/2\n",
    "snitz_density = pd.DataFrame(density, columns=['Cumulative Probability'], index=bins[:-1]+shift)\n",
    "pyrfume.save_data(snitz_density, 'snitz_2013/snitz_cumulative_probability.csv')"
   ]
  }
 ],
 "metadata": {
  "kernelspec": {
   "display_name": "Python 3",
   "language": "python",
   "name": "python3"
  },
  "language_info": {
   "codemirror_mode": {
    "name": "ipython",
    "version": 3
   },
   "file_extension": ".py",
   "mimetype": "text/x-python",
   "name": "python",
   "nbconvert_exporter": "python",
   "pygments_lexer": "ipython3",
   "version": "3.7.4"
  }
 },
 "nbformat": 4,
 "nbformat_minor": 4
}
